{
 "cells": [
  {
   "cell_type": "markdown",
   "metadata": {},
   "source": [
    "### 添加数据集和包文件"
   ]
  },
  {
   "cell_type": "code",
   "execution_count": 3,
   "metadata": {},
   "outputs": [],
   "source": [
    "import os\n",
    "os.environ[\"CUDA_VISIBLE_DEVICES\"] = \"6\"  # 指定使用 GPU 3"
   ]
  },
  {
   "cell_type": "code",
   "execution_count": 4,
   "metadata": {},
   "outputs": [],
   "source": [
    "import os\n",
    "import copy\n",
    "\n",
    "import torch\n",
    "import numpy as np\n",
    "import pandas as pd\n",
    "import plotly.express as px\n",
    "import matplotlib.pyplot as plt\n",
    "from datasets import Dataset\n",
    "from transformers import AutoModelForSequenceClassification, AutoTokenizer, Trainer, TrainingArguments, EvalPrediction\n",
    "from sklearn.model_selection import StratifiedKFold\n",
    "from sklearn.metrics import accuracy_score, ConfusionMatrixDisplay"
   ]
  },
  {
   "cell_type": "code",
   "execution_count": 6,
   "metadata": {},
   "outputs": [],
   "source": [
    "from transformers import AutoModel, AutoTokenizer\n",
    "\n",
    "# 加载模型\n",
    "model_0 = AutoModelForSequenceClassification.from_pretrained(\"/home/mcq2/GitHub/aes2/topic-classificatio/output/fold_0/checkpoint-812\")\n",
    "model_1 = AutoModelForSequenceClassification.from_pretrained(\"/home/mcq2/GitHub/aes2/topic-classificatio/output/fold_1/checkpoint-812\")\n",
    "\n",
    "\n",
    "# 加载分词器\n",
    "tokenizer = AutoTokenizer.from_pretrained(\"/home/mcq2/GitHub/aes2/topic-classificatio/output/fold_0/checkpoint-812\")"
   ]
  },
  {
   "cell_type": "markdown",
   "metadata": {},
   "source": [
    "## 处理数据"
   ]
  },
  {
   "cell_type": "code",
   "execution_count": 7,
   "metadata": {},
   "outputs": [],
   "source": [
    "PATH = \"/home/mcq2/GitHub/aes2/kaggle/input/learning-agency-lab-automated-essay-scoring-2/\"\n",
    "\n",
    "\n",
    "train_df = pd.read_csv(PATH + \"train.csv\")\n",
    "#data1 = pd.read_csv(PATHS.train_path)\n",
    "# persuade = pd.read_csv('/home/mcq2/GitHub/aes2/kaggle/input/additional_dataset/persuade_2.0_human_scores_demo_id_github.csv')"
   ]
  },
  {
   "cell_type": "code",
   "execution_count": null,
   "metadata": {},
   "outputs": [],
   "source": [
    "# intersection = pd.merge(train_df, persuade, on=\"full_text\", how=\"inner\")[[\"essay_id\", \"full_text\", \"score\", \"prompt_name\"]].reset_index(drop=True)\n",
    "# difference = train_df[~train_df[\"essay_id\"].isin(intersection[\"essay_id\"])].reset_index(drop=True)\n",
    "# intersection[\"score_and_prompt\"] = intersection[\"score\"].astype(str) + \"-\" + intersection[\"prompt_name\"]\n",
    "#intersection.head()\n",
    "# ## 将insertion 分为了两个部分，并且增加了一列在intersection里面\n",
    "# intersection[\"fold\"] = None\n",
    "# splitter = StratifiedKFold(n_splits=2, shuffle=True, random_state=42)\n",
    "# folds = list(splitter.split(X=np.zeros(len(intersection)), y=intersection[\"score_and_prompt\"].values))\n",
    "# for fold_idx, (_, val_idx) in enumerate(folds):\n",
    "#     intersection.loc[val_idx, \"fold\"] = fold_idx"
   ]
  },
  {
   "cell_type": "code",
   "execution_count": 5,
   "metadata": {},
   "outputs": [
    {
     "ename": "NameError",
     "evalue": "name 'prompt_to_id' is not defined",
     "output_type": "error",
     "traceback": [
      "\u001b[0;31m---------------------------------------------------------------------------\u001b[0m",
      "\u001b[0;31mNameError\u001b[0m                                 Traceback (most recent call last)",
      "Cell \u001b[0;32mIn[5], line 4\u001b[0m\n\u001b[1;32m      1\u001b[0m \u001b[38;5;66;03m# intersection[\"label\"] =  intersection[\"prompt_name\"].astype(\"category\").cat.codes\u001b[39;00m\n\u001b[1;32m      2\u001b[0m \u001b[38;5;66;03m# ## 建立一个pd, prompt_to_id， 内容为关键词和它对应的数值\u001b[39;00m\n\u001b[1;32m      3\u001b[0m \u001b[38;5;66;03m# prompt_to_id = intersection.drop_duplicates(subset=(\"prompt_name\", \"label\"))[[\"prompt_name\", \"label\"]]\u001b[39;00m\n\u001b[0;32m----> 4\u001b[0m label2id \u001b[38;5;241m=\u001b[39m {row[\u001b[38;5;124m\"\u001b[39m\u001b[38;5;124mprompt_name\u001b[39m\u001b[38;5;124m\"\u001b[39m]: row[\u001b[38;5;124m\"\u001b[39m\u001b[38;5;124mlabel\u001b[39m\u001b[38;5;124m\"\u001b[39m] \u001b[38;5;28;01mfor\u001b[39;00m _, row \u001b[38;5;129;01min\u001b[39;00m \u001b[43mprompt_to_id\u001b[49m\u001b[38;5;241m.\u001b[39miterrows()}\n\u001b[1;32m      5\u001b[0m id2label \u001b[38;5;241m=\u001b[39m {row[\u001b[38;5;124m\"\u001b[39m\u001b[38;5;124mlabel\u001b[39m\u001b[38;5;124m\"\u001b[39m]: row[\u001b[38;5;124m\"\u001b[39m\u001b[38;5;124mprompt_name\u001b[39m\u001b[38;5;124m\"\u001b[39m] \u001b[38;5;28;01mfor\u001b[39;00m _, row \u001b[38;5;129;01min\u001b[39;00m prompt_to_id\u001b[38;5;241m.\u001b[39miterrows()}\n",
      "\u001b[0;31mNameError\u001b[0m: name 'prompt_to_id' is not defined"
     ]
    }
   ],
   "source": [
    "# intersection[\"label\"] =  intersection[\"prompt_name\"].astype(\"category\").cat.codes\n",
    "# ## 建立一个pd, prompt_to_id， 内容为关键词和它对应的数值\n",
    "# prompt_to_id = intersection.drop_duplicates(subset=(\"prompt_name\", \"label\"))[[\"prompt_name\", \"label\"]]\n",
    "# label2id = {row[\"prompt_name\"]: row[\"label\"] for _, row in prompt_to_id.iterrows()}\n",
    "# id2label = {row[\"label\"]: row[\"prompt_name\"] for _, row in prompt_to_id.iterrows()}"
   ]
  },
  {
   "cell_type": "code",
   "execution_count": 8,
   "metadata": {},
   "outputs": [
    {
     "data": {
      "application/vnd.jupyter.widget-view+json": {
       "model_id": "046d2fa8e5dd4a9fb9156c7bce6da638",
       "version_major": 2,
       "version_minor": 0
      },
      "text/plain": [
       "Map:   0%|          | 0/17307 [00:00<?, ? examples/s]"
      ]
     },
     "metadata": {},
     "output_type": "display_data"
    }
   ],
   "source": [
    "#intersection_ds = Dataset.from_pandas(intersection)\n",
    "diff_ds = Dataset.from_pandas(train_df)\n",
    "# intersection_ds = intersection_ds.map(lambda i: tokenizer(i[\"full_text\"], max_length=1024, truncation=True), batched=True)\n",
    "diff_ds = diff_ds.map(lambda i: tokenizer(i[\"full_text\"], max_length=1024, truncation=True), batched=True)"
   ]
  },
  {
   "cell_type": "markdown",
   "metadata": {},
   "source": [
    "### 添加模型文件"
   ]
  },
  {
   "cell_type": "code",
   "execution_count": 9,
   "metadata": {},
   "outputs": [
    {
     "name": "stderr",
     "output_type": "stream",
     "text": [
      "/home/mcq2/anaconda3/envs/aes/lib/python3.10/site-packages/transformers/training_args.py:1474: FutureWarning: `evaluation_strategy` is deprecated and will be removed in version 4.46 of 🤗 Transformers. Use `eval_strategy` instead\n",
      "  warnings.warn(\n"
     ]
    }
   ],
   "source": [
    "def compute_metrics(eval_pred: EvalPrediction) -> dict[str, float]:\n",
    "    predictions = eval_pred.predictions\n",
    "    y_true = eval_pred.label_ids\n",
    "    y_pred = predictions.argmax(-1)\n",
    "    acc = accuracy_score(y_true, y_pred)\n",
    "    return {\"acc\": acc}\n",
    "\n",
    "args = TrainingArguments(\n",
    "    output_dir=\"output\",\n",
    "    report_to=\"none\",\n",
    "    evaluation_strategy=\"epoch\",\n",
    "    save_strategy=\"epoch\",\n",
    "    per_device_train_batch_size=4,\n",
    "    gradient_accumulation_steps=2,\n",
    "    per_device_eval_batch_size=8,\n",
    "    learning_rate=1e-5,\n",
    "    lr_scheduler_type=\"constant\",\n",
    "    warmup_ratio=0.0,\n",
    "    num_train_epochs=1,\n",
    "    weight_decay=0.01,\n",
    "    optim=\"adamw_torch\",\n",
    "    fp16=torch.cuda.is_available()\n",
    ")"
   ]
  },
  {
   "cell_type": "code",
   "execution_count": 10,
   "metadata": {},
   "outputs": [],
   "source": [
    "eval_ds = diff_ds\n",
    "train_ds = diff_ds"
   ]
  },
  {
   "cell_type": "code",
   "execution_count": 11,
   "metadata": {},
   "outputs": [],
   "source": [
    "trainer_0 = Trainer(\n",
    "        args=args, \n",
    "        model=model_0,\n",
    "        train_dataset=train_ds, \n",
    "        eval_dataset=eval_ds, \n",
    "        tokenizer=tokenizer, \n",
    "        compute_metrics=compute_metrics\n",
    "    )\n",
    "\n",
    "trainer_1 = Trainer(\n",
    "        args=args, \n",
    "        model=model_1,\n",
    "        train_dataset=train_ds, \n",
    "        eval_dataset=eval_ds, \n",
    "        tokenizer=tokenizer, \n",
    "        compute_metrics=compute_metrics\n",
    "    )\n"
   ]
  },
  {
   "cell_type": "markdown",
   "metadata": {},
   "source": [
    "### 预测topic分类"
   ]
  },
  {
   "cell_type": "code",
   "execution_count": 10,
   "metadata": {},
   "outputs": [
    {
     "data": {
      "text/html": [],
      "text/plain": [
       "<IPython.core.display.HTML object>"
      ]
     },
     "metadata": {},
     "output_type": "display_data"
    },
    {
     "data": {
      "text/html": [],
      "text/plain": [
       "<IPython.core.display.HTML object>"
      ]
     },
     "metadata": {},
     "output_type": "display_data"
    }
   ],
   "source": [
    "test_preds_0 = trainer_0.predict(diff_ds)\n",
    "test_preds_1 = trainer_1.predict(diff_ds)"
   ]
  },
  {
   "cell_type": "code",
   "execution_count": 11,
   "metadata": {},
   "outputs": [],
   "source": [
    "predictions = []\n",
    "predictions.append(test_preds_0.predictions)\n",
    "predictions.append(test_preds_1.predictions)"
   ]
  },
  {
   "cell_type": "code",
   "execution_count": 12,
   "metadata": {},
   "outputs": [],
   "source": [
    "predictions = np.stack(predictions, axis=0).mean(axis=0)# 平均两个fold的预测值"
   ]
  },
  {
   "cell_type": "code",
   "execution_count": 13,
   "metadata": {},
   "outputs": [],
   "source": [
    "predictions = predictions.argmax(-1)"
   ]
  },
  {
   "cell_type": "code",
   "execution_count": 14,
   "metadata": {},
   "outputs": [
    {
     "data": {
      "text/html": [
       "<div>\n",
       "<style scoped>\n",
       "    .dataframe tbody tr th:only-of-type {\n",
       "        vertical-align: middle;\n",
       "    }\n",
       "\n",
       "    .dataframe tbody tr th {\n",
       "        vertical-align: top;\n",
       "    }\n",
       "\n",
       "    .dataframe thead th {\n",
       "        text-align: right;\n",
       "    }\n",
       "</style>\n",
       "<table border=\"1\" class=\"dataframe\">\n",
       "  <thead>\n",
       "    <tr style=\"text-align: right;\">\n",
       "      <th></th>\n",
       "      <th>essay_id</th>\n",
       "      <th>topic</th>\n",
       "    </tr>\n",
       "  </thead>\n",
       "  <tbody>\n",
       "    <tr>\n",
       "      <th>0</th>\n",
       "      <td>000d118</td>\n",
       "      <td>1</td>\n",
       "    </tr>\n",
       "    <tr>\n",
       "      <th>1</th>\n",
       "      <td>000fe60</td>\n",
       "      <td>6</td>\n",
       "    </tr>\n",
       "    <tr>\n",
       "      <th>2</th>\n",
       "      <td>001ab80</td>\n",
       "      <td>3</td>\n",
       "    </tr>\n",
       "    <tr>\n",
       "      <th>3</th>\n",
       "      <td>001bdc0</td>\n",
       "      <td>4</td>\n",
       "    </tr>\n",
       "    <tr>\n",
       "      <th>4</th>\n",
       "      <td>002ba53</td>\n",
       "      <td>2</td>\n",
       "    </tr>\n",
       "    <tr>\n",
       "      <th>...</th>\n",
       "      <td>...</td>\n",
       "      <td>...</td>\n",
       "    </tr>\n",
       "    <tr>\n",
       "      <th>17302</th>\n",
       "      <td>ffd378d</td>\n",
       "      <td>4</td>\n",
       "    </tr>\n",
       "    <tr>\n",
       "      <th>17303</th>\n",
       "      <td>ffddf1f</td>\n",
       "      <td>5</td>\n",
       "    </tr>\n",
       "    <tr>\n",
       "      <th>17304</th>\n",
       "      <td>fff016d</td>\n",
       "      <td>0</td>\n",
       "    </tr>\n",
       "    <tr>\n",
       "      <th>17305</th>\n",
       "      <td>fffb49b</td>\n",
       "      <td>4</td>\n",
       "    </tr>\n",
       "    <tr>\n",
       "      <th>17306</th>\n",
       "      <td>fffed3e</td>\n",
       "      <td>4</td>\n",
       "    </tr>\n",
       "  </tbody>\n",
       "</table>\n",
       "<p>17307 rows × 2 columns</p>\n",
       "</div>"
      ],
      "text/plain": [
       "      essay_id  topic\n",
       "0      000d118      1\n",
       "1      000fe60      6\n",
       "2      001ab80      3\n",
       "3      001bdc0      4\n",
       "4      002ba53      2\n",
       "...        ...    ...\n",
       "17302  ffd378d      4\n",
       "17303  ffddf1f      5\n",
       "17304  fff016d      0\n",
       "17305  fffb49b      4\n",
       "17306  fffed3e      4\n",
       "\n",
       "[17307 rows x 2 columns]"
      ]
     },
     "execution_count": 14,
     "metadata": {},
     "output_type": "execute_result"
    }
   ],
   "source": [
    "essay_id = diff_ds[\"essay_id\"]\n",
    "  # convert prompt id back to prompt name\n",
    "result_df = pd.DataFrame({\"essay_id\": essay_id, \"topic\":predictions })\n",
    "result_df"
   ]
  }
 ],
 "metadata": {
  "kernelspec": {
   "display_name": "aes",
   "language": "python",
   "name": "python3"
  },
  "language_info": {
   "codemirror_mode": {
    "name": "ipython",
    "version": 3
   },
   "file_extension": ".py",
   "mimetype": "text/x-python",
   "name": "python",
   "nbconvert_exporter": "python",
   "pygments_lexer": "ipython3",
   "version": "3.10.14"
  }
 },
 "nbformat": 4,
 "nbformat_minor": 2
}
