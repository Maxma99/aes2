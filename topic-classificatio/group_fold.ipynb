{
 "cells": [
  {
   "cell_type": "code",
   "execution_count": 1,
   "metadata": {},
   "outputs": [],
   "source": [
    "import os\n",
    "os.environ[\"CUDA_VISIBLE_DEVICES\"] = \"5,6\"  # 指定使用 GPU 3"
   ]
  },
  {
   "cell_type": "code",
   "execution_count": 2,
   "metadata": {},
   "outputs": [
    {
     "name": "stderr",
     "output_type": "stream",
     "text": [
      "2024-06-23 21:03:10.296408: I tensorflow/core/util/port.cc:113] oneDNN custom operations are on. You may see slightly different numerical results due to floating-point round-off errors from different computation orders. To turn them off, set the environment variable `TF_ENABLE_ONEDNN_OPTS=0`.\n",
      "2024-06-23 21:03:10.335958: E external/local_xla/xla/stream_executor/cuda/cuda_dnn.cc:9261] Unable to register cuDNN factory: Attempting to register factory for plugin cuDNN when one has already been registered\n",
      "2024-06-23 21:03:10.335993: E external/local_xla/xla/stream_executor/cuda/cuda_fft.cc:607] Unable to register cuFFT factory: Attempting to register factory for plugin cuFFT when one has already been registered\n",
      "2024-06-23 21:03:10.337201: E external/local_xla/xla/stream_executor/cuda/cuda_blas.cc:1515] Unable to register cuBLAS factory: Attempting to register factory for plugin cuBLAS when one has already been registered\n",
      "2024-06-23 21:03:10.344741: I tensorflow/core/platform/cpu_feature_guard.cc:182] This TensorFlow binary is optimized to use available CPU instructions in performance-critical operations.\n",
      "To enable the following instructions: AVX2 AVX512F AVX512_VNNI FMA, in other operations, rebuild TensorFlow with the appropriate compiler flags.\n",
      "2024-06-23 21:03:11.125593: W tensorflow/compiler/tf2tensorrt/utils/py_utils.cc:38] TF-TRT Warning: Could not find TensorRT\n"
     ]
    }
   ],
   "source": [
    "import topicfeaturesmall"
   ]
  },
  {
   "cell_type": "code",
   "execution_count": 3,
   "metadata": {},
   "outputs": [
    {
     "data": {
      "application/vnd.jupyter.widget-view+json": {
       "model_id": "5eae13d3de5a40269a683e492a782ca9",
       "version_major": 2,
       "version_minor": 0
      },
      "text/plain": [
       "Map:   0%|          | 0/17307 [00:00<?, ? examples/s]"
      ]
     },
     "metadata": {},
     "output_type": "display_data"
    },
    {
     "name": "stderr",
     "output_type": "stream",
     "text": [
      "/home/mcq2/anaconda3/envs/aes/lib/python3.10/site-packages/transformers/training_args.py:1474: FutureWarning: `evaluation_strategy` is deprecated and will be removed in version 4.46 of 🤗 Transformers. Use `eval_strategy` instead\n",
      "  warnings.warn(\n"
     ]
    },
    {
     "data": {
      "text/html": [],
      "text/plain": [
       "<IPython.core.display.HTML object>"
      ]
     },
     "metadata": {},
     "output_type": "display_data"
    },
    {
     "data": {
      "text/html": [],
      "text/plain": [
       "<IPython.core.display.HTML object>"
      ]
     },
     "metadata": {},
     "output_type": "display_data"
    }
   ],
   "source": [
    "import numpy as np\n",
    "from sklearn.model_selection import GroupKFold\n",
    "import pandas as pd\n",
    "\n",
    "PATH = \"/home/mcq2/GitHub/aes2/kaggle/input/learning-agency-lab-automated-essay-scoring-2/\"\n",
    "train = pd.read_csv(PATH + \"train.csv\")\n",
    "\n",
    "# X = np.array([[1, 2], [3, 4], [5, 6], [7, 8], [9, 10], [11, 12]])\n",
    "# y = np.array([1, 2, 3, 4, 5, 6])\n",
    "topic = topicfeaturesmall.predict_chunk(train)\n",
    "#group = topic['topic']\n"
   ]
  },
  {
   "cell_type": "code",
   "execution_count": 4,
   "metadata": {},
   "outputs": [],
   "source": [
    "group = topic['topic']"
   ]
  },
  {
   "cell_type": "code",
   "execution_count": 5,
   "metadata": {},
   "outputs": [
    {
     "data": {
      "text/plain": [
       "0        1\n",
       "1        6\n",
       "2        3\n",
       "3        4\n",
       "4        2\n",
       "        ..\n",
       "17302    4\n",
       "17303    5\n",
       "17304    0\n",
       "17305    4\n",
       "17306    4\n",
       "Name: topic, Length: 17307, dtype: int64"
      ]
     },
     "execution_count": 5,
     "metadata": {},
     "output_type": "execute_result"
    }
   ],
   "source": [
    "group"
   ]
  },
  {
   "cell_type": "code",
   "execution_count": 14,
   "metadata": {},
   "outputs": [],
   "source": [
    "X = train\n",
    "y_split = train['score'].astype(int).values"
   ]
  },
  {
   "cell_type": "code",
   "execution_count": 23,
   "metadata": {},
   "outputs": [
    {
     "data": {
      "text/plain": [
       "7"
      ]
     },
     "execution_count": 23,
     "metadata": {},
     "output_type": "execute_result"
    }
   ],
   "source": [
    "group_kfold.get_n_splits(X, y_split, group)"
   ]
  },
  {
   "cell_type": "code",
   "execution_count": 26,
   "metadata": {},
   "outputs": [
    {
     "name": "stdout",
     "output_type": "stream",
     "text": [
      "Fold 0:\n",
      "  Train: index=[    0     1     3 ... 17304 17305 17306], group=0        1\n",
      "1        6\n",
      "3        4\n",
      "4        2\n",
      "5        2\n",
      "        ..\n",
      "17302    4\n",
      "17303    5\n",
      "17304    0\n",
      "17305    4\n",
      "17306    4\n",
      "Name: topic, Length: 13822, dtype: int64\n",
      "  Test:  index=[    2    10    12 ... 17282 17286 17291], group=2        3\n",
      "10       3\n",
      "12       3\n",
      "14       3\n",
      "19       3\n",
      "        ..\n",
      "17271    3\n",
      "17277    3\n",
      "17282    3\n",
      "17286    3\n",
      "17291    3\n",
      "Name: topic, Length: 3485, dtype: int64\n",
      "Fold 1:\n",
      "  Train: index=[    0     1     2 ... 17304 17305 17306], group=0        1\n",
      "1        6\n",
      "2        3\n",
      "3        4\n",
      "4        2\n",
      "        ..\n",
      "17300    0\n",
      "17302    4\n",
      "17304    0\n",
      "17305    4\n",
      "17306    4\n",
      "Name: topic, Length: 14261, dtype: int64\n",
      "  Test:  index=[    6    16    21 ... 17292 17301 17303], group=6        5\n",
      "16       5\n",
      "21       5\n",
      "24       5\n",
      "28       5\n",
      "        ..\n",
      "17284    5\n",
      "17290    5\n",
      "17292    5\n",
      "17301    5\n",
      "17303    5\n",
      "Name: topic, Length: 3046, dtype: int64\n",
      "Fold 2:\n",
      "  Train: index=[    0     1     2 ... 17301 17303 17304], group=0        1\n",
      "1        6\n",
      "2        3\n",
      "4        2\n",
      "5        2\n",
      "        ..\n",
      "17298    0\n",
      "17300    0\n",
      "17301    5\n",
      "17303    5\n",
      "17304    0\n",
      "Name: topic, Length: 14291, dtype: int64\n",
      "  Test:  index=[    3     8    20 ... 17302 17305 17306], group=3        4\n",
      "8        4\n",
      "20       4\n",
      "25       4\n",
      "27       4\n",
      "        ..\n",
      "17297    4\n",
      "17299    4\n",
      "17302    4\n",
      "17305    4\n",
      "17306    4\n",
      "Name: topic, Length: 3016, dtype: int64\n",
      "Fold 3:\n",
      "  Train: index=[    0     2     3 ... 17304 17305 17306], group=0        1\n",
      "2        3\n",
      "3        4\n",
      "4        2\n",
      "5        2\n",
      "        ..\n",
      "17302    4\n",
      "17303    5\n",
      "17304    0\n",
      "17305    4\n",
      "17306    4\n",
      "Name: topic, Length: 15216, dtype: int64\n",
      "  Test:  index=[    1    50    56 ... 17264 17270 17287], group=1        6\n",
      "50       6\n",
      "56       6\n",
      "59       6\n",
      "64       6\n",
      "        ..\n",
      "17261    6\n",
      "17263    6\n",
      "17264    6\n",
      "17270    6\n",
      "17287    6\n",
      "Name: topic, Length: 2091, dtype: int64\n",
      "Fold 4:\n",
      "  Train: index=[    0     1     2 ... 17304 17305 17306], group=0        1\n",
      "1        6\n",
      "2        3\n",
      "3        4\n",
      "6        5\n",
      "        ..\n",
      "17302    4\n",
      "17303    5\n",
      "17304    0\n",
      "17305    4\n",
      "17306    4\n",
      "Name: topic, Length: 15261, dtype: int64\n",
      "  Test:  index=[    4     5    13 ... 17260 17278 17289], group=4        2\n",
      "5        2\n",
      "13       2\n",
      "40       2\n",
      "41       2\n",
      "        ..\n",
      "17230    2\n",
      "17253    2\n",
      "17260    2\n",
      "17278    2\n",
      "17289    2\n",
      "Name: topic, Length: 2046, dtype: int64\n",
      "Fold 5:\n",
      "  Train: index=[    1     2     3 ... 17304 17305 17306], group=1        6\n",
      "2        3\n",
      "3        4\n",
      "4        2\n",
      "5        2\n",
      "        ..\n",
      "17302    4\n",
      "17303    5\n",
      "17304    0\n",
      "17305    4\n",
      "17306    4\n",
      "Name: topic, Length: 15335, dtype: int64\n",
      "  Test:  index=[    0    11    15 ... 17285 17288 17295], group=0        1\n",
      "11       1\n",
      "15       1\n",
      "18       1\n",
      "26       1\n",
      "        ..\n",
      "17276    1\n",
      "17283    1\n",
      "17285    1\n",
      "17288    1\n",
      "17295    1\n",
      "Name: topic, Length: 1972, dtype: int64\n",
      "Fold 6:\n",
      "  Train: index=[    0     1     2 ... 17303 17305 17306], group=0        1\n",
      "1        6\n",
      "2        3\n",
      "3        4\n",
      "4        2\n",
      "        ..\n",
      "17301    5\n",
      "17302    4\n",
      "17303    5\n",
      "17305    4\n",
      "17306    4\n",
      "Name: topic, Length: 15656, dtype: int64\n",
      "  Test:  index=[    7     9    17 ... 17298 17300 17304], group=7        0\n",
      "9        0\n",
      "17       0\n",
      "23       0\n",
      "30       0\n",
      "        ..\n",
      "17274    0\n",
      "17294    0\n",
      "17298    0\n",
      "17300    0\n",
      "17304    0\n",
      "Name: topic, Length: 1651, dtype: int64\n"
     ]
    }
   ],
   "source": [
    "GroupKFold(n_splits=14)\n",
    "for i, (train_index, test_index) in enumerate(group_kfold.split(X, y_split, group)):\n",
    "    print(f\"Fold {i}:\")\n",
    "    print(f\"  Train: index={train_index}, group={group[train_index]}\")\n",
    "    print(f\"  Test:  index={test_index}, group={group[test_index]}\")"
   ]
  },
  {
   "cell_type": "code",
   "execution_count": 24,
   "metadata": {},
   "outputs": [
    {
     "name": "stdout",
     "output_type": "stream",
     "text": [
      "fold 0\n",
      "fold 1\n",
      "fold 2\n",
      "fold 3\n",
      "fold 4\n",
      "fold 5\n",
      "fold 6\n"
     ]
    }
   ],
   "source": [
    "LOAD = True # re-train\n",
    "# Define the number of splits for cross-validation\n",
    "n_splits = 7\n",
    "models = []\n",
    "\n",
    "if not LOAD:\n",
    "    for i in range(n_splits):\n",
    "        models.append(lgb.Booster(model_file=f'kaggle/input/aes-lgbm/fold_{i+1}.txt'))\n",
    "else:\n",
    "    # Initialize StratifiedKFold with the specified number of splits\n",
    "    #skf = StratifiedKFold(n_splits=n_splits, shuffle=True, random_state=0)\n",
    "    group_kfold = GroupKFold(n_splits=n_splits)\n",
    "    # Lists to store scores\n",
    "    f1_scores = []\n",
    "    kappa_scores = []\n",
    "    models = []\n",
    "    predictions = []\n",
    "    #callbacks = [log_evaluation(period=25), early_stopping(stopping_rounds=75,first_metric_only=True)]\n",
    "    # Loop through each fold of the cross-validation\n",
    "    i=1\n",
    "    for i, (train_index, test_index) in enumerate(group_kfold.split(X, y_split, group)):\n",
    "        # Split the data into training and testing sets for this fold\n",
    "        print('fold',i)\n",
    "        # X_train_fold, X_test_fold = X[train_index], X[test_index]\n",
    "        # y_train_fold, y_test_fold, y_test_fold_int = y_split[train_index], y_split[test_index], y_split[test_index]\n",
    "\n",
    "        # model = lgb.LGBMRegressor(\n",
    "        #             objective = qwk_obj,\n",
    "        #             metrics = 'None',\n",
    "        #             learning_rate = 0.05,\n",
    "        #             max_depth = 5,\n",
    "        #             num_leaves = 10,\n",
    "        #             colsample_bytree=0.3,\n",
    "        #             reg_alpha = 0.7,\n",
    "        #             reg_lambda = 0.1,\n",
    "        #             n_estimators=700,\n",
    "        #             random_state=42,\n",
    "        #             extra_trees=True,\n",
    "        #             class_weight='balanced',\n",
    "        #             device='gpu',\n",
    "        #             verbosity = - 1)\n",
    "\n",
    "        # # Fit the model on the training data for this fold  \n",
    "        # predictor = model.fit(X_train_fold,\n",
    "        #                       y_train_fold,\n",
    "        #                       eval_names=['train', 'valid'],\n",
    "        #                       eval_set=[(X_train_fold, y_train_fold), (X_test_fold, y_test_fold)],\n",
    "        #                       eval_metric=quadratic_weighted_kappa,\n",
    "        #                       callbacks=callbacks\n",
    "        #                      )\n",
    "\n",
    "        # models.append(predictor)\n",
    "        # # Make predictions on the test data for this fold\n",
    "        # predictions_fold = predictor.predict(X_test_fold)\n",
    "        # predictions_fold = predictions_fold + a\n",
    "        # predictions_fold = predictions_fold.clip(1, 6).round()\n",
    "        # predictions.append(predictions_fold)\n",
    "        # # Calculate and store the F1 score for this fold\n",
    "        # f1_fold = f1_score(y_test_fold_int, predictions_fold, average='weighted')\n",
    "        # f1_scores.append(f1_fold)\n",
    "\n",
    "        # # Calculate and store the Cohen's kappa score for this fold\n",
    "        # kappa_fold = cohen_kappa_score(y_test_fold_int, predictions_fold, weights='quadratic')\n",
    "        # kappa_scores.append(kappa_fold)\n",
    "        # predictor.booster_.save_model(f'kaggle/out/aes-lgbm/fold_{i}.txt')\n",
    "\n",
    "        # print(f'F1 score across fold: {f1_fold}')\n",
    "        # print(f'Cohen kappa score across fold: {kappa_fold}')\n",
    "        # i+=1"
   ]
  },
  {
   "cell_type": "code",
   "execution_count": 25,
   "metadata": {},
   "outputs": [
    {
     "ename": "SyntaxError",
     "evalue": "invalid syntax (1611499881.py, line 1)",
     "output_type": "error",
     "traceback": [
      "\u001b[0;36m  Cell \u001b[0;32mIn[25], line 1\u001b[0;36m\u001b[0m\n\u001b[0;31m    fold 0\u001b[0m\n\u001b[0m         ^\u001b[0m\n\u001b[0;31mSyntaxError\u001b[0m\u001b[0;31m:\u001b[0m invalid syntax\n"
     ]
    }
   ],
   "source": [
    "fold 0"
   ]
  }
 ],
 "metadata": {
  "kernelspec": {
   "display_name": "aes",
   "language": "python",
   "name": "python3"
  },
  "language_info": {
   "codemirror_mode": {
    "name": "ipython",
    "version": 3
   },
   "file_extension": ".py",
   "mimetype": "text/x-python",
   "name": "python",
   "nbconvert_exporter": "python",
   "pygments_lexer": "ipython3",
   "version": "3.10.14"
  }
 },
 "nbformat": 4,
 "nbformat_minor": 2
}
