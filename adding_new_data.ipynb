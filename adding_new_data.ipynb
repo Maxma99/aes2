{
 "cells": [
  {
   "cell_type": "code",
   "execution_count": 1,
   "metadata": {},
   "outputs": [],
   "source": [
    "import pandas as pd"
   ]
  },
  {
   "cell_type": "code",
   "execution_count": 2,
   "metadata": {},
   "outputs": [],
   "source": [
    "PATH = \"kaggle/input/learning-agency-lab-automated-essay-scoring-2/\"\n",
    "\n",
    "\n",
    "data1 = pd.read_csv(PATH + \"train.csv\")\n",
    "#data1 = pd.read_csv(PATHS.train_path)\n",
    "data2 = pd.read_csv('/home/mcq/GitHub/aes2/train_data/persuade_2.0.csv')\n",
    "data2=data2[['essay_id_comp','full_text','holistic_essay_score']].rename(columns={'essay_id_comp':'essay_id','holistic_essay_score':'score'})\n",
    "\n",
    "train=pd.concat([data1,data2],axis=0)\n",
    "train=train.drop_duplicates(subset=['full_text'],keep='first').reset_index(drop=True)"
   ]
  }
 ],
 "metadata": {
  "kernelspec": {
   "display_name": "aes",
   "language": "python",
   "name": "python3"
  },
  "language_info": {
   "codemirror_mode": {
    "name": "ipython",
    "version": 3
   },
   "file_extension": ".py",
   "mimetype": "text/x-python",
   "name": "python",
   "nbconvert_exporter": "python",
   "pygments_lexer": "ipython3",
   "version": "3.10.14"
  }
 },
 "nbformat": 4,
 "nbformat_minor": 2
}
