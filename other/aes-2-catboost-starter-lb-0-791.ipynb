{
 "cells": [
  {
   "cell_type": "markdown",
   "id": "90fe5500",
   "metadata": {
    "papermill": {
     "duration": 0.014436,
     "end_time": "2024-04-26T02:00:54.514770",
     "exception": false,
     "start_time": "2024-04-26T02:00:54.500334",
     "status": "completed"
    },
    "tags": []
   },
   "source": [
    "### <div style=\"padding: 25px;color:white;margin:10;font-size:60%;text-align:left;display:fill;border-radius:10px;background-color:#FFFFFF;overflow:hidden;background-color:#FFA500\"><b><span style='color:#FFA500'></span></b> <b>1. Initial Setting</b></div>"
   ]
  },
  {
   "cell_type": "markdown",
   "id": "c17b5a36",
   "metadata": {
    "papermill": {
     "duration": 0.015049,
     "end_time": "2024-04-26T02:00:54.544567",
     "exception": false,
     "start_time": "2024-04-26T02:00:54.529518",
     "status": "completed"
    },
    "tags": []
   },
   "source": [
    "#### <b><span style='color:#FFA500'> | </span> Import Libraries</b>"
   ]
  },
  {
   "cell_type": "code",
   "execution_count": 1,
   "id": "32df4913",
   "metadata": {
    "execution": {
     "iopub.execute_input": "2024-04-26T02:00:54.576688Z",
     "iopub.status.busy": "2024-04-26T02:00:54.575854Z",
     "iopub.status.idle": "2024-04-26T02:00:59.128952Z",
     "shell.execute_reply": "2024-04-26T02:00:59.127662Z"
    },
    "papermill": {
     "duration": 4.572948,
     "end_time": "2024-04-26T02:00:59.132378",
     "exception": false,
     "start_time": "2024-04-26T02:00:54.559430",
     "status": "completed"
    },
    "tags": []
   },
   "outputs": [],
   "source": [
    "import os\n",
    "import gc \n",
    "import ctypes\n",
    "import random\n",
    "import time\n",
    "import string\n",
    "import re\n",
    "from tqdm import tqdm\n",
    "import pickle\n",
    "\n",
    "import pandas as pd, numpy as np\n",
    "import polars as pl # For Feature Engineering\n",
    "\n",
    "import matplotlib.pyplot as plt\n",
    "import seaborn as sns \n",
    "\n",
    "import nltk\n",
    "from nltk.tokenize import word_tokenize, sent_tokenize\n",
    "from nltk.corpus import words\n",
    "from sklearn.metrics import confusion_matrix, ConfusionMatrixDisplay\n",
    "\n",
    "from sklearn.feature_extraction.text import TfidfVectorizer, CountVectorizer\n",
    "from sklearn.ensemble import VotingRegressor\n",
    "\n",
    "os.environ['CUDA_VISIBLE_DEVICES'] = '0,1' # For GPU T4x2\n",
    "\n",
    "import warnings \n",
    "warnings.filterwarnings('ignore')"
   ]
  },
  {
   "cell_type": "markdown",
   "id": "7e03b8e7",
   "metadata": {
    "papermill": {
     "duration": 0.015684,
     "end_time": "2024-04-26T02:00:59.163077",
     "exception": false,
     "start_time": "2024-04-26T02:00:59.147393",
     "status": "completed"
    },
    "tags": []
   },
   "source": [
    "#### <b><span style='color:#FFA500'> | </span> Configure</b>"
   ]
  },
  {
   "cell_type": "code",
   "execution_count": 2,
   "id": "f49728b7",
   "metadata": {
    "execution": {
     "iopub.execute_input": "2024-04-26T02:00:59.194548Z",
     "iopub.status.busy": "2024-04-26T02:00:59.193990Z",
     "iopub.status.idle": "2024-04-26T02:00:59.200354Z",
     "shell.execute_reply": "2024-04-26T02:00:59.198713Z"
    },
    "papermill": {
     "duration": 0.0256,
     "end_time": "2024-04-26T02:00:59.203189",
     "exception": false,
     "start_time": "2024-04-26T02:00:59.177589",
     "status": "completed"
    },
    "tags": []
   },
   "outputs": [],
   "source": [
    "class CFG:\n",
    "    SEED = 2024\n",
    "    VER = 1\n",
    "    LOAD_MODELS_FROM = '/kaggle/input/aes2-cat/'\n",
    "    LOAD_FEATURES_FROM = '/kaggle/input/aes2-cat/train_feats_1.csv'\n",
    "    BASE_PATH = '/kaggle/input/learning-agency-lab-automated-essay-scoring-2/'"
   ]
  },
  {
   "cell_type": "markdown",
   "id": "48178ba6",
   "metadata": {
    "papermill": {
     "duration": 0.014988,
     "end_time": "2024-04-26T02:00:59.233608",
     "exception": false,
     "start_time": "2024-04-26T02:00:59.218620",
     "status": "completed"
    },
    "tags": []
   },
   "source": [
    "#### <b><span style='color:#FFA500'> | </span> Clean Memory</b>"
   ]
  },
  {
   "cell_type": "code",
   "execution_count": 3,
   "id": "92fc50d5",
   "metadata": {
    "execution": {
     "iopub.execute_input": "2024-04-26T02:00:59.266470Z",
     "iopub.status.busy": "2024-04-26T02:00:59.264774Z",
     "iopub.status.idle": "2024-04-26T02:00:59.428258Z",
     "shell.execute_reply": "2024-04-26T02:00:59.427208Z"
    },
    "papermill": {
     "duration": 0.182589,
     "end_time": "2024-04-26T02:00:59.430917",
     "exception": false,
     "start_time": "2024-04-26T02:00:59.248328",
     "status": "completed"
    },
    "tags": []
   },
   "outputs": [],
   "source": [
    "Clean = True\n",
    "\n",
    "def clean_memory():\n",
    "    if Clean:\n",
    "        ctypes.CDLL('libc.so.6').malloc_trim(0)\n",
    "        gc.collect()\n",
    "        \n",
    "clean_memory()  "
   ]
  },
  {
   "cell_type": "markdown",
   "id": "83543048",
   "metadata": {
    "papermill": {
     "duration": 0.014887,
     "end_time": "2024-04-26T02:00:59.461097",
     "exception": false,
     "start_time": "2024-04-26T02:00:59.446210",
     "status": "completed"
    },
    "tags": []
   },
   "source": [
    "#### <b><span style='color:#FFA500'> | </span> Seed Everything</b>"
   ]
  },
  {
   "cell_type": "code",
   "execution_count": 4,
   "id": "3893a499",
   "metadata": {
    "execution": {
     "iopub.execute_input": "2024-04-26T02:00:59.494165Z",
     "iopub.status.busy": "2024-04-26T02:00:59.492854Z",
     "iopub.status.idle": "2024-04-26T02:00:59.499340Z",
     "shell.execute_reply": "2024-04-26T02:00:59.498326Z"
    },
    "papermill": {
     "duration": 0.0256,
     "end_time": "2024-04-26T02:00:59.501976",
     "exception": false,
     "start_time": "2024-04-26T02:00:59.476376",
     "status": "completed"
    },
    "tags": []
   },
   "outputs": [],
   "source": [
    "def seed_everything(): # To proudce simliar result in each run \n",
    "    random.seed(CFG.SEED)\n",
    "    np.random.seed(CFG.SEED)\n",
    "    os.environ['PYTHONHASHSEED'] = str(CFG.SEED)\n",
    "    \n",
    "seed_everything()"
   ]
  },
  {
   "cell_type": "markdown",
   "id": "43522909",
   "metadata": {
    "papermill": {
     "duration": 0.015515,
     "end_time": "2024-04-26T02:00:59.534577",
     "exception": false,
     "start_time": "2024-04-26T02:00:59.519062",
     "status": "completed"
    },
    "tags": []
   },
   "source": [
    "# <div style=\"padding: 25px;color:white;margin:10;font-size:60%;text-align:left;display:fill;border-radius:10px;background-color:#FFFFFF;overflow:hidden;background-color:#FFA500\"><b><span style='color:#FFA500'></span></b> <b>2. Road and Read Data</b></div>"
   ]
  },
  {
   "cell_type": "code",
   "execution_count": 5,
   "id": "cb0a21fa",
   "metadata": {
    "execution": {
     "iopub.execute_input": "2024-04-26T02:00:59.569242Z",
     "iopub.status.busy": "2024-04-26T02:00:59.568339Z",
     "iopub.status.idle": "2024-04-26T02:00:59.574279Z",
     "shell.execute_reply": "2024-04-26T02:00:59.573299Z"
    },
    "papermill": {
     "duration": 0.02662,
     "end_time": "2024-04-26T02:00:59.577155",
     "exception": false,
     "start_time": "2024-04-26T02:00:59.550535",
     "status": "completed"
    },
    "tags": []
   },
   "outputs": [],
   "source": [
    "def seed_everything(): # To proudce simliar result in each run \n",
    "    random.seed(CFG.SEED)\n",
    "    np.random.seed(CFG.SEED)\n",
    "    os.environ['PYTHONHASHSEED'] = str(CFG.SEED)\n",
    "    \n",
    "seed_everything()"
   ]
  },
  {
   "cell_type": "code",
   "execution_count": 6,
   "id": "3e5da59a",
   "metadata": {
    "execution": {
     "iopub.execute_input": "2024-04-26T02:00:59.609399Z",
     "iopub.status.busy": "2024-04-26T02:00:59.608591Z",
     "iopub.status.idle": "2024-04-26T02:01:00.725068Z",
     "shell.execute_reply": "2024-04-26T02:01:00.720722Z"
    },
    "papermill": {
     "duration": 1.135356,
     "end_time": "2024-04-26T02:01:00.728234",
     "exception": false,
     "start_time": "2024-04-26T02:00:59.592878",
     "status": "completed"
    },
    "tags": []
   },
   "outputs": [
    {
     "name": "stdout",
     "output_type": "stream",
     "text": [
      "Shape of Train:  (17307, 3)\n"
     ]
    },
    {
     "data": {
      "text/html": [
       "<div>\n",
       "<style scoped>\n",
       "    .dataframe tbody tr th:only-of-type {\n",
       "        vertical-align: middle;\n",
       "    }\n",
       "\n",
       "    .dataframe tbody tr th {\n",
       "        vertical-align: top;\n",
       "    }\n",
       "\n",
       "    .dataframe thead th {\n",
       "        text-align: right;\n",
       "    }\n",
       "</style>\n",
       "<table border=\"1\" class=\"dataframe\">\n",
       "  <thead>\n",
       "    <tr style=\"text-align: right;\">\n",
       "      <th></th>\n",
       "      <th>essay_id</th>\n",
       "      <th>full_text</th>\n",
       "      <th>score</th>\n",
       "    </tr>\n",
       "  </thead>\n",
       "  <tbody>\n",
       "    <tr>\n",
       "      <th>0</th>\n",
       "      <td>000d118</td>\n",
       "      <td>Many people have car where they live. The thin...</td>\n",
       "      <td>3</td>\n",
       "    </tr>\n",
       "    <tr>\n",
       "      <th>1</th>\n",
       "      <td>000fe60</td>\n",
       "      <td>I am a scientist at NASA that is discussing th...</td>\n",
       "      <td>3</td>\n",
       "    </tr>\n",
       "    <tr>\n",
       "      <th>2</th>\n",
       "      <td>001ab80</td>\n",
       "      <td>People always wish they had the same technolog...</td>\n",
       "      <td>4</td>\n",
       "    </tr>\n",
       "    <tr>\n",
       "      <th>3</th>\n",
       "      <td>001bdc0</td>\n",
       "      <td>We all heard about Venus, the planet without a...</td>\n",
       "      <td>4</td>\n",
       "    </tr>\n",
       "    <tr>\n",
       "      <th>4</th>\n",
       "      <td>002ba53</td>\n",
       "      <td>Dear, State Senator\\n\\nThis is a letter to arg...</td>\n",
       "      <td>3</td>\n",
       "    </tr>\n",
       "  </tbody>\n",
       "</table>\n",
       "</div>"
      ],
      "text/plain": [
       "  essay_id                                          full_text  score\n",
       "0  000d118  Many people have car where they live. The thin...      3\n",
       "1  000fe60  I am a scientist at NASA that is discussing th...      3\n",
       "2  001ab80  People always wish they had the same technolog...      4\n",
       "3  001bdc0  We all heard about Venus, the planet without a...      4\n",
       "4  002ba53  Dear, State Senator\\n\\nThis is a letter to arg...      3"
      ]
     },
     "metadata": {},
     "output_type": "display_data"
    },
    {
     "name": "stdout",
     "output_type": "stream",
     "text": [
      "None\n"
     ]
    }
   ],
   "source": [
    "df_train = pd.read_csv(CFG.BASE_PATH + 'train.csv')\n",
    "df_train = df_train.sort_values(by='essay_id')\n",
    "\n",
    "print('Shape of Train: ', df_train.shape)\n",
    "print(display(df_train.head()))"
   ]
  },
  {
   "cell_type": "code",
   "execution_count": 7,
   "id": "e67a8e8f",
   "metadata": {
    "execution": {
     "iopub.execute_input": "2024-04-26T02:01:00.761355Z",
     "iopub.status.busy": "2024-04-26T02:01:00.760954Z",
     "iopub.status.idle": "2024-04-26T02:01:00.782305Z",
     "shell.execute_reply": "2024-04-26T02:01:00.780722Z"
    },
    "papermill": {
     "duration": 0.041413,
     "end_time": "2024-04-26T02:01:00.785515",
     "exception": false,
     "start_time": "2024-04-26T02:01:00.744102",
     "status": "completed"
    },
    "tags": []
   },
   "outputs": [
    {
     "name": "stdout",
     "output_type": "stream",
     "text": [
      "Shape of Test:  (3, 2)\n"
     ]
    },
    {
     "data": {
      "text/html": [
       "<div>\n",
       "<style scoped>\n",
       "    .dataframe tbody tr th:only-of-type {\n",
       "        vertical-align: middle;\n",
       "    }\n",
       "\n",
       "    .dataframe tbody tr th {\n",
       "        vertical-align: top;\n",
       "    }\n",
       "\n",
       "    .dataframe thead th {\n",
       "        text-align: right;\n",
       "    }\n",
       "</style>\n",
       "<table border=\"1\" class=\"dataframe\">\n",
       "  <thead>\n",
       "    <tr style=\"text-align: right;\">\n",
       "      <th></th>\n",
       "      <th>essay_id</th>\n",
       "      <th>full_text</th>\n",
       "    </tr>\n",
       "  </thead>\n",
       "  <tbody>\n",
       "    <tr>\n",
       "      <th>0</th>\n",
       "      <td>000d118</td>\n",
       "      <td>Many people have car where they live. The thin...</td>\n",
       "    </tr>\n",
       "    <tr>\n",
       "      <th>1</th>\n",
       "      <td>000fe60</td>\n",
       "      <td>I am a scientist at NASA that is discussing th...</td>\n",
       "    </tr>\n",
       "    <tr>\n",
       "      <th>2</th>\n",
       "      <td>001ab80</td>\n",
       "      <td>People always wish they had the same technolog...</td>\n",
       "    </tr>\n",
       "  </tbody>\n",
       "</table>\n",
       "</div>"
      ],
      "text/plain": [
       "  essay_id                                          full_text\n",
       "0  000d118  Many people have car where they live. The thin...\n",
       "1  000fe60  I am a scientist at NASA that is discussing th...\n",
       "2  001ab80  People always wish they had the same technolog..."
      ]
     },
     "metadata": {},
     "output_type": "display_data"
    },
    {
     "name": "stdout",
     "output_type": "stream",
     "text": [
      "None\n"
     ]
    }
   ],
   "source": [
    "df_test = pd.read_csv(CFG.BASE_PATH + 'test.csv')\n",
    "df_test = df_test.sort_values(by='essay_id')\n",
    "\n",
    "print('Shape of Test: ', df_test.shape)\n",
    "print(display(df_test.head()))"
   ]
  },
  {
   "cell_type": "code",
   "execution_count": 8,
   "id": "6e5aff5a",
   "metadata": {
    "execution": {
     "iopub.execute_input": "2024-04-26T02:01:00.819365Z",
     "iopub.status.busy": "2024-04-26T02:01:00.818933Z",
     "iopub.status.idle": "2024-04-26T02:01:01.131041Z",
     "shell.execute_reply": "2024-04-26T02:01:01.129405Z"
    },
    "papermill": {
     "duration": 0.333578,
     "end_time": "2024-04-26T02:01:01.134590",
     "exception": false,
     "start_time": "2024-04-26T02:01:00.801012",
     "status": "completed"
    },
    "tags": []
   },
   "outputs": [],
   "source": [
    "# os.path.join(CFG.BASE_PATH,'train.csv')\n",
    "# CFG.BASE_PATH + 'train.csv'\n",
    "\n",
    "train = pl.from_pandas(df_train).with_columns(\n",
    "    pl.col('full_text').str.split(by='\\n\\n').alias('paragraph'))\n",
    "test = pl.from_pandas(df_test).with_columns(\n",
    "    pl.col('full_text').str.split(by='\\n\\n').alias('paragraph')\n",
    ")\n",
    "\n",
    "schema_train = train.schema # MetaData\n",
    "schema_test = test.schema # MetaData"
   ]
  },
  {
   "cell_type": "markdown",
   "id": "1f92c040",
   "metadata": {
    "papermill": {
     "duration": 0.014561,
     "end_time": "2024-04-26T02:01:01.164695",
     "exception": false,
     "start_time": "2024-04-26T02:01:01.150134",
     "status": "completed"
    },
    "tags": []
   },
   "source": [
    "# <div style=\"padding: 25px;color:white;margin:10;font-size:60%;text-align:left;display:fill;border-radius:10px;background-color:#FFFFFF;overflow:hidden;background-color:#FFA500\"><b><span style='color:#FFA500'></span></b> <b>3. FeatureGenerator</b></div>"
   ]
  },
  {
   "cell_type": "markdown",
   "id": "fa436110",
   "metadata": {
    "papermill": {
     "duration": 0.014501,
     "end_time": "2024-04-26T02:01:01.194238",
     "exception": false,
     "start_time": "2024-04-26T02:01:01.179737",
     "status": "completed"
    },
    "tags": []
   },
   "source": [
    "📌 **Features & TFIDF**\n",
    "\n",
    "https://www.kaggle.com/code/ye11725/tfidf-lgbm-baseline-with-code-comments"
   ]
  },
  {
   "cell_type": "code",
   "execution_count": 9,
   "id": "9d3a7caa",
   "metadata": {
    "execution": {
     "iopub.execute_input": "2024-04-26T02:01:01.229011Z",
     "iopub.status.busy": "2024-04-26T02:01:01.227667Z",
     "iopub.status.idle": "2024-04-26T02:01:01.238426Z",
     "shell.execute_reply": "2024-04-26T02:01:01.237435Z"
    },
    "papermill": {
     "duration": 0.031776,
     "end_time": "2024-04-26T02:01:01.241127",
     "exception": false,
     "start_time": "2024-04-26T02:01:01.209351",
     "status": "completed"
    },
    "tags": []
   },
   "outputs": [],
   "source": [
    "def removeHTML(x):\n",
    "    html = re.compile(r'<.*?>')\n",
    "    return html.sub(r'',x) # html -> ''\n",
    "\n",
    "def dataPreprocessing(x):\n",
    "    \n",
    "    x = x.lower()\n",
    "    # remove html\n",
    "    x = removeHTML(x)\n",
    "    \n",
    "    #remove string with starting @\n",
    "    x = re.sub(\"@\\w+\",'',x)\n",
    "    \n",
    "    # remove number\n",
    "    x = re.sub(\"'\\d+\",'',x)\n",
    "    x = re.sub(\"\\d+\",'',x)\n",
    "    \n",
    "    # remove url\n",
    "    x = re.sub(\"http\\w+\",'',x)\n",
    "    \n",
    "    # Replace consecutive empty spaces with a single empty spaces\n",
    "    x = re.sub(r'\\s+', \" \", x)\n",
    "    x = re.sub(r'[^\\w\\s.,;:\"''?!]', '', x)\n",
    "    x = re.sub(\"paragraph\", \"\", x)\n",
    "    # x = re.sub('\\n\\n', \"\", x)\n",
    "    # Replace consecutive commas and periods with a single comma and period\n",
    "    x = re.sub(r'\\.+', \".\",x)\n",
    "    x = re.sub(r'\\,+', \",\",x)\n",
    "    # Remove empty character at the beginning and end\n",
    "    x = x.strip()\n",
    "    return x"
   ]
  },
  {
   "cell_type": "code",
   "execution_count": 10,
   "id": "6a988399",
   "metadata": {
    "execution": {
     "iopub.execute_input": "2024-04-26T02:01:01.276564Z",
     "iopub.status.busy": "2024-04-26T02:01:01.274884Z",
     "iopub.status.idle": "2024-04-26T02:01:17.995421Z",
     "shell.execute_reply": "2024-04-26T02:01:17.993387Z"
    },
    "papermill": {
     "duration": 16.742138,
     "end_time": "2024-04-26T02:01:17.998869",
     "exception": false,
     "start_time": "2024-04-26T02:01:01.256731",
     "status": "completed"
    },
    "tags": []
   },
   "outputs": [],
   "source": [
    "!pip install -q --no-index /kaggle/input/aes-2-misspelled-whl/pyspellchecker-0.8.1-py3-none-any.whl"
   ]
  },
  {
   "cell_type": "code",
   "execution_count": 11,
   "id": "20a25a0c",
   "metadata": {
    "execution": {
     "iopub.execute_input": "2024-04-26T02:01:18.037262Z",
     "iopub.status.busy": "2024-04-26T02:01:18.036020Z",
     "iopub.status.idle": "2024-04-26T02:01:18.303445Z",
     "shell.execute_reply": "2024-04-26T02:01:18.301733Z"
    },
    "papermill": {
     "duration": 0.291821,
     "end_time": "2024-04-26T02:01:18.306993",
     "exception": false,
     "start_time": "2024-04-26T02:01:18.015172",
     "status": "completed"
    },
    "tags": []
   },
   "outputs": [],
   "source": [
    "from spellchecker import SpellChecker\n",
    "\n",
    "spell = SpellChecker()\n",
    "def count_misspelled_words(text):\n",
    "    misspelled_words = spell.unknown(text.split())\n",
    "    return len(misspelled_words)"
   ]
  },
  {
   "cell_type": "code",
   "execution_count": 12,
   "id": "570f5d34",
   "metadata": {
    "execution": {
     "iopub.execute_input": "2024-04-26T02:01:18.341091Z",
     "iopub.status.busy": "2024-04-26T02:01:18.340586Z",
     "iopub.status.idle": "2024-04-26T02:01:18.378643Z",
     "shell.execute_reply": "2024-04-26T02:01:18.377296Z"
    },
    "papermill": {
     "duration": 0.058506,
     "end_time": "2024-04-26T02:01:18.381751",
     "exception": false,
     "start_time": "2024-04-26T02:01:18.323245",
     "status": "completed"
    },
    "tags": []
   },
   "outputs": [],
   "source": [
    "paragraph_features = ['paragraph_len','paragraph_sentence_cnt','paragraph_word_cnt',\"paragraph_comma_cnt\",'paragraph_misspelled_cnt']\n",
    "\n",
    "def Paragraph_Features(x):\n",
    "    # Expand the paragraph list to several lines of data\n",
    "    x = x.explode('paragraph') \n",
    "   \n",
    "    print('Paragraph Preprocessing')\n",
    "    x = x.with_columns(\n",
    "         pl.col('paragraph').map_elements(dataPreprocessing)\n",
    "    )\n",
    "    print('Caculate the length of each paragraph')\n",
    "    x = x.with_columns(\n",
    "         pl.col('paragraph').map_elements(lambda x: len(x)).alias(\"paragraph_len\")\n",
    "    )\n",
    "    x = x.with_columns(\n",
    "         pl.col('paragraph').map_elements(lambda x: count_misspelled_words(x)).alias('paragraph_misspelled_cnt')\n",
    "    )\n",
    "    x = x.with_columns(\n",
    "         pl.col('paragraph').map_elements(lambda x: x.count(',')).alias(\"paragraph_comma_cnt\")\n",
    "    )\n",
    "    print('Caculate the number of sentences and words in each paragraph')\n",
    "    x = x.with_columns(\n",
    "         pl.col('paragraph').map_elements(lambda x: len(x.split('.'))).alias('paragraph_sentence_cnt'),\n",
    "         pl.col('paragraph').map_elements(lambda x: len(x.split(' '))).alias('paragraph_word_cnt')\n",
    "    )\n",
    "    return x\n",
    "\n",
    "def Paragraph_aggregation(x):    \n",
    "    \n",
    "    print('Aggregation')\n",
    "    aggs = [\n",
    "    *[pl.col('paragraph').filter(pl.col('paragraph_len') >= i).count().alias(f'paragraph_{i}_cnt') for i in [100,150, 200, 250, 300, 350, 400, 450, 500, 600, 800]],\n",
    "    *[pl.col('paragraph').filter(pl.col('paragraph_len') <= i).count().alias(f'paragraph_{i}_cnt_v2') for i in [100,200]],\n",
    "    *[pl.col('paragraph').filter((pl.col('paragraph_len') <= 300) & (pl.col('paragraph_len') > 100)).count().alias(f'short_paragraph_cnt')],    \n",
    "    *[pl.col('paragraph').filter((pl.col('paragraph_len') <= 500) & (pl.col('paragraph_len') > 300)).count().alias(f'mid_paragraph_cnt')],\n",
    "    *[pl.col('paragraph').filter((pl.col('paragraph_len') <= 700) & (pl.col('paragraph_len') > 500)).count().alias(f'long_paragraph_cnt')],\n",
    "    *[pl.col('paragraph').filter(pl.col('paragraph_sentence_cnt') >= i).count().alias(f'paragraph_sentence_{i}_cnt') for i in [2,4,6,8,10]],\n",
    "    *[pl.col('paragraph').filter((pl.col('paragraph_sentence_cnt') <= 4) & (pl.col('paragraph_sentence_cnt') > 2)).count().alias(f'short_paragraph_sentence_cnt')],\n",
    "    *[pl.col('paragraph').filter((pl.col('paragraph_sentence_cnt') <= 8) & (pl.col('paragraph_sentence_cnt') > 4)).count().alias(f'mid_paragraph_sentence_cnt')],\n",
    "    *[pl.col('paragraph').filter((pl.col('paragraph_sentence_cnt') <= 10) & (pl.col('paragraph_sentence_cnt') > 8)).count().alias(f'long_paragraph_sentence_cnt')],    \n",
    "    *[pl.col('paragraph').filter(pl.col('paragraph_word_cnt') >= i).count().alias(f'paragraph_word_{i}_cnt') for i in [20,40,60,90,120]],\n",
    "    *[pl.col('paragraph').filter((pl.col('paragraph_word_cnt') <= 40) & (pl.col('paragraph_word_cnt') > 20)).count().alias(f'short_paragraph_word_cnt')],\n",
    "    *[pl.col('paragraph').filter((pl.col('paragraph_word_cnt') <= 90) & (pl.col('paragraph_word_cnt') > 40)).count().alias(f'mid_paragraph_word_cnt')],\n",
    "    *[pl.col('paragraph').filter((pl.col('paragraph_word_cnt') <= 120) & (pl.col('paragraph_word_cnt') > 90)).count().alias(f'long_paragraph_word_cnt')],\n",
    "    *[pl.col('paragraph').filter(pl.col('paragraph_comma_cnt') >= i).count().alias(f'paragraph_comma_{i}_cnt') for i in [1,2,3,4,5]],\n",
    "    *[pl.col('paragraph').filter(pl.col('paragraph_misspelled_cnt') >= i).count().alias(f'paragraph_misspelled_{i}_cnt') for i in [4,8,12,16]],\n",
    "    *[pl.col('paragraph').filter(pl.col('paragraph_misspelled_cnt') <= i).count().alias(f'paragraph_misspelled_{i}_cnt_v2') for i in [2,4]],\n",
    "    *[pl.col('paragraph').filter((pl.col('paragraph_misspelled_cnt') <= 8) & (pl.col('paragraph_misspelled_cnt') > 4)).count().alias(f'short_paragraph_misspelled_cnt')],\n",
    "    *[pl.col('paragraph').filter((pl.col('paragraph_misspelled_cnt') <= 12) & (pl.col('paragraph_misspelled_cnt') > 8)).count().alias(f'mid_paragraph_misspelled_cnt')],\n",
    "    *[pl.col('paragraph').filter((pl.col('paragraph_misspelled_cnt') <= 16) & (pl.col('paragraph_misspelled_cnt') > 12)).count().alias(f'long_paragraph_misspelled_cnt')],\n",
    "    *[pl.col('paragraph').count().alias('paragraph_cnt')], \n",
    "    *[pl.col(feat).max().alias(f'{feat}_max') for feat in paragraph_features],\n",
    "    *[pl.col(feat).mean().alias(f'{feat}_mean') for feat in paragraph_features],\n",
    "    *[pl.col(feat).min().alias(f'{feat}_min') for feat in paragraph_features],\n",
    "    *[pl.col(feat).std().alias(f'{feat}_std') for feat in paragraph_features],\n",
    "    *[pl.col(feat).sum().alias(f'{feat}_sum') for feat in paragraph_features],\n",
    "    *[pl.col(feat).quantile(0.25).alias(f'{feat}_q1') for feat in paragraph_features],\n",
    "    *[pl.col(feat).quantile(0.75).alias(f'{feat}_q3') for feat in paragraph_features],   \n",
    "    ]\n",
    "      \n",
    "    df = x.group_by(['essay_id'], maintain_order=True).agg(aggs).sort(\"essay_id\")\n",
    "    df = df.to_pandas() # polars -> pandas\n",
    "    \n",
    "    return df"
   ]
  },
  {
   "cell_type": "code",
   "execution_count": 13,
   "id": "9a739473",
   "metadata": {
    "execution": {
     "iopub.execute_input": "2024-04-26T02:01:18.416778Z",
     "iopub.status.busy": "2024-04-26T02:01:18.416353Z",
     "iopub.status.idle": "2024-04-26T02:01:18.447604Z",
     "shell.execute_reply": "2024-04-26T02:01:18.445685Z"
    },
    "papermill": {
     "duration": 0.052356,
     "end_time": "2024-04-26T02:01:18.450741",
     "exception": false,
     "start_time": "2024-04-26T02:01:18.398385",
     "status": "completed"
    },
    "tags": []
   },
   "outputs": [],
   "source": [
    "sentence_features = ['sentence_len','sentence_word_cnt']\n",
    "\n",
    "def Sentence_Features(x):\n",
    "    print('Preprocess full_text and use periods to segment sentences in the text')\n",
    "    x = x.with_columns(\n",
    "        pl.col('full_text').map_elements(lambda x: dataPreprocessing(x)).str.split(\".\").alias('sentence')\n",
    "    )\n",
    "    x = x.explode('sentence')\n",
    "    \n",
    "    print('Caculate the length of a sentence') \n",
    "    x = x.with_columns(\n",
    "        pl.col('sentence').map_elements(lambda x: len(x)).alias('sentence_len'))\n",
    "    x = x.filter(pl.col('sentence_len') > 3)\n",
    "    x = x.with_columns(\n",
    "       pl.col('sentence').map_elements(lambda x: len(x.replace(' ', ''))).alias('only_sentence_len'))\n",
    "    print('Count the number of words in each sentence')\n",
    "    x = x.with_columns(\n",
    "        pl.col('sentence').map_elements(lambda x: len(x.split(\" \"))).alias(\"sentence_word_cnt\"))\n",
    "    return x\n",
    "\n",
    "def Sentence_aggregation(x):    \n",
    "    \n",
    "    print('Aggregation')\n",
    "    aggs = [\n",
    "    *[pl.col('sentence').filter(pl.col('sentence_len') >= i).count().alias(f'sentence_{i}_cnt') for i in [40,60,70,80,100,120,140]],    \n",
    "    *[pl.col('sentence').filter(pl.col('sentence_len') <= i).count().alias(f'sentence_{i}_cnt_v2') for i in [10,20,30]],\n",
    "    *[pl.col('sentence').filter((pl.col('sentence_len') <= 70) & (pl.col('sentence_len') > 40)).count().alias(f'short_sentence_cnt')],    \n",
    "    *[pl.col('sentence').filter((pl.col('sentence_len') <= 100) & (pl.col('sentence_len') > 70)).count().alias(f'mid_sentence_cnt')], \n",
    "    *[pl.col('sentence').filter((pl.col('sentence_len') <= 140) & (pl.col('sentence_len') > 100)).count().alias(f'long_sentence_cnt')],\n",
    "    *[pl.col('sentence').filter(pl.col('only_sentence_len') >= i).count().alias(f'only_sentence_{i}_cnt') for i in [40,60,80,100,120]],    \n",
    "    *[pl.col('sentence').filter((pl.col('only_sentence_len') <= 60) & (pl.col('only_sentence_len') > 40)).count().alias(f'short_only_sentence_cnt')],    \n",
    "    *[pl.col('sentence').filter((pl.col('only_sentence_len') <= 100) & (pl.col('only_sentence_len') > 60)).count().alias(f'mid_only_sentence_cnt')], \n",
    "    *[pl.col('sentence').filter((pl.col('only_sentence_len') <= 120) & (pl.col('only_sentence_len') > 100)).count().alias(f'long_only_sentence_cnt')],\n",
    "    *[pl.col('sentence').filter(pl.col('sentence_word_cnt') >= i).count().alias(f'sentence_word_{i}_cnt') for i in [10,15,20,25]], \n",
    "    *[pl.col('sentence').filter((pl.col('sentence_word_cnt') <= 15) & (pl.col('sentence_word_cnt') > 10)).count().alias(f'short_sentence_word_cnt')],    \n",
    "    *[pl.col('sentence').filter((pl.col('sentence_word_cnt') <= 20) & (pl.col('sentence_word_cnt') > 15)).count().alias(f'mid_sentence_word_cnt')], \n",
    "    *[pl.col('sentence').filter((pl.col('sentence_word_cnt') <= 25) & (pl.col('sentence_word_cnt') > 20)).count().alias(f'long_sentence_word_cnt')],    \n",
    "    *[pl.col('sentence').count().alias('sentence_cnt')],    \n",
    "    *[pl.col(feat).max().alias(f'{feat}_max') for feat in sentence_features],\n",
    "    *[pl.col(feat).mean().alias(f'{feat}_mean') for feat in sentence_features],\n",
    "    *[pl.col(feat).min().alias(f'{feat}_min') for feat in sentence_features],\n",
    "    *[pl.col(feat).std().alias(f'{feat}_std') for feat in sentence_features],\n",
    "    *[pl.col(feat).sum().alias(f'{feat}_sum') for feat in sentence_features], \n",
    "    *[pl.col(feat).quantile(0.25).alias(f'{feat}_q1') for feat in sentence_features], \n",
    "    *[pl.col(feat).quantile(0.75).alias(f'{feat}_q3') for feat in sentence_features],     \n",
    "    ]\n",
    "    \n",
    "    df = x.group_by(['essay_id'], maintain_order=True).agg(aggs).sort(\"essay_id\")\n",
    "    df = df.with_columns(\n",
    "     *[(pl.col(f'sentence_{i}_cnt')/pl.col('sentence_cnt')).alias(f'sentence_{i}_cnt_ratio') for i in [40,60,70,80,100,120,140]],    \n",
    "    *[(pl.col('short_sentence_cnt')/pl.col('sentence_cnt')).alias(f'short_sentence_cnt_ratio')],\n",
    "    *[(pl.col('mid_sentence_cnt')/pl.col('sentence_cnt')).alias(f'mid_sentence_cnt_ratio')],\n",
    "    *[(pl.col('long_sentence_cnt')/pl.col('sentence_cnt')).alias(f'long_sentence_cnt_ratio')],    \n",
    "    ).sort('essay_id')\n",
    "    \n",
    "    df = df.to_pandas() # polars -> pandas\n",
    "    \n",
    "    return df"
   ]
  },
  {
   "cell_type": "code",
   "execution_count": 14,
   "id": "c33c7251",
   "metadata": {
    "execution": {
     "iopub.execute_input": "2024-04-26T02:01:18.484127Z",
     "iopub.status.busy": "2024-04-26T02:01:18.483274Z",
     "iopub.status.idle": "2024-04-26T02:01:18.507162Z",
     "shell.execute_reply": "2024-04-26T02:01:18.506174Z"
    },
    "papermill": {
     "duration": 0.044147,
     "end_time": "2024-04-26T02:01:18.510289",
     "exception": false,
     "start_time": "2024-04-26T02:01:18.466142",
     "status": "completed"
    },
    "tags": []
   },
   "outputs": [],
   "source": [
    "word_features = ['word_len',]\n",
    "\n",
    "def Word_Features(x):\n",
    "    print('Preprocess full_text and use spaces to seperate words fro the text')\n",
    "\n",
    "    x = x.with_columns(\n",
    "        pl.col('full_text').map_elements(lambda x: dataPreprocessing(x)).str.split(\" \").alias('word')\n",
    "    )\n",
    "    x = x.explode('word')\n",
    "    \n",
    "    print('Caculate the length of a word') \n",
    "    x = x.with_columns(\n",
    "        pl.col('word').map_elements(lambda x: len(x)).alias('word_len'))\n",
    "    x = x.filter(pl.col('word_len')>0)\n",
    "\n",
    "    return x\n",
    "\n",
    "def Word_aggregation(x):    \n",
    "    \n",
    "    print('Aggregation')\n",
    "    aggs = [\n",
    "    *[pl.col('word').filter(pl.col('word_len') >= i).count().alias(f'word_{i}_cnt') for i in [3,4,5,6,7,8,10]],\n",
    "    *[pl.col('word').filter(pl.col('word_len') <= i).count().alias(f'word_{i}_cnt_v2') for i in [1,2,3]],\n",
    "    *[pl.col('word').filter((pl.col('word_len') <= 4) & (pl.col('word_len') > 2)).count().alias(f'short_word_cnt')],\n",
    "    *[pl.col('word').filter((pl.col('word_len') <= 6) & (pl.col('word_len') > 4)).count().alias(f'mid_word_cnt')], \n",
    "    *[pl.col('word').filter((pl.col('word_len') <= 10) & (pl.col('word_len') > 6)).count().alias(f'long_word_cnt')],     \n",
    "    *[pl.col('word').count().alias('word_cnt')],  \n",
    "    *[pl.col(feat).max().alias(f'{feat}_max') for feat in word_features],    \n",
    "    *[pl.col(feat).mean().alias(f'{feat}_mean') for feat in word_features],\n",
    "    *[pl.col(feat).min().alias(f'{feat}_min') for feat in word_features],\n",
    "    *[pl.col(feat).std().alias(f'{feat}_std') for feat in word_features],\n",
    "    *[pl.col(feat).sum().alias(f'{feat}_sum') for feat in word_features],\n",
    "    *[pl.col(feat).quantile(0.25).alias(f'{feat}_q1') for feat in word_features],\n",
    "    *[pl.col(feat).quantile(0.75).alias(f'{feat}_q3') for feat in word_features],   \n",
    "    ]\n",
    "    \n",
    "    df = x.group_by(['essay_id'], maintain_order=True).agg(aggs).sort(\"essay_id\")\n",
    "    df = df.with_columns(\n",
    "    *[(pl.col(f'word_{i}_cnt')/pl.col('word_cnt')).alias(f'word_{i}_cnt_ratio') for i in [3,4,5,6,7,8,10]], \n",
    "    *[(pl.col(f'word_{i}_cnt_v2')/pl.col('word_cnt')).alias(f'word_{i}_cnt_v2_ratio') for i in [1,2,3]], \n",
    "    *[(pl.col(f'word_{i}_cnt')/pl.col('word_2_cnt_v2')).alias(f'word_{i}_pre2_ratio') for i in [3,4,5,6,7,8,10]],    \n",
    "    *[(pl.col(f'word_{i}_cnt')/pl.col('word_3_cnt_v2')).alias(f'word_{i}_pre3_ratio') for i in [3,4,5,6,7,8,10]],  \n",
    "    *[(pl.col(f'short_word_cnt')/ pl.col(f'word_{i}_cnt_v2')).alias(f'short_word_ratio_{i}') for i in [1,2,3]], \n",
    "    *[(pl.col(f'mid_word_cnt')/ pl.col(f'word_{i}_cnt_v2')).alias(f'mid_word_ratio_{i}') for i in [1,2,3]], \n",
    "    *[(pl.col(f'long_word_cnt')/ pl.col(f'word_{i}_cnt_v2')).alias(f'long_word_ratio_{i}') for i in [1,2,3]],     \n",
    "      \n",
    "    ).sort(\"essay_id\")\n",
    "    \n",
    " \n",
    "    df = df.to_pandas() # polars -> pandas\n",
    "    \n",
    "    return df"
   ]
  },
  {
   "cell_type": "code",
   "execution_count": 15,
   "id": "4ce959a9",
   "metadata": {
    "execution": {
     "iopub.execute_input": "2024-04-26T02:01:18.542572Z",
     "iopub.status.busy": "2024-04-26T02:01:18.541967Z",
     "iopub.status.idle": "2024-04-26T02:04:04.980591Z",
     "shell.execute_reply": "2024-04-26T02:04:04.979170Z"
    },
    "papermill": {
     "duration": 166.458569,
     "end_time": "2024-04-26T02:04:04.984043",
     "exception": false,
     "start_time": "2024-04-26T02:01:18.525474",
     "status": "completed"
    },
    "tags": []
   },
   "outputs": [],
   "source": [
    "vectorizer = TfidfVectorizer(\n",
    "    tokenizer = lambda x: x,\n",
    "    preprocessor = lambda x: x,\n",
    "    token_pattern=None,\n",
    "    strip_accents='unicode',\n",
    "    analyzer= 'word',\n",
    "    ngram_range = (1,4),\n",
    "    min_df =0.05,\n",
    "    max_df=0.95,\n",
    "    sublinear_tf = True # Term Frequency Log Scaling \n",
    "    )\n",
    "\n",
    "# TfidfVectorizer parameter\n",
    "train_a = train.with_columns(\n",
    "        pl.col('full_text').map_elements(lambda x: dataPreprocessing(x))\n",
    "    )\n",
    "# Fit all datasets into TfidfVectorizer\n",
    "train_tfid = vectorizer.fit_transform([i for i in train_a['full_text']])\n",
    "\n",
    "              \n",
    "# Convert to array\n",
    "dense_matrix = train_tfid.toarray()\n",
    "\n",
    "# Convert to dataframe\n",
    "df = pd.DataFrame(dense_matrix)\n",
    "df.columns = [f'tfidf_{i}' for i in range(len(df.columns))]\n",
    "\n",
    "\n",
    "df['essay_id'] = df_train['essay_id']"
   ]
  },
  {
   "cell_type": "code",
   "execution_count": 16,
   "id": "c78cfd2b",
   "metadata": {
    "execution": {
     "iopub.execute_input": "2024-04-26T02:04:05.020097Z",
     "iopub.status.busy": "2024-04-26T02:04:05.019601Z",
     "iopub.status.idle": "2024-04-26T02:06:36.857327Z",
     "shell.execute_reply": "2024-04-26T02:06:36.855938Z"
    },
    "papermill": {
     "duration": 151.860331,
     "end_time": "2024-04-26T02:06:36.860586",
     "exception": false,
     "start_time": "2024-04-26T02:04:05.000255",
     "status": "completed"
    },
    "tags": []
   },
   "outputs": [],
   "source": [
    "vectorizer_cnt = CountVectorizer(\n",
    "      tokenizer=lambda x: x,\n",
    "      preprocessor=lambda x: x,\n",
    "      token_pattern=None,\n",
    "      strip_accents='unicode',\n",
    "      analyzer = 'word',\n",
    "      ngram_range=(2,4),\n",
    "      min_df=0.10,\n",
    "      max_df=0.85,)\n",
    "    \n",
    "# TfidfVectorizer parameter\n",
    "\n",
    "# Fit all datasets into TfidfVectorizer\n",
    "train_b = train.with_columns(\n",
    "        pl.col('full_text').map_elements(lambda x: dataPreprocessing(x))\n",
    "     )\n",
    "train_cnt = vectorizer_cnt.fit_transform([i for i in train_b['full_text']])\n",
    "\n",
    "              \n",
    "# Convert to array\n",
    "dense_matrix2 = train_cnt.toarray()\n",
    "\n",
    "# Convert to dataframe\n",
    "df2 = pd.DataFrame(dense_matrix2)\n",
    "df2.columns = [f'cnt_{i}' for i in range(len(df2.columns))]\n",
    "\n",
    "\n",
    "df2['essay_id'] = df_train['essay_id']"
   ]
  },
  {
   "cell_type": "code",
   "execution_count": 17,
   "id": "3dcd4710",
   "metadata": {
    "execution": {
     "iopub.execute_input": "2024-04-26T02:06:36.895850Z",
     "iopub.status.busy": "2024-04-26T02:06:36.895361Z",
     "iopub.status.idle": "2024-04-26T02:06:36.903354Z",
     "shell.execute_reply": "2024-04-26T02:06:36.902297Z"
    },
    "papermill": {
     "duration": 0.029084,
     "end_time": "2024-04-26T02:06:36.905599",
     "exception": false,
     "start_time": "2024-04-26T02:06:36.876515",
     "status": "completed"
    },
    "tags": []
   },
   "outputs": [],
   "source": [
    "if CFG.LOAD_FEATURES_FROM is None: \n",
    "    \n",
    "    train_feats1 = Paragraph_Features(train)\n",
    "    train_feats1 = Paragraph_aggregation(train_feats1)\n",
    "    train_feats2 = Sentence_Features(train)\n",
    "    train_feats2 = Sentence_aggregation(train_feats2)\n",
    "    train_feats3 = Word_Features(train)\n",
    "    train_feats3 = Word_aggregation(train_feats3)\n",
    "    \n",
    "    train_feats = train_feats1.merge(train_feats2, on='essay_id', how='left')\n",
    "    train_feats = train_feats.merge(train_feats3, on='essay_id', how='left')\n",
    "    train_feats = train_feats.merge(df, on='essay_id', how='left')\n",
    "    train_feats = train_feats.merge(df2, on='essay_id', how='left')\n",
    "    train_feats['score'] = df_train['score'].values\n",
    "else:\n",
    "    None"
   ]
  },
  {
   "cell_type": "code",
   "execution_count": 18,
   "id": "60945483",
   "metadata": {
    "execution": {
     "iopub.execute_input": "2024-04-26T02:06:36.938670Z",
     "iopub.status.busy": "2024-04-26T02:06:36.938228Z",
     "iopub.status.idle": "2024-04-26T02:08:09.281098Z",
     "shell.execute_reply": "2024-04-26T02:08:09.279746Z"
    },
    "papermill": {
     "duration": 92.363576,
     "end_time": "2024-04-26T02:08:09.284957",
     "exception": false,
     "start_time": "2024-04-26T02:06:36.921381",
     "status": "completed"
    },
    "tags": []
   },
   "outputs": [
    {
     "name": "stdout",
     "output_type": "stream",
     "text": [
      "Load train_feats.csv\n"
     ]
    }
   ],
   "source": [
    "if CFG.LOAD_FEATURES_FROM is None: \n",
    "    print('Save train_feats.csv')\n",
    "    train_feats.to_csv(f'train_feats_{CFG.VER}.csv', index=False)\n",
    "else: \n",
    "    print('Load train_feats.csv')\n",
    "    train_feats = pd.read_csv(CFG.LOAD_FEATURES_FROM)"
   ]
  },
  {
   "cell_type": "code",
   "execution_count": 19,
   "id": "8e9d87db",
   "metadata": {
    "execution": {
     "iopub.execute_input": "2024-04-26T02:08:09.320091Z",
     "iopub.status.busy": "2024-04-26T02:08:09.318679Z",
     "iopub.status.idle": "2024-04-26T02:08:09.351328Z",
     "shell.execute_reply": "2024-04-26T02:08:09.349941Z"
    },
    "papermill": {
     "duration": 0.053234,
     "end_time": "2024-04-26T02:08:09.354187",
     "exception": false,
     "start_time": "2024-04-26T02:08:09.300953",
     "status": "completed"
    },
    "tags": []
   },
   "outputs": [
    {
     "data": {
      "text/html": [
       "<div>\n",
       "<style scoped>\n",
       "    .dataframe tbody tr th:only-of-type {\n",
       "        vertical-align: middle;\n",
       "    }\n",
       "\n",
       "    .dataframe tbody tr th {\n",
       "        vertical-align: top;\n",
       "    }\n",
       "\n",
       "    .dataframe thead th {\n",
       "        text-align: right;\n",
       "    }\n",
       "</style>\n",
       "<table border=\"1\" class=\"dataframe\">\n",
       "  <thead>\n",
       "    <tr style=\"text-align: right;\">\n",
       "      <th></th>\n",
       "      <th>essay_id</th>\n",
       "      <th>paragraph_100_cnt</th>\n",
       "      <th>paragraph_150_cnt</th>\n",
       "      <th>paragraph_200_cnt</th>\n",
       "      <th>paragraph_250_cnt</th>\n",
       "      <th>paragraph_300_cnt</th>\n",
       "      <th>paragraph_350_cnt</th>\n",
       "      <th>paragraph_400_cnt</th>\n",
       "      <th>paragraph_450_cnt</th>\n",
       "      <th>paragraph_500_cnt</th>\n",
       "      <th>...</th>\n",
       "      <th>cnt_4915</th>\n",
       "      <th>cnt_4916</th>\n",
       "      <th>cnt_4917</th>\n",
       "      <th>cnt_4918</th>\n",
       "      <th>cnt_4919</th>\n",
       "      <th>cnt_4920</th>\n",
       "      <th>cnt_4921</th>\n",
       "      <th>cnt_4922</th>\n",
       "      <th>cnt_4923</th>\n",
       "      <th>score</th>\n",
       "    </tr>\n",
       "  </thead>\n",
       "  <tbody>\n",
       "    <tr>\n",
       "      <th>0</th>\n",
       "      <td>000d118</td>\n",
       "      <td>1</td>\n",
       "      <td>1</td>\n",
       "      <td>1</td>\n",
       "      <td>1</td>\n",
       "      <td>1</td>\n",
       "      <td>1</td>\n",
       "      <td>1</td>\n",
       "      <td>1</td>\n",
       "      <td>1</td>\n",
       "      <td>...</td>\n",
       "      <td>0</td>\n",
       "      <td>0</td>\n",
       "      <td>0</td>\n",
       "      <td>0</td>\n",
       "      <td>0</td>\n",
       "      <td>0</td>\n",
       "      <td>0</td>\n",
       "      <td>0</td>\n",
       "      <td>0</td>\n",
       "      <td>3</td>\n",
       "    </tr>\n",
       "    <tr>\n",
       "      <th>1</th>\n",
       "      <td>000fe60</td>\n",
       "      <td>5</td>\n",
       "      <td>5</td>\n",
       "      <td>4</td>\n",
       "      <td>3</td>\n",
       "      <td>3</td>\n",
       "      <td>2</td>\n",
       "      <td>1</td>\n",
       "      <td>1</td>\n",
       "      <td>0</td>\n",
       "      <td>...</td>\n",
       "      <td>0</td>\n",
       "      <td>0</td>\n",
       "      <td>1</td>\n",
       "      <td>1</td>\n",
       "      <td>1</td>\n",
       "      <td>0</td>\n",
       "      <td>0</td>\n",
       "      <td>0</td>\n",
       "      <td>0</td>\n",
       "      <td>3</td>\n",
       "    </tr>\n",
       "    <tr>\n",
       "      <th>2</th>\n",
       "      <td>001ab80</td>\n",
       "      <td>4</td>\n",
       "      <td>4</td>\n",
       "      <td>4</td>\n",
       "      <td>4</td>\n",
       "      <td>4</td>\n",
       "      <td>4</td>\n",
       "      <td>4</td>\n",
       "      <td>4</td>\n",
       "      <td>3</td>\n",
       "      <td>...</td>\n",
       "      <td>2</td>\n",
       "      <td>2</td>\n",
       "      <td>0</td>\n",
       "      <td>0</td>\n",
       "      <td>0</td>\n",
       "      <td>0</td>\n",
       "      <td>0</td>\n",
       "      <td>0</td>\n",
       "      <td>0</td>\n",
       "      <td>4</td>\n",
       "    </tr>\n",
       "    <tr>\n",
       "      <th>3</th>\n",
       "      <td>001bdc0</td>\n",
       "      <td>5</td>\n",
       "      <td>4</td>\n",
       "      <td>4</td>\n",
       "      <td>4</td>\n",
       "      <td>4</td>\n",
       "      <td>4</td>\n",
       "      <td>2</td>\n",
       "      <td>2</td>\n",
       "      <td>2</td>\n",
       "      <td>...</td>\n",
       "      <td>0</td>\n",
       "      <td>0</td>\n",
       "      <td>0</td>\n",
       "      <td>0</td>\n",
       "      <td>0</td>\n",
       "      <td>4</td>\n",
       "      <td>4</td>\n",
       "      <td>0</td>\n",
       "      <td>0</td>\n",
       "      <td>4</td>\n",
       "    </tr>\n",
       "    <tr>\n",
       "      <th>4</th>\n",
       "      <td>002ba53</td>\n",
       "      <td>4</td>\n",
       "      <td>4</td>\n",
       "      <td>4</td>\n",
       "      <td>4</td>\n",
       "      <td>4</td>\n",
       "      <td>4</td>\n",
       "      <td>3</td>\n",
       "      <td>3</td>\n",
       "      <td>3</td>\n",
       "      <td>...</td>\n",
       "      <td>0</td>\n",
       "      <td>0</td>\n",
       "      <td>0</td>\n",
       "      <td>0</td>\n",
       "      <td>0</td>\n",
       "      <td>0</td>\n",
       "      <td>0</td>\n",
       "      <td>0</td>\n",
       "      <td>0</td>\n",
       "      <td>3</td>\n",
       "    </tr>\n",
       "  </tbody>\n",
       "</table>\n",
       "<p>5 rows × 13137 columns</p>\n",
       "</div>"
      ],
      "text/plain": [
       "  essay_id  paragraph_100_cnt  paragraph_150_cnt  paragraph_200_cnt  \\\n",
       "0  000d118                  1                  1                  1   \n",
       "1  000fe60                  5                  5                  4   \n",
       "2  001ab80                  4                  4                  4   \n",
       "3  001bdc0                  5                  4                  4   \n",
       "4  002ba53                  4                  4                  4   \n",
       "\n",
       "   paragraph_250_cnt  paragraph_300_cnt  paragraph_350_cnt  paragraph_400_cnt  \\\n",
       "0                  1                  1                  1                  1   \n",
       "1                  3                  3                  2                  1   \n",
       "2                  4                  4                  4                  4   \n",
       "3                  4                  4                  4                  2   \n",
       "4                  4                  4                  4                  3   \n",
       "\n",
       "   paragraph_450_cnt  paragraph_500_cnt  ...  cnt_4915  cnt_4916  cnt_4917  \\\n",
       "0                  1                  1  ...         0         0         0   \n",
       "1                  1                  0  ...         0         0         1   \n",
       "2                  4                  3  ...         2         2         0   \n",
       "3                  2                  2  ...         0         0         0   \n",
       "4                  3                  3  ...         0         0         0   \n",
       "\n",
       "   cnt_4918  cnt_4919  cnt_4920  cnt_4921  cnt_4922  cnt_4923  score  \n",
       "0         0         0         0         0         0         0      3  \n",
       "1         1         1         0         0         0         0      3  \n",
       "2         0         0         0         0         0         0      4  \n",
       "3         0         0         4         4         0         0      4  \n",
       "4         0         0         0         0         0         0      3  \n",
       "\n",
       "[5 rows x 13137 columns]"
      ]
     },
     "metadata": {},
     "output_type": "display_data"
    }
   ],
   "source": [
    "display(train_feats.head())"
   ]
  },
  {
   "cell_type": "markdown",
   "id": "6f227419",
   "metadata": {
    "papermill": {
     "duration": 0.015611,
     "end_time": "2024-04-26T02:08:09.385608",
     "exception": false,
     "start_time": "2024-04-26T02:08:09.369997",
     "status": "completed"
    },
    "tags": []
   },
   "source": [
    "# <div style=\"padding: 25px;color:white;margin:10;font-size:60%;text-align:left;display:fill;border-radius:10px;background-color:#FFFFFF;overflow:hidden;background-color:#FFA500\"><b><span style='color:#FFA500'></span></b> <b>4. CatBoost Model</b></div>"
   ]
  },
  {
   "cell_type": "code",
   "execution_count": 20,
   "id": "69380ef9",
   "metadata": {
    "execution": {
     "iopub.execute_input": "2024-04-26T02:08:09.419494Z",
     "iopub.status.busy": "2024-04-26T02:08:09.417984Z",
     "iopub.status.idle": "2024-04-26T02:08:09.424296Z",
     "shell.execute_reply": "2024-04-26T02:08:09.423192Z"
    },
    "papermill": {
     "duration": 0.025758,
     "end_time": "2024-04-26T02:08:09.426981",
     "exception": false,
     "start_time": "2024-04-26T02:08:09.401223",
     "status": "completed"
    },
    "tags": []
   },
   "outputs": [],
   "source": [
    "from sklearn.model_selection import KFold, StratifiedKFold\n",
    "from sklearn.metrics import cohen_kappa_score"
   ]
  },
  {
   "cell_type": "code",
   "execution_count": 21,
   "id": "aea18b95",
   "metadata": {
    "execution": {
     "iopub.execute_input": "2024-04-26T02:08:09.461319Z",
     "iopub.status.busy": "2024-04-26T02:08:09.460548Z",
     "iopub.status.idle": "2024-04-26T02:08:09.469305Z",
     "shell.execute_reply": "2024-04-26T02:08:09.468321Z"
    },
    "papermill": {
     "duration": 0.029022,
     "end_time": "2024-04-26T02:08:09.472067",
     "exception": false,
     "start_time": "2024-04-26T02:08:09.443045",
     "status": "completed"
    },
    "tags": []
   },
   "outputs": [],
   "source": [
    "def quadratic_weighted_kappa(y_true, y_pred):\n",
    "    y_true = y_true + a\n",
    "    y_pred = (y_pred + a).clip(1, 6).round()\n",
    "    qwk = cohen_kappa_score(y_true, y_pred, weights=\"quadratic\")\n",
    "    return 'QWK', qwk, True\n",
    "def qwk_obj(y_true, y_pred):\n",
    "    labels = y_true + a\n",
    "    preds = y_pred + a\n",
    "    preds = preds.clip(1, 6)\n",
    "    f = 1/2*np.sum((preds-labels)**2)\n",
    "    g = 1/2*np.sum((preds-a)**2+b)\n",
    "    df = preds - labels\n",
    "    dg = preds - a\n",
    "    grad = (df/g - f*dg/g**2)*len(labels)\n",
    "    hess = np.ones(len(labels))\n",
    "    return grad, hess\n",
    "a = 2.948\n",
    "b = 1.092"
   ]
  },
  {
   "cell_type": "code",
   "execution_count": 22,
   "id": "74d840d2",
   "metadata": {
    "execution": {
     "iopub.execute_input": "2024-04-26T02:08:09.506569Z",
     "iopub.status.busy": "2024-04-26T02:08:09.505869Z",
     "iopub.status.idle": "2024-04-26T02:08:10.113956Z",
     "shell.execute_reply": "2024-04-26T02:08:10.112311Z"
    },
    "papermill": {
     "duration": 0.628523,
     "end_time": "2024-04-26T02:08:10.116804",
     "exception": false,
     "start_time": "2024-04-26T02:08:09.488281",
     "status": "completed"
    },
    "tags": []
   },
   "outputs": [
    {
     "name": "stdout",
     "output_type": "stream",
     "text": [
      "Catboost Version:  1.2.3\n"
     ]
    }
   ],
   "source": [
    "from sklearn.model_selection import train_test_split\n",
    "import optuna\n",
    "\n",
    "import catboost \n",
    "from catboost import CatBoostRegressor, Pool\n",
    "print('Catboost Version: ', catboost.__version__)"
   ]
  },
  {
   "cell_type": "markdown",
   "id": "42f36643",
   "metadata": {
    "papermill": {
     "duration": 0.015658,
     "end_time": "2024-04-26T02:08:10.148400",
     "exception": false,
     "start_time": "2024-04-26T02:08:10.132742",
     "status": "completed"
    },
    "tags": []
   },
   "source": [
    "📌 **Optuna Tutorial** \n",
    "\n",
    "https://www.kaggle.com/code/corochann/optuna-tutorial-for-hyperparameter-optimization#3.-Make-%22study%22-and-let-optimize!"
   ]
  },
  {
   "cell_type": "markdown",
   "id": "81d3c8d2",
   "metadata": {
    "papermill": {
     "duration": 0.01544,
     "end_time": "2024-04-26T02:08:10.244515",
     "exception": false,
     "start_time": "2024-04-26T02:08:10.229075",
     "status": "completed"
    },
    "tags": []
   },
   "source": [
    "![](https://optuna.org/assets/img/pruning-example-with-caption.png)"
   ]
  },
  {
   "cell_type": "code",
   "execution_count": 23,
   "id": "8af79866",
   "metadata": {
    "execution": {
     "iopub.execute_input": "2024-04-26T02:08:10.278547Z",
     "iopub.status.busy": "2024-04-26T02:08:10.278049Z",
     "iopub.status.idle": "2024-04-26T02:08:10.286730Z",
     "shell.execute_reply": "2024-04-26T02:08:10.285878Z"
    },
    "papermill": {
     "duration": 0.028429,
     "end_time": "2024-04-26T02:08:10.288912",
     "exception": false,
     "start_time": "2024-04-26T02:08:10.260483",
     "status": "completed"
    },
    "tags": []
   },
   "outputs": [
    {
     "data": {
      "text/plain": [
       "'\\ndef cat_objective(trial):\\n\\n    params = { \\n          \\'verbose\\'      : 0,\\n          \\'random_state\\' : CFG.SEED, \\n          \\'loss_function\\' : \\'MultiClass\\', \\n          \\'learning_rate\\' : trial.suggest_float(\\'learning_rate\\', 0.001, 0.5), \\n          \\'depth\\' : trial.suggest_int(\\'depth\\', 5, 10),\\n    }\\n\\n    train_x, valid_x, train_y, valid_y = train_test_split(train_feats[FEATURES], train_feats[TARGET], test_size=0.2, random_state=CFG.SEED)\\n    train_pool = Pool(\\n          data = train_x,\\n          label = train_y\\n    )    \\n\\n    valid_pool = Pool(\\n          data = valid_x,\\n          label = valid_y\\n    )\\n\\n    model  = CatBoostClassifier(**params)\\n\\n    model.fit(train_pool,\\n          eval_set = valid_pool,  \\n           )\\n    oof = model.predict(valid_pool)\\n    cv = cohen_kappa_score(valid_y, oof, weights=\"quadratic\")\\n\\n    \\n    return cv '"
      ]
     },
     "execution_count": 23,
     "metadata": {},
     "output_type": "execute_result"
    }
   ],
   "source": [
    "'''\n",
    "def cat_objective(trial):\n",
    "\n",
    "    params = { \n",
    "          'verbose'      : 0,\n",
    "          'random_state' : CFG.SEED, \n",
    "          'loss_function' : 'MultiClass', \n",
    "          'learning_rate' : trial.suggest_float('learning_rate', 0.001, 0.5), \n",
    "          'depth' : trial.suggest_int('depth', 5, 10),\n",
    "    }\n",
    "\n",
    "    train_x, valid_x, train_y, valid_y = train_test_split(train_feats[FEATURES], train_feats[TARGET], test_size=0.2, random_state=CFG.SEED)\n",
    "    train_pool = Pool(\n",
    "          data = train_x,\n",
    "          label = train_y\n",
    "    )    \n",
    "\n",
    "    valid_pool = Pool(\n",
    "          data = valid_x,\n",
    "          label = valid_y\n",
    "    )\n",
    "\n",
    "    model  = CatBoostClassifier(**params)\n",
    "\n",
    "    model.fit(train_pool,\n",
    "          eval_set = valid_pool,  \n",
    "           )\n",
    "    oof = model.predict(valid_pool)\n",
    "    cv = cohen_kappa_score(valid_y, oof, weights=\"quadratic\")\n",
    "\n",
    "    \n",
    "    return cv '''"
   ]
  },
  {
   "cell_type": "code",
   "execution_count": 24,
   "id": "3cf38ee8",
   "metadata": {
    "execution": {
     "iopub.execute_input": "2024-04-26T02:08:10.323194Z",
     "iopub.status.busy": "2024-04-26T02:08:10.322653Z",
     "iopub.status.idle": "2024-04-26T02:08:10.329218Z",
     "shell.execute_reply": "2024-04-26T02:08:10.328215Z"
    },
    "papermill": {
     "duration": 0.02676,
     "end_time": "2024-04-26T02:08:10.331638",
     "exception": false,
     "start_time": "2024-04-26T02:08:10.304878",
     "status": "completed"
    },
    "tags": []
   },
   "outputs": [
    {
     "data": {
      "text/plain": [
       "\"\\nstudy = optuna.create_study(direction='minimize', study_name='Classification') \\nstudy.optimize(cat_objective, n_trials=10, show_progress_bar=True)\\n\""
      ]
     },
     "execution_count": 24,
     "metadata": {},
     "output_type": "execute_result"
    }
   ],
   "source": [
    "'''\n",
    "study = optuna.create_study(direction='minimize', study_name='Classification') \n",
    "study.optimize(cat_objective, n_trials=10, show_progress_bar=True)\n",
    "'''"
   ]
  },
  {
   "cell_type": "code",
   "execution_count": 25,
   "id": "c272b7fb",
   "metadata": {
    "execution": {
     "iopub.execute_input": "2024-04-26T02:08:10.367178Z",
     "iopub.status.busy": "2024-04-26T02:08:10.366646Z",
     "iopub.status.idle": "2024-04-26T02:08:10.372303Z",
     "shell.execute_reply": "2024-04-26T02:08:10.371059Z"
    },
    "papermill": {
     "duration": 0.026267,
     "end_time": "2024-04-26T02:08:10.374846",
     "exception": false,
     "start_time": "2024-04-26T02:08:10.348579",
     "status": "completed"
    },
    "tags": []
   },
   "outputs": [],
   "source": [
    "# print(f'Best Trial: score{study.best_value}, param{study.best_params}')"
   ]
  },
  {
   "cell_type": "code",
   "execution_count": 26,
   "id": "51e6ed1d",
   "metadata": {
    "execution": {
     "iopub.execute_input": "2024-04-26T02:08:10.411653Z",
     "iopub.status.busy": "2024-04-26T02:08:10.411163Z",
     "iopub.status.idle": "2024-04-26T02:08:10.425679Z",
     "shell.execute_reply": "2024-04-26T02:08:10.424429Z"
    },
    "papermill": {
     "duration": 0.035948,
     "end_time": "2024-04-26T02:08:10.428140",
     "exception": false,
     "start_time": "2024-04-26T02:08:10.392192",
     "status": "completed"
    },
    "tags": []
   },
   "outputs": [],
   "source": [
    "categorical_columns = train_feats.select_dtypes(include=['object','category']).columns.tolist()\n",
    "FEATURES = [col for col in train_feats.columns if col not in categorical_columns + ['score']]\n",
    "TARGET = 'score'"
   ]
  },
  {
   "cell_type": "code",
   "execution_count": 27,
   "id": "fc1de69a",
   "metadata": {
    "execution": {
     "iopub.execute_input": "2024-04-26T02:08:10.463034Z",
     "iopub.status.busy": "2024-04-26T02:08:10.462514Z",
     "iopub.status.idle": "2024-04-26T02:08:10.482147Z",
     "shell.execute_reply": "2024-04-26T02:08:10.480708Z"
    },
    "papermill": {
     "duration": 0.040881,
     "end_time": "2024-04-26T02:08:10.485174",
     "exception": false,
     "start_time": "2024-04-26T02:08:10.444293",
     "status": "completed"
    },
    "tags": []
   },
   "outputs": [],
   "source": [
    "def catboost():\n",
    "    all_oof = [] \n",
    "    all_true = []\n",
    "    \n",
    "    \n",
    "    skf = StratifiedKFold(n_splits=10, random_state=CFG.SEED, shuffle=True)\n",
    "    for i, (train_index, valid_index) in enumerate(skf.split(train_feats, train_feats[TARGET])):\n",
    "\n",
    "        print('#'*25)\n",
    "        print(f'### Fold {i+1}')\n",
    "        print(f'### train size {len(train_index)}, valid size {len(valid_index)}')\n",
    "        print('#'*25)\n",
    "        \n",
    "        model = CatBoostRegressor(\n",
    "        iterations=1000,\n",
    "        learning_rate = 0.1,\n",
    "        depth = 5,\n",
    "        subsample=0.8,\n",
    "        l2_leaf_reg = 1,\n",
    "        task_type = 'CPU',\n",
    "        objective = 'RMSE',\n",
    "        eval_metric = 'RMSE',\n",
    "        random_state = CFG.SEED,\n",
    "        )\n",
    "\n",
    "        train_pool = Pool(\n",
    "          data = np.clip(train_feats.loc[train_index, FEATURES].fillna(0),\n",
    "                      0, 10000),\n",
    "          label = train_feats.loc[train_index, TARGET]\n",
    "        )    \n",
    "\n",
    "        valid_pool = Pool(\n",
    "          data = np.clip(train_feats.loc[valid_index, FEATURES].fillna(0),\n",
    "                      0,10000),\n",
    "          label = train_feats.loc[valid_index, TARGET]\n",
    "        )\n",
    "\n",
    "        model.fit(train_pool, verbose=100,\n",
    "              eval_set = valid_pool,\n",
    "              early_stopping_rounds=75\n",
    "\n",
    "           )\n",
    "\n",
    "        # Save Model\n",
    "        pickle.dump(model, open(f'CAT_v{CFG.VER}_f{i}.pkl', 'wb'))\n",
    "\n",
    "        oof = model.predict(valid_pool)\n",
    "        all_oof.append(oof)\n",
    "        all_true.append(train_feats.loc[valid_index, TARGET])\n",
    "\n",
    "        del train_pool, valid_pool, oof, model\n",
    "    clean_memory()\n",
    "\n",
    "    all_oof = np.concatenate(all_oof)\n",
    "    all_true = np.concatenate(all_true)\n",
    "\n",
    "    oof = pd.DataFrame(all_oof.copy())\n",
    "    oof['id'] = np.arange(len(oof))\n",
    "\n",
    "    true = pd.DataFrame(all_true.copy())\n",
    "    true['id'] = np.arange(len(true))\n",
    "\n",
    "    cv = cohen_kappa_score(true[0], oof[0].clip(1,6).round(), weights=\"quadratic\")\n",
    "    print('CV Score for Low Catboost = ',cv)\n",
    "    cm = confusion_matrix(true[0], oof[0].clip(1,6).round(), labels=[x for x in range(1,7)])\n",
    "\n",
    "    disp = ConfusionMatrixDisplay(confusion_matrix=cm,\n",
    "                              display_labels=[x for x in range(1,7)])   \n",
    "    disp.plot()\n",
    "    plt.show()"
   ]
  },
  {
   "cell_type": "code",
   "execution_count": 28,
   "id": "9bc35bb4",
   "metadata": {
    "execution": {
     "iopub.execute_input": "2024-04-26T02:08:10.519645Z",
     "iopub.status.busy": "2024-04-26T02:08:10.518669Z",
     "iopub.status.idle": "2024-04-26T02:08:10.524919Z",
     "shell.execute_reply": "2024-04-26T02:08:10.523624Z"
    },
    "papermill": {
     "duration": 0.026242,
     "end_time": "2024-04-26T02:08:10.527571",
     "exception": false,
     "start_time": "2024-04-26T02:08:10.501329",
     "status": "completed"
    },
    "tags": []
   },
   "outputs": [],
   "source": [
    "if CFG.LOAD_MODELS_FROM is None:\n",
    "    print('Training CATBoost')\n",
    "    catboost()\n",
    "else: \n",
    "    None\n"
   ]
  },
  {
   "cell_type": "code",
   "execution_count": 29,
   "id": "5959390e",
   "metadata": {
    "execution": {
     "iopub.execute_input": "2024-04-26T02:08:10.562938Z",
     "iopub.status.busy": "2024-04-26T02:08:10.562406Z",
     "iopub.status.idle": "2024-04-26T02:08:11.201923Z",
     "shell.execute_reply": "2024-04-26T02:08:11.200495Z"
    },
    "papermill": {
     "duration": 0.660245,
     "end_time": "2024-04-26T02:08:11.204721",
     "exception": false,
     "start_time": "2024-04-26T02:08:10.544476",
     "status": "completed"
    },
    "tags": []
   },
   "outputs": [
    {
     "data": {
      "image/png": "[encoded data removed]",
      "text/plain": [
       "<Figure size 1200x600 with 1 Axes>"
      ]
     },
     "metadata": {},
     "output_type": "display_data"
    }
   ],
   "source": [
    "if CFG.LOAD_MODELS_FROM:\n",
    "    model = pickle.load(open(f'{CFG.LOAD_MODELS_FROM}CAT_v{CFG.VER}_f0.pkl', 'rb'))\n",
    "else: \n",
    "    model = pickle.load(open(f'CAT_v{CFG.VER}_f0.pkl', 'rb'))\n",
    "\n",
    "df_importance = pd.DataFrame({\n",
    "        'features_name': FEATURES,\n",
    "        'importance': model.feature_importances_,\n",
    "    })\n",
    "df_importance = df_importance.sort_values(by='importance', ascending=False)\n",
    "\n",
    "plt.figure(figsize=(12,6))\n",
    "plt.bar(data=df_importance.head(30), x='features_name', height='importance', color='pink', edgecolor='black')\n",
    "plt.title('Distribution of Feature Importance of Catboost')\n",
    "plt.xticks(rotation=90)\n",
    "plt.show()"
   ]
  },
  {
   "cell_type": "code",
   "execution_count": 30,
   "id": "6863ffe7",
   "metadata": {
    "execution": {
     "iopub.execute_input": "2024-04-26T02:08:11.243629Z",
     "iopub.status.busy": "2024-04-26T02:08:11.242296Z",
     "iopub.status.idle": "2024-04-26T02:08:11.292035Z",
     "shell.execute_reply": "2024-04-26T02:08:11.291103Z"
    },
    "papermill": {
     "duration": 0.0715,
     "end_time": "2024-04-26T02:08:11.294586",
     "exception": false,
     "start_time": "2024-04-26T02:08:11.223086",
     "status": "completed"
    },
    "tags": []
   },
   "outputs": [],
   "source": [
    "test_a = test.with_columns(\n",
    "         pl.col('full_text').map_elements(lambda x: dataPreprocessing(x))\n",
    "     )\n",
    "test_tfid = vectorizer.transform([i for i in test_a['full_text']])\n",
    "dense_matrix = test_tfid.toarray()\n",
    "df3 = pd.DataFrame(dense_matrix)\n",
    "tfid_columns = [ f'tfidf_{i}' for i in range(len(df3.columns))]\n",
    "df3.columns = tfid_columns\n",
    "df3['essay_id'] = df_test['essay_id']"
   ]
  },
  {
   "cell_type": "code",
   "execution_count": 31,
   "id": "4963dc88",
   "metadata": {
    "execution": {
     "iopub.execute_input": "2024-04-26T02:08:11.331791Z",
     "iopub.status.busy": "2024-04-26T02:08:11.330674Z",
     "iopub.status.idle": "2024-04-26T02:08:11.374617Z",
     "shell.execute_reply": "2024-04-26T02:08:11.373338Z"
    },
    "papermill": {
     "duration": 0.06563,
     "end_time": "2024-04-26T02:08:11.377527",
     "exception": false,
     "start_time": "2024-04-26T02:08:11.311897",
     "status": "completed"
    },
    "tags": []
   },
   "outputs": [],
   "source": [
    "test_b = test.with_columns(\n",
    "         pl.col('full_text').map_elements(lambda x: dataPreprocessing(x))\n",
    "     )\n",
    "test_cnt = vectorizer_cnt.transform([i for i in test_b['full_text']])\n",
    "dense_matrix = test_cnt.toarray()\n",
    "df4 = pd.DataFrame(dense_matrix)\n",
    "cnt_columns = [ f'cnt_{i}' for i in range(len(df4.columns))]\n",
    "df4.columns = cnt_columns\n",
    "df4['essay_id'] = df_test['essay_id']"
   ]
  },
  {
   "cell_type": "code",
   "execution_count": 32,
   "id": "f769a08c",
   "metadata": {
    "execution": {
     "iopub.execute_input": "2024-04-26T02:08:11.414854Z",
     "iopub.status.busy": "2024-04-26T02:08:11.414212Z",
     "iopub.status.idle": "2024-04-26T02:08:11.547586Z",
     "shell.execute_reply": "2024-04-26T02:08:11.545884Z"
    },
    "papermill": {
     "duration": 0.155074,
     "end_time": "2024-04-26T02:08:11.550160",
     "exception": false,
     "start_time": "2024-04-26T02:08:11.395086",
     "status": "completed"
    },
    "tags": []
   },
   "outputs": [
    {
     "name": "stdout",
     "output_type": "stream",
     "text": [
      "Paragraph Preprocessing\n",
      "Caculate the length of each paragraph\n",
      "Caculate the number of sentences and words in each paragraph\n",
      "Aggregation\n",
      "Preprocess full_text and use periods to segment sentences in the text\n",
      "Caculate the length of a sentence\n",
      "Count the number of words in each sentence\n",
      "Aggregation\n",
      "Preprocess full_text and use spaces to seperate words fro the text\n",
      "Caculate the length of a word\n",
      "Aggregation\n",
      "CPU times: user 65.2 ms, sys: 16.3 ms, total: 81.5 ms\n",
      "Wall time: 125 ms\n"
     ]
    }
   ],
   "source": [
    "%%time \n",
    "test_feats1 = Paragraph_Features(test)\n",
    "test_feats1 = Paragraph_aggregation(test_feats1)\n",
    "test_feats2 = Sentence_Features(test)\n",
    "test_feats2 = Sentence_aggregation(test_feats2)\n",
    "test_feats3 = Word_Features(test)\n",
    "test_feats3 = Word_aggregation(test_feats3)"
   ]
  },
  {
   "cell_type": "code",
   "execution_count": 33,
   "id": "1fe24570",
   "metadata": {
    "execution": {
     "iopub.execute_input": "2024-04-26T02:08:11.587513Z",
     "iopub.status.busy": "2024-04-26T02:08:11.587051Z",
     "iopub.status.idle": "2024-04-26T02:08:11.636055Z",
     "shell.execute_reply": "2024-04-26T02:08:11.634885Z"
    },
    "papermill": {
     "duration": 0.070855,
     "end_time": "2024-04-26T02:08:11.638737",
     "exception": false,
     "start_time": "2024-04-26T02:08:11.567882",
     "status": "completed"
    },
    "tags": []
   },
   "outputs": [
    {
     "name": "stdout",
     "output_type": "stream",
     "text": [
      "Shape of test_feats: (3, 13136)\n"
     ]
    },
    {
     "data": {
      "text/html": [
       "<div>\n",
       "<style scoped>\n",
       "    .dataframe tbody tr th:only-of-type {\n",
       "        vertical-align: middle;\n",
       "    }\n",
       "\n",
       "    .dataframe tbody tr th {\n",
       "        vertical-align: top;\n",
       "    }\n",
       "\n",
       "    .dataframe thead th {\n",
       "        text-align: right;\n",
       "    }\n",
       "</style>\n",
       "<table border=\"1\" class=\"dataframe\">\n",
       "  <thead>\n",
       "    <tr style=\"text-align: right;\">\n",
       "      <th></th>\n",
       "      <th>essay_id</th>\n",
       "      <th>paragraph_100_cnt</th>\n",
       "      <th>paragraph_150_cnt</th>\n",
       "      <th>paragraph_200_cnt</th>\n",
       "      <th>paragraph_250_cnt</th>\n",
       "      <th>paragraph_300_cnt</th>\n",
       "      <th>paragraph_350_cnt</th>\n",
       "      <th>paragraph_400_cnt</th>\n",
       "      <th>paragraph_450_cnt</th>\n",
       "      <th>paragraph_500_cnt</th>\n",
       "      <th>...</th>\n",
       "      <th>cnt_4914</th>\n",
       "      <th>cnt_4915</th>\n",
       "      <th>cnt_4916</th>\n",
       "      <th>cnt_4917</th>\n",
       "      <th>cnt_4918</th>\n",
       "      <th>cnt_4919</th>\n",
       "      <th>cnt_4920</th>\n",
       "      <th>cnt_4921</th>\n",
       "      <th>cnt_4922</th>\n",
       "      <th>cnt_4923</th>\n",
       "    </tr>\n",
       "  </thead>\n",
       "  <tbody>\n",
       "    <tr>\n",
       "      <th>0</th>\n",
       "      <td>000d118</td>\n",
       "      <td>1</td>\n",
       "      <td>1</td>\n",
       "      <td>1</td>\n",
       "      <td>1</td>\n",
       "      <td>1</td>\n",
       "      <td>1</td>\n",
       "      <td>1</td>\n",
       "      <td>1</td>\n",
       "      <td>1</td>\n",
       "      <td>...</td>\n",
       "      <td>0</td>\n",
       "      <td>0</td>\n",
       "      <td>0</td>\n",
       "      <td>0</td>\n",
       "      <td>0</td>\n",
       "      <td>0</td>\n",
       "      <td>0</td>\n",
       "      <td>0</td>\n",
       "      <td>0</td>\n",
       "      <td>0</td>\n",
       "    </tr>\n",
       "    <tr>\n",
       "      <th>1</th>\n",
       "      <td>000fe60</td>\n",
       "      <td>5</td>\n",
       "      <td>5</td>\n",
       "      <td>4</td>\n",
       "      <td>3</td>\n",
       "      <td>3</td>\n",
       "      <td>2</td>\n",
       "      <td>1</td>\n",
       "      <td>1</td>\n",
       "      <td>0</td>\n",
       "      <td>...</td>\n",
       "      <td>0</td>\n",
       "      <td>0</td>\n",
       "      <td>0</td>\n",
       "      <td>1</td>\n",
       "      <td>1</td>\n",
       "      <td>1</td>\n",
       "      <td>0</td>\n",
       "      <td>0</td>\n",
       "      <td>0</td>\n",
       "      <td>0</td>\n",
       "    </tr>\n",
       "    <tr>\n",
       "      <th>2</th>\n",
       "      <td>001ab80</td>\n",
       "      <td>4</td>\n",
       "      <td>4</td>\n",
       "      <td>4</td>\n",
       "      <td>4</td>\n",
       "      <td>4</td>\n",
       "      <td>4</td>\n",
       "      <td>4</td>\n",
       "      <td>4</td>\n",
       "      <td>3</td>\n",
       "      <td>...</td>\n",
       "      <td>0</td>\n",
       "      <td>2</td>\n",
       "      <td>2</td>\n",
       "      <td>0</td>\n",
       "      <td>0</td>\n",
       "      <td>0</td>\n",
       "      <td>0</td>\n",
       "      <td>0</td>\n",
       "      <td>0</td>\n",
       "      <td>0</td>\n",
       "    </tr>\n",
       "  </tbody>\n",
       "</table>\n",
       "<p>3 rows × 13136 columns</p>\n",
       "</div>"
      ],
      "text/plain": [
       "  essay_id  paragraph_100_cnt  paragraph_150_cnt  paragraph_200_cnt  \\\n",
       "0  000d118                  1                  1                  1   \n",
       "1  000fe60                  5                  5                  4   \n",
       "2  001ab80                  4                  4                  4   \n",
       "\n",
       "   paragraph_250_cnt  paragraph_300_cnt  paragraph_350_cnt  paragraph_400_cnt  \\\n",
       "0                  1                  1                  1                  1   \n",
       "1                  3                  3                  2                  1   \n",
       "2                  4                  4                  4                  4   \n",
       "\n",
       "   paragraph_450_cnt  paragraph_500_cnt  ...  cnt_4914  cnt_4915  cnt_4916  \\\n",
       "0                  1                  1  ...         0         0         0   \n",
       "1                  1                  0  ...         0         0         0   \n",
       "2                  4                  3  ...         0         2         2   \n",
       "\n",
       "   cnt_4917  cnt_4918  cnt_4919  cnt_4920  cnt_4921  cnt_4922  cnt_4923  \n",
       "0         0         0         0         0         0         0         0  \n",
       "1         1         1         1         0         0         0         0  \n",
       "2         0         0         0         0         0         0         0  \n",
       "\n",
       "[3 rows x 13136 columns]"
      ]
     },
     "metadata": {},
     "output_type": "display_data"
    }
   ],
   "source": [
    "test_feats = test_feats1.merge(test_feats2, on='essay_id', how='left')\n",
    "test_feats = test_feats.merge(test_feats3, on='essay_id', how='left')\n",
    "test_feats = test_feats.merge(df3, on='essay_id', how='left')\n",
    "test_feats = test_feats.merge(df4, on='essay_id', how='left')\n",
    "print('Shape of test_feats:', test_feats.shape)\n",
    "display(test_feats.head())"
   ]
  },
  {
   "cell_type": "code",
   "execution_count": 34,
   "id": "315bdf29",
   "metadata": {
    "execution": {
     "iopub.execute_input": "2024-04-26T02:08:11.692454Z",
     "iopub.status.busy": "2024-04-26T02:08:11.691968Z",
     "iopub.status.idle": "2024-04-26T02:08:27.796681Z",
     "shell.execute_reply": "2024-04-26T02:08:27.794568Z"
    },
    "papermill": {
     "duration": 16.141229,
     "end_time": "2024-04-26T02:08:27.805454",
     "exception": false,
     "start_time": "2024-04-26T02:08:11.664225",
     "status": "completed"
    },
    "tags": []
   },
   "outputs": [
    {
     "name": "stdout",
     "output_type": "stream",
     "text": [
      "Fold 1\n",
      "Fold 2\n",
      "Fold 3\n",
      "Fold 4\n",
      "Fold 5\n",
      "Fold 6\n",
      "Fold 7\n",
      "Fold 8\n",
      "Fold 9\n",
      "Fold 10\n"
     ]
    }
   ],
   "source": [
    "preds = []\n",
    "categorical_columns = test_feats.select_dtypes(include=['object','category']).columns.tolist()\n",
    "FEATURES = [col for col in test_feats.columns if col not in categorical_columns]\n",
    "\n",
    "\n",
    "for i in range(10):\n",
    "    print(f'Fold {i+1}')\n",
    "    if CFG.LOAD_MODELS_FROM:\n",
    "        model = pickle.load(open(f'{CFG.LOAD_MODELS_FROM}CAT_v{CFG.VER}_f{i}.pkl', 'rb'))\n",
    "    else: \n",
    "        model = pickle.load(open(f'CAT_v{CFG.VER}_f{i}.pkl', 'rb'))\n",
    "        \n",
    "        \n",
    "    pred= model.predict(test_feats[FEATURES])\n",
    "\n",
    "    \n",
    "    preds.append(pred)\n",
    "pred = np.mean(preds,axis=0)          \n",
    "   "
   ]
  },
  {
   "cell_type": "code",
   "execution_count": 35,
   "id": "ccb553a6",
   "metadata": {
    "execution": {
     "iopub.execute_input": "2024-04-26T02:08:27.886716Z",
     "iopub.status.busy": "2024-04-26T02:08:27.885410Z",
     "iopub.status.idle": "2024-04-26T02:08:27.924160Z",
     "shell.execute_reply": "2024-04-26T02:08:27.922422Z"
    },
    "papermill": {
     "duration": 0.084447,
     "end_time": "2024-04-26T02:08:27.926958",
     "exception": false,
     "start_time": "2024-04-26T02:08:27.842511",
     "status": "completed"
    },
    "tags": []
   },
   "outputs": [
    {
     "name": "stdout",
     "output_type": "stream",
     "text": [
      "Submission shape (3, 2)\n"
     ]
    },
    {
     "data": {
      "text/html": [
       "<div>\n",
       "<style scoped>\n",
       "    .dataframe tbody tr th:only-of-type {\n",
       "        vertical-align: middle;\n",
       "    }\n",
       "\n",
       "    .dataframe tbody tr th {\n",
       "        vertical-align: top;\n",
       "    }\n",
       "\n",
       "    .dataframe thead th {\n",
       "        text-align: right;\n",
       "    }\n",
       "</style>\n",
       "<table border=\"1\" class=\"dataframe\">\n",
       "  <thead>\n",
       "    <tr style=\"text-align: right;\">\n",
       "      <th></th>\n",
       "      <th>essay_id</th>\n",
       "      <th>score</th>\n",
       "    </tr>\n",
       "  </thead>\n",
       "  <tbody>\n",
       "    <tr>\n",
       "      <th>0</th>\n",
       "      <td>000d118</td>\n",
       "      <td>2.0</td>\n",
       "    </tr>\n",
       "    <tr>\n",
       "      <th>1</th>\n",
       "      <td>000fe60</td>\n",
       "      <td>3.0</td>\n",
       "    </tr>\n",
       "    <tr>\n",
       "      <th>2</th>\n",
       "      <td>001ab80</td>\n",
       "      <td>4.0</td>\n",
       "    </tr>\n",
       "  </tbody>\n",
       "</table>\n",
       "</div>"
      ],
      "text/plain": [
       "  essay_id  score\n",
       "0  000d118    2.0\n",
       "1  000fe60    3.0\n",
       "2  001ab80    4.0"
      ]
     },
     "execution_count": 35,
     "metadata": {},
     "output_type": "execute_result"
    }
   ],
   "source": [
    "sub = pd.DataFrame({'essay_id': df_test.essay_id.values})\n",
    "sub[TARGET] = pred.clip(1,6).round() \n",
    "sub.to_csv('submission.csv',index=False)\n",
    "print('Submission shape', sub.shape)\n",
    "sub.head()"
   ]
  }
 ],
 "metadata": {
  "kaggle": {
   "accelerator": "none",
   "dataSources": [
    {
     "databundleVersionId": 8059942,
     "sourceId": 71485,
     "sourceType": "competition"
    },
    {
     "datasetId": 4881896,
     "sourceId": 8231866,
     "sourceType": "datasetVersion"
    },
    {
     "sourceId": 173832210,
     "sourceType": "kernelVersion"
    }
   ],
   "dockerImageVersionId": 30683,
   "isGpuEnabled": false,
   "isInternetEnabled": false,
   "language": "python",
   "sourceType": "notebook"
  },
  "kernelspec": {
   "display_name": "Python 3",
   "language": "python",
   "name": "python3"
  },
  "language_info": {
   "codemirror_mode": {
    "name": "ipython",
    "version": 3
   },
   "file_extension": ".py",
   "mimetype": "text/x-python",
   "name": "python",
   "nbconvert_exporter": "python",
   "pygments_lexer": "ipython3",
   "version": "3.10.13"
  },
  "papermill": {
   "default_parameters": {},
   "duration": 459.603236,
   "end_time": "2024-04-26T02:08:30.562010",
   "environment_variables": {},
   "exception": null,
   "input_path": "__notebook__.ipynb",
   "output_path": "__notebook__.ipynb",
   "parameters": {},
   "start_time": "2024-04-26T02:00:50.958774",
   "version": "2.5.0"
  }
 },
 "nbformat": 4,
 "nbformat_minor": 5
}
