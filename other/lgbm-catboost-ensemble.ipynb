{
 "cells": [
  {
   "cell_type": "markdown",
   "id": "8c911170",
   "metadata": {
    "papermill": {
     "duration": 0.009668,
     "end_time": "2024-04-13T17:14:20.444457",
     "exception": false,
     "start_time": "2024-04-13T17:14:20.434789",
     "status": "completed"
    },
    "tags": []
   },
   "source": [
    "# **Hi to all! This is my quick start notebook.**"
   ]
  },
  {
   "cell_type": "markdown",
   "id": "f8a43737",
   "metadata": {
    "papermill": {
     "duration": 0.00897,
     "end_time": "2024-04-13T17:14:20.462603",
     "exception": false,
     "start_time": "2024-04-13T17:14:20.453633",
     "status": "completed"
    },
    "tags": []
   },
   "source": [
    "# Hmm, the result of this notebook on the public dataset is interesting.... 0.540 is a lot, considering the failure of the model on the validation set, we will improve the model\n",
    "\n",
    "# version 2 and 3 - Added cross validation\n",
    "\n",
    "# version 4 - Added LGBM from this notebook https://www.kaggle.com/code/davidjlochner/base-tfidf-lgbm\n",
    "\n",
    "# versions 5-8 - I tried changing the ngram parameter, but ngram=(1,1) seems to work best\n",
    "\n",
    "# version 9 - Used autogluon to build the model\n",
    "\n",
    "# version 12 - Make custom scorer fot the autogluon - This only worsened the result\n",
    "\n",
    "# version 14-16 - Added cross validation \n",
    "\n",
    "# version 17 - Used new preprocessing from this great notebook https://www.kaggle.com/code/ye11725/tfidf-lgbm-baseline-with-code-comments\n",
    "\n",
    "# version 21 - Used new model from this great notebook https://www.kaggle.com/code/ye11725/tfidf-lgbm-baseline-with-code-comments, which works much better\n",
    "\n",
    "# version 23 - I will try to use GaussianNB to transform the results of the regression model into class labels\n",
    "\n",
    "# version 25 - Restored the previous version because the idea didn't work"
   ]
  },
  {
   "cell_type": "markdown",
   "id": "92df9c7b",
   "metadata": {
    "papermill": {
     "duration": 0.008794,
     "end_time": "2024-04-13T17:14:20.480336",
     "exception": false,
     "start_time": "2024-04-13T17:14:20.471542",
     "status": "completed"
    },
    "tags": []
   },
   "source": [
    "Choose the appropriate version of autogluon to train on GPU or CPU"
   ]
  },
  {
   "cell_type": "code",
   "execution_count": 1,
   "id": "30e385fc",
   "metadata": {
    "execution": {
     "iopub.execute_input": "2024-04-13T17:14:20.500144Z",
     "iopub.status.busy": "2024-04-13T17:14:20.499789Z",
     "iopub.status.idle": "2024-04-13T17:14:20.504222Z",
     "shell.execute_reply": "2024-04-13T17:14:20.503481Z"
    },
    "papermill": {
     "duration": 0.016816,
     "end_time": "2024-04-13T17:14:20.506165",
     "exception": false,
     "start_time": "2024-04-13T17:14:20.489349",
     "status": "completed"
    },
    "tags": []
   },
   "outputs": [],
   "source": [
    "#!pip install -q --no-index --find-links=/kaggle/input/autogluon-cpu autogluon\n",
    "#!pip install -q --no-index --find-links=/kaggle/input/autogluon-gpu autogluon"
   ]
  },
  {
   "cell_type": "code",
   "execution_count": 2,
   "id": "00eda8c1",
   "metadata": {
    "execution": {
     "iopub.execute_input": "2024-04-13T17:14:20.525620Z",
     "iopub.status.busy": "2024-04-13T17:14:20.525341Z",
     "iopub.status.idle": "2024-04-13T17:14:47.109804Z",
     "shell.execute_reply": "2024-04-13T17:14:47.108822Z"
    },
    "papermill": {
     "duration": 26.596528,
     "end_time": "2024-04-13T17:14:47.111720",
     "exception": false,
     "start_time": "2024-04-13T17:14:20.515192",
     "status": "completed"
    },
    "tags": []
   },
   "outputs": [
    {
     "name": "stderr",
     "output_type": "stream",
     "text": [
      "/opt/conda/lib/python3.10/site-packages/dask/dataframe/_pyarrow_compat.py:23: UserWarning: You are using pyarrow version 11.0.0 which is known to be insecure. See https://www.cve.org/CVERecord?id=CVE-2023-47248 for further details. Please upgrade to pyarrow>=14.0.1 or install pyarrow-hotfix to patch your current version.\n",
      "  warnings.warn(\n"
     ]
    },
    {
     "name": "stdout",
     "output_type": "stream",
     "text": [
      "[nltk_data] Error loading wordnet: <urlopen error [Errno -3] Temporary\n",
      "[nltk_data]     failure in name resolution>\n"
     ]
    },
    {
     "data": {
      "text/plain": [
       "False"
      ]
     },
     "execution_count": 2,
     "metadata": {},
     "output_type": "execute_result"
    }
   ],
   "source": [
    "# Importing necessary libraries\n",
    "import gc\n",
    "import lightgbm as lgb\n",
    "from sklearn.ensemble import RandomForestClassifier, VotingClassifier\n",
    "import nltk\n",
    "import numpy as np # linear algebra\n",
    "import pandas as pd # data processing, CSV file I/O (e.g. pd.read_csv)\n",
    "import re\n",
    "import random\n",
    "from sklearn.model_selection import train_test_split, GridSearchCV, RandomizedSearchCV\n",
    "from sklearn.ensemble import RandomForestClassifier, ExtraTreesClassifier, AdaBoostClassifier,GradientBoostingClassifier,BaggingClassifier\n",
    "from sklearn.linear_model import LogisticRegression, Perceptron\n",
    "from sklearn.svm import LinearSVC\n",
    "from sklearn.naive_bayes import GaussianNB,MultinomialNB,ComplementNB\n",
    "from sklearn.neural_network import MLPClassifier\n",
    "from sklearn import tree\n",
    "from sklearn.neighbors import KNeighborsClassifier\n",
    "from sklearn.feature_extraction.text import CountVectorizer,TfidfVectorizer\n",
    "from sklearn.pipeline import Pipeline\n",
    "from imblearn.ensemble import BalancedBaggingClassifier\n",
    "from sklearn.feature_selection import SelectFromModel\n",
    "import matplotlib.pyplot as plt\n",
    "from sklearn.datasets import make_classification\n",
    "from sklearn.metrics import confusion_matrix, ConfusionMatrixDisplay\n",
    "from sklearn.model_selection import train_test_split, StratifiedKFold\n",
    "from sklearn.metrics import confusion_matrix, ConfusionMatrixDisplay, f1_score\n",
    "import matplotlib.pyplot as plt\n",
    "from sklearn.metrics import cohen_kappa_score\n",
    "#from autogluon.tabular.models import NNFastAiTabularModel\n",
    "#from autogluon.tabular import TabularDataset, TabularPredictor\n",
    "from lightgbm import log_evaluation, early_stopping\n",
    "from sklearn.linear_model import SGDClassifier\n",
    "import polars as pl\n",
    "\n",
    "nltk.download('wordnet')"
   ]
  },
  {
   "cell_type": "code",
   "execution_count": 3,
   "id": "da929729",
   "metadata": {
    "execution": {
     "iopub.execute_input": "2024-04-13T17:14:47.133364Z",
     "iopub.status.busy": "2024-04-13T17:14:47.132756Z",
     "iopub.status.idle": "2024-04-13T17:14:47.764284Z",
     "shell.execute_reply": "2024-04-13T17:14:47.763158Z"
    },
    "papermill": {
     "duration": 0.643945,
     "end_time": "2024-04-13T17:14:47.766346",
     "exception": false,
     "start_time": "2024-04-13T17:14:47.122401",
     "status": "completed"
    },
    "tags": []
   },
   "outputs": [
    {
     "data": {
      "text/html": [
       "<div><style>\n",
       ".dataframe > thead > tr,\n",
       ".dataframe > tbody > tr {\n",
       "  text-align: right;\n",
       "  white-space: pre-wrap;\n",
       "}\n",
       "</style>\n",
       "<small>shape: (1, 4)</small><table border=\"1\" class=\"dataframe\"><thead><tr><th>essay_id</th><th>full_text</th><th>score</th><th>paragraph</th></tr><tr><td>str</td><td>str</td><td>i64</td><td>list[str]</td></tr></thead><tbody><tr><td>&quot;000d118&quot;</td><td>&quot;Many people ha…</td><td>3</td><td>[&quot;Many people have car where they live. The thing they don&#x27;t know is that when you use a car alot of thing can happen like you can get in accidet or the smoke that the car has is bad to breath on if someone is walk but in VAUBAN,Germany they dont have that proble because 70 percent of vauban&#x27;s families do not own cars,and 57 percent sold a car to move there. Street parkig ,driveways and home garages are forbidden on the outskirts of freiburd that near the French and Swiss borders. You probaly won&#x27;t see a car in Vauban&#x27;s streets because they are completely &quot;car free&quot; but If some that lives in VAUBAN that owns a car ownership is allowed,but there are only two places that you can park a large garages at the edge of the development,where a car owner buys a space but it not cheap to buy one they sell the space for you car for $40,000 along with a home. The vauban people completed this in 2006 ,they said that this an example of a growing trend in Europe,The untile states and some where else are suburban life from auto use this is called &quot;smart planning&quot;. The current efforts to drastically reduce greenhouse gas emissions from tailes the passengee cars are responsible for 12 percent of greenhouse gas emissions in Europe and up to 50 percent in some car intensive in the United States. I honeslty think that good idea that they did that is Vaudan because that makes cities denser and better for walking and in VAUBAN there are 5,500 residents within a rectangular square mile. In the artical David Gold berg said that &quot;All of our development since World war 2 has been centered on the cars,and that will have to change&quot; and i think that was very true what David Gold said because alot thing we need cars to do we can go anyway were with out cars beacuse some people are a very lazy to walk to place thats why they alot of people use car and i think that it was a good idea that that they did that in VAUBAN so people can see how we really don&#x27;t need car to go to place from place because we can walk from were we need to go or we can ride bycles with out the use of a car. It good that they are doing that if you thik about your help the earth in way and thats a very good thing to. In the United states ,the Environmental protection Agency is promoting what is called &quot;car reduced&quot;communtunties,and the legislators are starting to act,if cautiously. Maany experts expect pubic transport serving suburbs to play a much larger role in a new six years federal transportation bill to approved this year. In previous bill,80 percent of appropriations have by law gone to highways and only 20 percent to other transports. There many good reason why they should do this.    &quot;]</td></tr></tbody></table></div>"
      ],
      "text/plain": [
       "shape: (1, 4)\n",
       "┌──────────┬───────────────────────────────────┬───────┬───────────────────────────────────┐\n",
       "│ essay_id ┆ full_text                         ┆ score ┆ paragraph                         │\n",
       "│ ---      ┆ ---                               ┆ ---   ┆ ---                               │\n",
       "│ str      ┆ str                               ┆ i64   ┆ list[str]                         │\n",
       "╞══════════╪═══════════════════════════════════╪═══════╪═══════════════════════════════════╡\n",
       "│ 000d118  ┆ Many people have car where they … ┆ 3     ┆ [\"Many people have car where the… │\n",
       "└──────────┴───────────────────────────────────┴───────┴───────────────────────────────────┘"
      ]
     },
     "execution_count": 3,
     "metadata": {},
     "output_type": "execute_result"
    }
   ],
   "source": [
    "columns = [  \n",
    "    (\n",
    "        pl.col(\"full_text\").str.split(by=\"\\n\\n\").alias(\"paragraph\")\n",
    "    ),\n",
    "]\n",
    "PATH = \"/kaggle/input/learning-agency-lab-automated-essay-scoring-2/\"\n",
    "# 载入训练集和测试集，同时对full_text数据使用\\n\\n字符分割为列表，重命名为paragraph\n",
    "# Load training and testing sets, while using \\ n \\ n character segmentation to list and renaming to paragraph for full_text data\n",
    "train = pl.read_csv(PATH + \"train.csv\").with_columns(columns)\n",
    "test = pl.read_csv(PATH + \"test.csv\").with_columns(columns)\n",
    "# 显示训练集中的第一个样本数据\n",
    "# Display the first sample data in the training set\n",
    "train.head(1)"
   ]
  },
  {
   "cell_type": "code",
   "execution_count": 4,
   "id": "a2ab8836",
   "metadata": {
    "execution": {
     "iopub.execute_input": "2024-04-13T17:14:47.787792Z",
     "iopub.status.busy": "2024-04-13T17:14:47.787021Z",
     "iopub.status.idle": "2024-04-13T17:14:47.791155Z",
     "shell.execute_reply": "2024-04-13T17:14:47.790331Z"
    },
    "papermill": {
     "duration": 0.016547,
     "end_time": "2024-04-13T17:14:47.792936",
     "exception": false,
     "start_time": "2024-04-13T17:14:47.776389",
     "status": "completed"
    },
    "tags": []
   },
   "outputs": [],
   "source": [
    "# Importing the ProfileReport class from the ydata_profiling library\n",
    "#from ydata_profiling import ProfileReport\n",
    "\n",
    "# Generating a profile report for the train dataset\n",
    "# Setting the title of the report to \"Pandas Profiling Report\"\n",
    "#profile = ProfileReport(train, title=\"Pandas Profiling Report\")\n",
    "\n",
    "# Displaying the generated profile report\n",
    "#profile"
   ]
  },
  {
   "cell_type": "markdown",
   "id": "1acb49aa",
   "metadata": {
    "papermill": {
     "duration": 0.009553,
     "end_time": "2024-04-13T17:14:47.812088",
     "exception": false,
     "start_time": "2024-04-13T17:14:47.802535",
     "status": "completed"
    },
    "tags": []
   },
   "source": [
    "**A quick analysis showed that the class distribution resembles a normal distribution, interestingly….**\n",
    "\n",
    "\n",
    "**Let's try to build a simple base model so we have something to go off of.\n",
    "I will use a bag-of-words model with the addition of feature selection, which can simplify the classification model.**\n"
   ]
  },
  {
   "cell_type": "markdown",
   "id": "3fdc42c5",
   "metadata": {
    "papermill": {
     "duration": 0.009564,
     "end_time": "2024-04-13T17:14:47.831416",
     "exception": false,
     "start_time": "2024-04-13T17:14:47.821852",
     "status": "completed"
    },
    "tags": []
   },
   "source": [
    "# **Preprocessing**"
   ]
  },
  {
   "cell_type": "markdown",
   "id": "0f24e921",
   "metadata": {
    "papermill": {
     "duration": 0.009272,
     "end_time": "2024-04-13T17:14:47.850138",
     "exception": false,
     "start_time": "2024-04-13T17:14:47.840866",
     "status": "completed"
    },
    "tags": []
   },
   "source": [
    "## Features engineering - https://www.kaggle.com/code/ye11725/tfidf-lgbm-baseline-with-code-comments"
   ]
  },
  {
   "cell_type": "code",
   "execution_count": 5,
   "id": "80e1a263",
   "metadata": {
    "execution": {
     "iopub.execute_input": "2024-04-13T17:14:47.870450Z",
     "iopub.status.busy": "2024-04-13T17:14:47.870145Z",
     "iopub.status.idle": "2024-04-13T17:14:47.877408Z",
     "shell.execute_reply": "2024-04-13T17:14:47.876543Z"
    },
    "papermill": {
     "duration": 0.019641,
     "end_time": "2024-04-13T17:14:47.879269",
     "exception": false,
     "start_time": "2024-04-13T17:14:47.859628",
     "status": "completed"
    },
    "tags": []
   },
   "outputs": [],
   "source": [
    "def removeHTML(x):\n",
    "    html=re.compile(r'<.*?>')\n",
    "    return html.sub(r'',x)\n",
    "def dataPreprocessing(x):\n",
    "    # 将单词转化为小写\n",
    "    # Convert words to lowercase\n",
    "    x = x.lower()\n",
    "    # Remove HTML\n",
    "    # 移除html\n",
    "    x = removeHTML(x)\n",
    "    # 删除以@作为首字母的字符串\n",
    "    # Delete strings starting with @\n",
    "    x = re.sub(\"@\\w+\", '',x)\n",
    "    # 删除数字\n",
    "    # Delete Numbers\n",
    "    x = re.sub(\"'\\d+\", '',x)\n",
    "    x = re.sub(\"\\d+\", '',x)\n",
    "    # 删除网址\n",
    "    # Delete URL\n",
    "    x = re.sub(\"http\\w+\", '',x)\n",
    "    # 将连续空白符替换为一个空格字符\n",
    "    # Replace consecutive empty spaces with a single space character\n",
    "    x = re.sub(r\"\\s+\", \" \", x)\n",
    "    # 替换连续的句号和逗号为一个\n",
    "    # Replace consecutive commas and periods with one comma and period character\n",
    "    x = re.sub(r\"\\.+\", \".\", x)\n",
    "    x = re.sub(r\"\\,+\", \",\", x)\n",
    "    # 去除开头结尾的空白符\n",
    "    # Remove empty characters at the beginning and end\n",
    "    x = x.strip()\n",
    "    return x"
   ]
  },
  {
   "cell_type": "markdown",
   "id": "495f3ce2",
   "metadata": {
    "papermill": {
     "duration": 0.00945,
     "end_time": "2024-04-13T17:14:47.898303",
     "exception": false,
     "start_time": "2024-04-13T17:14:47.888853",
     "status": "completed"
    },
    "tags": []
   },
   "source": [
    "### 2.Paragraph Features"
   ]
  },
  {
   "cell_type": "code",
   "execution_count": 6,
   "id": "fe92dff5",
   "metadata": {
    "execution": {
     "iopub.execute_input": "2024-04-13T17:14:47.918647Z",
     "iopub.status.busy": "2024-04-13T17:14:47.918044Z",
     "iopub.status.idle": "2024-04-13T17:14:55.516577Z",
     "shell.execute_reply": "2024-04-13T17:14:55.515547Z"
    },
    "papermill": {
     "duration": 7.611353,
     "end_time": "2024-04-13T17:14:55.519006",
     "exception": false,
     "start_time": "2024-04-13T17:14:47.907653",
     "status": "completed"
    },
    "tags": []
   },
   "outputs": [
    {
     "name": "stdout",
     "output_type": "stream",
     "text": [
      "Features Number:  31\n"
     ]
    },
    {
     "data": {
      "text/html": [
       "<div>\n",
       "<style scoped>\n",
       "    .dataframe tbody tr th:only-of-type {\n",
       "        vertical-align: middle;\n",
       "    }\n",
       "\n",
       "    .dataframe tbody tr th {\n",
       "        vertical-align: top;\n",
       "    }\n",
       "\n",
       "    .dataframe thead th {\n",
       "        text-align: right;\n",
       "    }\n",
       "</style>\n",
       "<table border=\"1\" class=\"dataframe\">\n",
       "  <thead>\n",
       "    <tr style=\"text-align: right;\">\n",
       "      <th></th>\n",
       "      <th>essay_id</th>\n",
       "      <th>paragraph_50_cnt</th>\n",
       "      <th>paragraph_75_cnt</th>\n",
       "      <th>paragraph_100_cnt</th>\n",
       "      <th>paragraph_125_cnt</th>\n",
       "      <th>paragraph_150_cnt</th>\n",
       "      <th>paragraph_175_cnt</th>\n",
       "      <th>paragraph_200_cnt</th>\n",
       "      <th>paragraph_250_cnt</th>\n",
       "      <th>paragraph_300_cnt</th>\n",
       "      <th>...</th>\n",
       "      <th>paragraph_len_min</th>\n",
       "      <th>paragraph_sentence_cnt_min</th>\n",
       "      <th>paragraph_word_cnt_min</th>\n",
       "      <th>paragraph_len_first</th>\n",
       "      <th>paragraph_sentence_cnt_first</th>\n",
       "      <th>paragraph_word_cnt_first</th>\n",
       "      <th>paragraph_len_last</th>\n",
       "      <th>paragraph_sentence_cnt_last</th>\n",
       "      <th>paragraph_word_cnt_last</th>\n",
       "      <th>score</th>\n",
       "    </tr>\n",
       "  </thead>\n",
       "  <tbody>\n",
       "    <tr>\n",
       "      <th>0</th>\n",
       "      <td>000d118</td>\n",
       "      <td>1</td>\n",
       "      <td>1</td>\n",
       "      <td>1</td>\n",
       "      <td>1</td>\n",
       "      <td>1</td>\n",
       "      <td>1</td>\n",
       "      <td>1</td>\n",
       "      <td>1</td>\n",
       "      <td>1</td>\n",
       "      <td>...</td>\n",
       "      <td>2640</td>\n",
       "      <td>14</td>\n",
       "      <td>491</td>\n",
       "      <td>2640</td>\n",
       "      <td>14</td>\n",
       "      <td>491</td>\n",
       "      <td>2640</td>\n",
       "      <td>14</td>\n",
       "      <td>491</td>\n",
       "      <td>3</td>\n",
       "    </tr>\n",
       "    <tr>\n",
       "      <th>1</th>\n",
       "      <td>000fe60</td>\n",
       "      <td>5</td>\n",
       "      <td>5</td>\n",
       "      <td>5</td>\n",
       "      <td>5</td>\n",
       "      <td>5</td>\n",
       "      <td>5</td>\n",
       "      <td>4</td>\n",
       "      <td>3</td>\n",
       "      <td>3</td>\n",
       "      <td>...</td>\n",
       "      <td>184</td>\n",
       "      <td>3</td>\n",
       "      <td>37</td>\n",
       "      <td>184</td>\n",
       "      <td>4</td>\n",
       "      <td>37</td>\n",
       "      <td>235</td>\n",
       "      <td>3</td>\n",
       "      <td>46</td>\n",
       "      <td>3</td>\n",
       "    </tr>\n",
       "    <tr>\n",
       "      <th>2</th>\n",
       "      <td>001ab80</td>\n",
       "      <td>4</td>\n",
       "      <td>4</td>\n",
       "      <td>4</td>\n",
       "      <td>4</td>\n",
       "      <td>4</td>\n",
       "      <td>4</td>\n",
       "      <td>4</td>\n",
       "      <td>4</td>\n",
       "      <td>4</td>\n",
       "      <td>...</td>\n",
       "      <td>476</td>\n",
       "      <td>5</td>\n",
       "      <td>85</td>\n",
       "      <td>576</td>\n",
       "      <td>5</td>\n",
       "      <td>101</td>\n",
       "      <td>476</td>\n",
       "      <td>5</td>\n",
       "      <td>85</td>\n",
       "      <td>4</td>\n",
       "    </tr>\n",
       "  </tbody>\n",
       "</table>\n",
       "<p>3 rows × 33 columns</p>\n",
       "</div>"
      ],
      "text/plain": [
       "  essay_id  paragraph_50_cnt  paragraph_75_cnt  paragraph_100_cnt  \\\n",
       "0  000d118                 1                 1                  1   \n",
       "1  000fe60                 5                 5                  5   \n",
       "2  001ab80                 4                 4                  4   \n",
       "\n",
       "   paragraph_125_cnt  paragraph_150_cnt  paragraph_175_cnt  paragraph_200_cnt  \\\n",
       "0                  1                  1                  1                  1   \n",
       "1                  5                  5                  5                  4   \n",
       "2                  4                  4                  4                  4   \n",
       "\n",
       "   paragraph_250_cnt  paragraph_300_cnt  ...  paragraph_len_min  \\\n",
       "0                  1                  1  ...               2640   \n",
       "1                  3                  3  ...                184   \n",
       "2                  4                  4  ...                476   \n",
       "\n",
       "   paragraph_sentence_cnt_min  paragraph_word_cnt_min  paragraph_len_first  \\\n",
       "0                          14                     491                 2640   \n",
       "1                           3                      37                  184   \n",
       "2                           5                      85                  576   \n",
       "\n",
       "   paragraph_sentence_cnt_first  paragraph_word_cnt_first  paragraph_len_last  \\\n",
       "0                            14                       491                2640   \n",
       "1                             4                        37                 235   \n",
       "2                             5                       101                 476   \n",
       "\n",
       "   paragraph_sentence_cnt_last  paragraph_word_cnt_last  score  \n",
       "0                           14                      491      3  \n",
       "1                            3                       46      3  \n",
       "2                            5                       85      4  \n",
       "\n",
       "[3 rows x 33 columns]"
      ]
     },
     "execution_count": 6,
     "metadata": {},
     "output_type": "execute_result"
    }
   ],
   "source": [
    "# 段落特征\n",
    "# paragraph features\n",
    "def Paragraph_Preprocess(tmp):\n",
    "    # 将段落列表扩展为一行行的数据\n",
    "    # Expand the paragraph list into several lines of data\n",
    "    tmp = tmp.explode('paragraph')\n",
    "    # 段落预处理\n",
    "    # Paragraph preprocessing\n",
    "    tmp = tmp.with_columns(pl.col('paragraph').map_elements(dataPreprocessing))\n",
    "    # 计算每一个段落的长度\n",
    "    # Calculate the length of each paragraph\n",
    "    tmp = tmp.with_columns(pl.col('paragraph').map_elements(lambda x: len(x)).alias(\"paragraph_len\"))\n",
    "    # 计算每一个段落中句子的数量和单词的数量\n",
    "    # Calculate the number of sentences and words in each paragraph\n",
    "    tmp = tmp.with_columns(pl.col('paragraph').map_elements(lambda x: len(x.split('.'))).alias(\"paragraph_sentence_cnt\"),\n",
    "                    pl.col('paragraph').map_elements(lambda x: len(x.split(' '))).alias(\"paragraph_word_cnt\"),)\n",
    "    return tmp\n",
    "# feature_eng\n",
    "paragraph_fea = ['paragraph_len','paragraph_sentence_cnt','paragraph_word_cnt']\n",
    "def Paragraph_Eng(train_tmp):\n",
    "    aggs = [\n",
    "        # 统计段落长度大于和小于 i 值的个数\n",
    "        # Count the number of paragraph lengths greater than and less than the i-value\n",
    "        *[pl.col('paragraph').filter(pl.col('paragraph_len') >= i).count().alias(f\"paragraph_{i}_cnt\") for i in [50,75,100,125,150,175,200,250,300,350,400,500,600,700] ], \n",
    "        *[pl.col('paragraph').filter(pl.col('paragraph_len') <= i).count().alias(f\"paragraph_{i}_cnt\") for i in [25,49]], \n",
    "        # 其他\n",
    "        # other\n",
    "        *[pl.col(fea).max().alias(f\"{fea}_max\") for fea in paragraph_fea],\n",
    "        *[pl.col(fea).mean().alias(f\"{fea}_mean\") for fea in paragraph_fea],\n",
    "        *[pl.col(fea).min().alias(f\"{fea}_min\") for fea in paragraph_fea],\n",
    "        *[pl.col(fea).first().alias(f\"{fea}_first\") for fea in paragraph_fea],\n",
    "        *[pl.col(fea).last().alias(f\"{fea}_last\") for fea in paragraph_fea],\n",
    "        ]\n",
    "    df = train_tmp.group_by(['essay_id'], maintain_order=True).agg(aggs).sort(\"essay_id\")\n",
    "    df = df.to_pandas()\n",
    "    return df\n",
    "tmp = Paragraph_Preprocess(train)\n",
    "train_feats = Paragraph_Eng(tmp)\n",
    "train_feats['score'] = train['score']\n",
    "# 获取特征名称\n",
    "# Obtain feature names\n",
    "feature_names = list(filter(lambda x: x not in ['essay_id','score'], train_feats.columns))\n",
    "print('Features Number: ',len(feature_names))\n",
    "train_feats.head(3)"
   ]
  },
  {
   "cell_type": "markdown",
   "id": "027b2785",
   "metadata": {
    "papermill": {
     "duration": 0.009756,
     "end_time": "2024-04-13T17:14:55.538951",
     "exception": false,
     "start_time": "2024-04-13T17:14:55.529195",
     "status": "completed"
    },
    "tags": []
   },
   "source": [
    "### 3.Sentence Features"
   ]
  },
  {
   "cell_type": "code",
   "execution_count": 7,
   "id": "9a96c7b9",
   "metadata": {
    "execution": {
     "iopub.execute_input": "2024-04-13T17:14:55.560811Z",
     "iopub.status.busy": "2024-04-13T17:14:55.560034Z",
     "iopub.status.idle": "2024-04-13T17:15:02.404447Z",
     "shell.execute_reply": "2024-04-13T17:15:02.403375Z"
    },
    "papermill": {
     "duration": 6.857501,
     "end_time": "2024-04-13T17:15:02.406474",
     "exception": false,
     "start_time": "2024-04-13T17:14:55.548973",
     "status": "completed"
    },
    "tags": []
   },
   "outputs": [
    {
     "name": "stdout",
     "output_type": "stream",
     "text": [
      "Features Number:  48\n"
     ]
    },
    {
     "data": {
      "text/html": [
       "<div>\n",
       "<style scoped>\n",
       "    .dataframe tbody tr th:only-of-type {\n",
       "        vertical-align: middle;\n",
       "    }\n",
       "\n",
       "    .dataframe tbody tr th {\n",
       "        vertical-align: top;\n",
       "    }\n",
       "\n",
       "    .dataframe thead th {\n",
       "        text-align: right;\n",
       "    }\n",
       "</style>\n",
       "<table border=\"1\" class=\"dataframe\">\n",
       "  <thead>\n",
       "    <tr style=\"text-align: right;\">\n",
       "      <th></th>\n",
       "      <th>essay_id</th>\n",
       "      <th>paragraph_50_cnt</th>\n",
       "      <th>paragraph_75_cnt</th>\n",
       "      <th>paragraph_100_cnt</th>\n",
       "      <th>paragraph_125_cnt</th>\n",
       "      <th>paragraph_150_cnt</th>\n",
       "      <th>paragraph_175_cnt</th>\n",
       "      <th>paragraph_200_cnt</th>\n",
       "      <th>paragraph_250_cnt</th>\n",
       "      <th>paragraph_300_cnt</th>\n",
       "      <th>...</th>\n",
       "      <th>sentence_len_max</th>\n",
       "      <th>sentence_word_cnt_max</th>\n",
       "      <th>sentence_len_mean</th>\n",
       "      <th>sentence_word_cnt_mean</th>\n",
       "      <th>sentence_len_min</th>\n",
       "      <th>sentence_word_cnt_min</th>\n",
       "      <th>sentence_len_first</th>\n",
       "      <th>sentence_word_cnt_first</th>\n",
       "      <th>sentence_len_last</th>\n",
       "      <th>sentence_word_cnt_last</th>\n",
       "    </tr>\n",
       "  </thead>\n",
       "  <tbody>\n",
       "    <tr>\n",
       "      <th>0</th>\n",
       "      <td>000d118</td>\n",
       "      <td>1</td>\n",
       "      <td>1</td>\n",
       "      <td>1</td>\n",
       "      <td>1</td>\n",
       "      <td>1</td>\n",
       "      <td>1</td>\n",
       "      <td>1</td>\n",
       "      <td>1</td>\n",
       "      <td>1</td>\n",
       "      <td>...</td>\n",
       "      <td>593</td>\n",
       "      <td>127</td>\n",
       "      <td>202.076923</td>\n",
       "      <td>38.692308</td>\n",
       "      <td>36</td>\n",
       "      <td>7</td>\n",
       "      <td>36</td>\n",
       "      <td>7</td>\n",
       "      <td>47</td>\n",
       "      <td>10</td>\n",
       "    </tr>\n",
       "    <tr>\n",
       "      <th>1</th>\n",
       "      <td>000fe60</td>\n",
       "      <td>5</td>\n",
       "      <td>5</td>\n",
       "      <td>5</td>\n",
       "      <td>5</td>\n",
       "      <td>5</td>\n",
       "      <td>5</td>\n",
       "      <td>4</td>\n",
       "      <td>3</td>\n",
       "      <td>3</td>\n",
       "      <td>...</td>\n",
       "      <td>250</td>\n",
       "      <td>49</td>\n",
       "      <td>96.823529</td>\n",
       "      <td>20.470588</td>\n",
       "      <td>27</td>\n",
       "      <td>7</td>\n",
       "      <td>62</td>\n",
       "      <td>13</td>\n",
       "      <td>124</td>\n",
       "      <td>25</td>\n",
       "    </tr>\n",
       "    <tr>\n",
       "      <th>2</th>\n",
       "      <td>001ab80</td>\n",
       "      <td>4</td>\n",
       "      <td>4</td>\n",
       "      <td>4</td>\n",
       "      <td>4</td>\n",
       "      <td>4</td>\n",
       "      <td>4</td>\n",
       "      <td>4</td>\n",
       "      <td>4</td>\n",
       "      <td>4</td>\n",
       "      <td>...</td>\n",
       "      <td>237</td>\n",
       "      <td>47</td>\n",
       "      <td>126.708333</td>\n",
       "      <td>23.875000</td>\n",
       "      <td>58</td>\n",
       "      <td>10</td>\n",
       "      <td>144</td>\n",
       "      <td>27</td>\n",
       "      <td>58</td>\n",
       "      <td>10</td>\n",
       "    </tr>\n",
       "  </tbody>\n",
       "</table>\n",
       "<p>3 rows × 50 columns</p>\n",
       "</div>"
      ],
      "text/plain": [
       "  essay_id  paragraph_50_cnt  paragraph_75_cnt  paragraph_100_cnt  \\\n",
       "0  000d118                 1                 1                  1   \n",
       "1  000fe60                 5                 5                  5   \n",
       "2  001ab80                 4                 4                  4   \n",
       "\n",
       "   paragraph_125_cnt  paragraph_150_cnt  paragraph_175_cnt  paragraph_200_cnt  \\\n",
       "0                  1                  1                  1                  1   \n",
       "1                  5                  5                  5                  4   \n",
       "2                  4                  4                  4                  4   \n",
       "\n",
       "   paragraph_250_cnt  paragraph_300_cnt  ...  sentence_len_max  \\\n",
       "0                  1                  1  ...               593   \n",
       "1                  3                  3  ...               250   \n",
       "2                  4                  4  ...               237   \n",
       "\n",
       "   sentence_word_cnt_max  sentence_len_mean  sentence_word_cnt_mean  \\\n",
       "0                    127         202.076923               38.692308   \n",
       "1                     49          96.823529               20.470588   \n",
       "2                     47         126.708333               23.875000   \n",
       "\n",
       "   sentence_len_min  sentence_word_cnt_min  sentence_len_first  \\\n",
       "0                36                      7                  36   \n",
       "1                27                      7                  62   \n",
       "2                58                     10                 144   \n",
       "\n",
       "   sentence_word_cnt_first  sentence_len_last  sentence_word_cnt_last  \n",
       "0                        7                 47                      10  \n",
       "1                       13                124                      25  \n",
       "2                       27                 58                      10  \n",
       "\n",
       "[3 rows x 50 columns]"
      ]
     },
     "execution_count": 7,
     "metadata": {},
     "output_type": "execute_result"
    }
   ],
   "source": [
    "# sentence feature\n",
    "def Sentence_Preprocess(tmp):\n",
    "    # 对full_text预处理，并且使用句号分割出文本的句子\n",
    "    # Preprocess full_text and use periods to segment sentences in the text\n",
    "    tmp = tmp.with_columns(pl.col('full_text').map_elements(dataPreprocessing).str.split(by=\".\").alias(\"sentence\"))\n",
    "    tmp = tmp.explode('sentence')\n",
    "    # 计算句子的长度\n",
    "    # Calculate the length of a sentence\n",
    "    tmp = tmp.with_columns(pl.col('sentence').map_elements(lambda x: len(x)).alias(\"sentence_len\"))\n",
    "    # 筛选出句子长度大于15的那一部分数据\n",
    "    # Filter out the portion of data with a sentence length greater than 15\n",
    "    tmp = tmp.filter(pl.col('sentence_len')>=15)\n",
    "    # 统计每一句中单词的数量\n",
    "    # Count the number of words in each sentence\n",
    "    tmp = tmp.with_columns(pl.col('sentence').map_elements(lambda x: len(x.split(' '))).alias(\"sentence_word_cnt\"))\n",
    "    \n",
    "    return tmp\n",
    "# feature_eng\n",
    "sentence_fea = ['sentence_len','sentence_word_cnt']\n",
    "def Sentence_Eng(train_tmp):\n",
    "    aggs = [\n",
    "        # 统计句子长度大于 i 的句子个数\n",
    "        # Count the number of sentences with a length greater than i\n",
    "        *[pl.col('sentence').filter(pl.col('sentence_len') >= i).count().alias(f\"sentence_{i}_cnt\") for i in [15,50,100,150,200,250,300] ], \n",
    "        # 其他\n",
    "        # other\n",
    "        *[pl.col(fea).max().alias(f\"{fea}_max\") for fea in sentence_fea],\n",
    "        *[pl.col(fea).mean().alias(f\"{fea}_mean\") for fea in sentence_fea],\n",
    "        *[pl.col(fea).min().alias(f\"{fea}_min\") for fea in sentence_fea],\n",
    "        *[pl.col(fea).first().alias(f\"{fea}_first\") for fea in sentence_fea],\n",
    "        *[pl.col(fea).last().alias(f\"{fea}_last\") for fea in sentence_fea],\n",
    "        ]\n",
    "    df = train_tmp.group_by(['essay_id'], maintain_order=True).agg(aggs).sort(\"essay_id\")\n",
    "    df = df.to_pandas()\n",
    "    return df\n",
    "\n",
    "tmp = Sentence_Preprocess(train)\n",
    "# 将新生成的特征数据和之前生成的特征数据合并\n",
    "# Merge the newly generated feature data with the previously generated feature data\n",
    "train_feats = train_feats.merge(Sentence_Eng(tmp), on='essay_id', how='left')\n",
    "\n",
    "feature_names = list(filter(lambda x: x not in ['essay_id','score'], train_feats.columns))\n",
    "print('Features Number: ',len(feature_names))\n",
    "train_feats.head(3)"
   ]
  },
  {
   "cell_type": "markdown",
   "id": "61f22561",
   "metadata": {
    "papermill": {
     "duration": 0.01003,
     "end_time": "2024-04-13T17:15:02.426967",
     "exception": false,
     "start_time": "2024-04-13T17:15:02.416937",
     "status": "completed"
    },
    "tags": []
   },
   "source": [
    "### 4.Word Features"
   ]
  },
  {
   "cell_type": "code",
   "execution_count": 8,
   "id": "f5d07a5b",
   "metadata": {
    "execution": {
     "iopub.execute_input": "2024-04-13T17:15:02.449298Z",
     "iopub.status.busy": "2024-04-13T17:15:02.448393Z",
     "iopub.status.idle": "2024-04-13T17:15:15.149471Z",
     "shell.execute_reply": "2024-04-13T17:15:15.148368Z"
    },
    "papermill": {
     "duration": 12.714487,
     "end_time": "2024-04-13T17:15:15.151590",
     "exception": false,
     "start_time": "2024-04-13T17:15:02.437103",
     "status": "completed"
    },
    "tags": []
   },
   "outputs": [
    {
     "name": "stdout",
     "output_type": "stream",
     "text": [
      "Features Number:  69\n"
     ]
    },
    {
     "data": {
      "text/html": [
       "<div>\n",
       "<style scoped>\n",
       "    .dataframe tbody tr th:only-of-type {\n",
       "        vertical-align: middle;\n",
       "    }\n",
       "\n",
       "    .dataframe tbody tr th {\n",
       "        vertical-align: top;\n",
       "    }\n",
       "\n",
       "    .dataframe thead th {\n",
       "        text-align: right;\n",
       "    }\n",
       "</style>\n",
       "<table border=\"1\" class=\"dataframe\">\n",
       "  <thead>\n",
       "    <tr style=\"text-align: right;\">\n",
       "      <th></th>\n",
       "      <th>essay_id</th>\n",
       "      <th>paragraph_50_cnt</th>\n",
       "      <th>paragraph_75_cnt</th>\n",
       "      <th>paragraph_100_cnt</th>\n",
       "      <th>paragraph_125_cnt</th>\n",
       "      <th>paragraph_150_cnt</th>\n",
       "      <th>paragraph_175_cnt</th>\n",
       "      <th>paragraph_200_cnt</th>\n",
       "      <th>paragraph_250_cnt</th>\n",
       "      <th>paragraph_300_cnt</th>\n",
       "      <th>...</th>\n",
       "      <th>word_12_cnt</th>\n",
       "      <th>word_13_cnt</th>\n",
       "      <th>word_14_cnt</th>\n",
       "      <th>word_15_cnt</th>\n",
       "      <th>word_len_max</th>\n",
       "      <th>word_len_mean</th>\n",
       "      <th>word_len_std</th>\n",
       "      <th>word_len_q1</th>\n",
       "      <th>word_len_q2</th>\n",
       "      <th>word_len_q3</th>\n",
       "    </tr>\n",
       "  </thead>\n",
       "  <tbody>\n",
       "    <tr>\n",
       "      <th>0</th>\n",
       "      <td>000d118</td>\n",
       "      <td>1</td>\n",
       "      <td>1</td>\n",
       "      <td>1</td>\n",
       "      <td>1</td>\n",
       "      <td>1</td>\n",
       "      <td>1</td>\n",
       "      <td>1</td>\n",
       "      <td>1</td>\n",
       "      <td>1</td>\n",
       "      <td>...</td>\n",
       "      <td>6</td>\n",
       "      <td>6</td>\n",
       "      <td>5</td>\n",
       "      <td>2</td>\n",
       "      <td>25</td>\n",
       "      <td>4.378819</td>\n",
       "      <td>2.538495</td>\n",
       "      <td>3.0</td>\n",
       "      <td>4.0</td>\n",
       "      <td>5.0</td>\n",
       "    </tr>\n",
       "    <tr>\n",
       "      <th>1</th>\n",
       "      <td>000fe60</td>\n",
       "      <td>5</td>\n",
       "      <td>5</td>\n",
       "      <td>5</td>\n",
       "      <td>5</td>\n",
       "      <td>5</td>\n",
       "      <td>5</td>\n",
       "      <td>4</td>\n",
       "      <td>3</td>\n",
       "      <td>3</td>\n",
       "      <td>...</td>\n",
       "      <td>0</td>\n",
       "      <td>0</td>\n",
       "      <td>0</td>\n",
       "      <td>0</td>\n",
       "      <td>11</td>\n",
       "      <td>4.012048</td>\n",
       "      <td>2.060968</td>\n",
       "      <td>2.0</td>\n",
       "      <td>4.0</td>\n",
       "      <td>5.0</td>\n",
       "    </tr>\n",
       "    <tr>\n",
       "      <th>2</th>\n",
       "      <td>001ab80</td>\n",
       "      <td>4</td>\n",
       "      <td>4</td>\n",
       "      <td>4</td>\n",
       "      <td>4</td>\n",
       "      <td>4</td>\n",
       "      <td>4</td>\n",
       "      <td>4</td>\n",
       "      <td>4</td>\n",
       "      <td>4</td>\n",
       "      <td>...</td>\n",
       "      <td>14</td>\n",
       "      <td>10</td>\n",
       "      <td>5</td>\n",
       "      <td>2</td>\n",
       "      <td>15</td>\n",
       "      <td>4.574545</td>\n",
       "      <td>2.604621</td>\n",
       "      <td>3.0</td>\n",
       "      <td>4.0</td>\n",
       "      <td>5.0</td>\n",
       "    </tr>\n",
       "  </tbody>\n",
       "</table>\n",
       "<p>3 rows × 71 columns</p>\n",
       "</div>"
      ],
      "text/plain": [
       "  essay_id  paragraph_50_cnt  paragraph_75_cnt  paragraph_100_cnt  \\\n",
       "0  000d118                 1                 1                  1   \n",
       "1  000fe60                 5                 5                  5   \n",
       "2  001ab80                 4                 4                  4   \n",
       "\n",
       "   paragraph_125_cnt  paragraph_150_cnt  paragraph_175_cnt  paragraph_200_cnt  \\\n",
       "0                  1                  1                  1                  1   \n",
       "1                  5                  5                  5                  4   \n",
       "2                  4                  4                  4                  4   \n",
       "\n",
       "   paragraph_250_cnt  paragraph_300_cnt  ...  word_12_cnt  word_13_cnt  \\\n",
       "0                  1                  1  ...            6            6   \n",
       "1                  3                  3  ...            0            0   \n",
       "2                  4                  4  ...           14           10   \n",
       "\n",
       "   word_14_cnt  word_15_cnt  word_len_max  word_len_mean  word_len_std  \\\n",
       "0            5            2            25       4.378819      2.538495   \n",
       "1            0            0            11       4.012048      2.060968   \n",
       "2            5            2            15       4.574545      2.604621   \n",
       "\n",
       "   word_len_q1  word_len_q2  word_len_q3  \n",
       "0          3.0          4.0          5.0  \n",
       "1          2.0          4.0          5.0  \n",
       "2          3.0          4.0          5.0  \n",
       "\n",
       "[3 rows x 71 columns]"
      ]
     },
     "execution_count": 8,
     "metadata": {},
     "output_type": "execute_result"
    }
   ],
   "source": [
    "# word feature\n",
    "def Word_Preprocess(tmp):\n",
    "    # 对full_text预处理，并且使用空格符分割出文本的单词\n",
    "    # Preprocess full_text and use spaces to separate words from the text\n",
    "    tmp = tmp.with_columns(pl.col('full_text').map_elements(dataPreprocessing).str.split(by=\" \").alias(\"word\"))\n",
    "    tmp = tmp.explode('word')\n",
    "    # 计算每一个的单词长度\n",
    "    # Calculate the length of each word\n",
    "    tmp = tmp.with_columns(pl.col('word').map_elements(lambda x: len(x)).alias(\"word_len\"))\n",
    "    # 删除单词长度为0的数据\n",
    "    # Delete data with a word length of 0\n",
    "    tmp = tmp.filter(pl.col('word_len')!=0)\n",
    "    \n",
    "    return tmp\n",
    "# feature_eng\n",
    "def Word_Eng(train_tmp):\n",
    "    aggs = [\n",
    "        # 统计单词长度大于 i+1 的单词个数\n",
    "        # Count the number of words with a length greater than i+1\n",
    "        *[pl.col('word').filter(pl.col('word_len') >= i+1).count().alias(f\"word_{i+1}_cnt\") for i in range(15) ], \n",
    "        # 其他\n",
    "        # other\n",
    "        pl.col('word_len').max().alias(f\"word_len_max\"),\n",
    "        pl.col('word_len').mean().alias(f\"word_len_mean\"),\n",
    "        pl.col('word_len').std().alias(f\"word_len_std\"),\n",
    "        pl.col('word_len').quantile(0.25).alias(f\"word_len_q1\"),\n",
    "        pl.col('word_len').quantile(0.50).alias(f\"word_len_q2\"),\n",
    "        pl.col('word_len').quantile(0.75).alias(f\"word_len_q3\"),\n",
    "        ]\n",
    "    df = train_tmp.group_by(['essay_id'], maintain_order=True).agg(aggs).sort(\"essay_id\")\n",
    "    df = df.to_pandas()\n",
    "    return df\n",
    "\n",
    "tmp = Word_Preprocess(train)\n",
    "# 将新生成的特征数据和之前生成的特征数据合并\n",
    "# Merge the newly generated feature data with the previously generated feature data\n",
    "train_feats = train_feats.merge(Word_Eng(tmp), on='essay_id', how='left')\n",
    "\n",
    "feature_names = list(filter(lambda x: x not in ['essay_id','score'], train_feats.columns))\n",
    "print('Features Number: ',len(feature_names))\n",
    "train_feats.head(3)"
   ]
  },
  {
   "cell_type": "markdown",
   "id": "81ddfc11",
   "metadata": {
    "papermill": {
     "duration": 0.010759,
     "end_time": "2024-04-13T17:15:15.174417",
     "exception": false,
     "start_time": "2024-04-13T17:15:15.163658",
     "status": "completed"
    },
    "tags": []
   },
   "source": [
    "### 5.Tf-idf features"
   ]
  },
  {
   "cell_type": "code",
   "execution_count": 9,
   "id": "9ee81fd0",
   "metadata": {
    "execution": {
     "iopub.execute_input": "2024-04-13T17:15:15.198130Z",
     "iopub.status.busy": "2024-04-13T17:15:15.197375Z",
     "iopub.status.idle": "2024-04-13T17:17:26.125016Z",
     "shell.execute_reply": "2024-04-13T17:17:26.124081Z"
    },
    "papermill": {
     "duration": 130.953153,
     "end_time": "2024-04-13T17:17:26.138410",
     "exception": false,
     "start_time": "2024-04-13T17:15:15.185257",
     "status": "completed"
    },
    "tags": []
   },
   "outputs": [
    {
     "name": "stdout",
     "output_type": "stream",
     "text": [
      "Features Number:  8741\n"
     ]
    },
    {
     "data": {
      "text/html": [
       "<div>\n",
       "<style scoped>\n",
       "    .dataframe tbody tr th:only-of-type {\n",
       "        vertical-align: middle;\n",
       "    }\n",
       "\n",
       "    .dataframe tbody tr th {\n",
       "        vertical-align: top;\n",
       "    }\n",
       "\n",
       "    .dataframe thead th {\n",
       "        text-align: right;\n",
       "    }\n",
       "</style>\n",
       "<table border=\"1\" class=\"dataframe\">\n",
       "  <thead>\n",
       "    <tr style=\"text-align: right;\">\n",
       "      <th></th>\n",
       "      <th>essay_id</th>\n",
       "      <th>paragraph_50_cnt</th>\n",
       "      <th>paragraph_75_cnt</th>\n",
       "      <th>paragraph_100_cnt</th>\n",
       "      <th>paragraph_125_cnt</th>\n",
       "      <th>paragraph_150_cnt</th>\n",
       "      <th>paragraph_175_cnt</th>\n",
       "      <th>paragraph_200_cnt</th>\n",
       "      <th>paragraph_250_cnt</th>\n",
       "      <th>paragraph_300_cnt</th>\n",
       "      <th>...</th>\n",
       "      <th>tfid_8662</th>\n",
       "      <th>tfid_8663</th>\n",
       "      <th>tfid_8664</th>\n",
       "      <th>tfid_8665</th>\n",
       "      <th>tfid_8666</th>\n",
       "      <th>tfid_8667</th>\n",
       "      <th>tfid_8668</th>\n",
       "      <th>tfid_8669</th>\n",
       "      <th>tfid_8670</th>\n",
       "      <th>tfid_8671</th>\n",
       "    </tr>\n",
       "  </thead>\n",
       "  <tbody>\n",
       "    <tr>\n",
       "      <th>0</th>\n",
       "      <td>000d118</td>\n",
       "      <td>1</td>\n",
       "      <td>1</td>\n",
       "      <td>1</td>\n",
       "      <td>1</td>\n",
       "      <td>1</td>\n",
       "      <td>1</td>\n",
       "      <td>1</td>\n",
       "      <td>1</td>\n",
       "      <td>1</td>\n",
       "      <td>...</td>\n",
       "      <td>0.0</td>\n",
       "      <td>0.0</td>\n",
       "      <td>0.0</td>\n",
       "      <td>0.0</td>\n",
       "      <td>0.0</td>\n",
       "      <td>0.023801</td>\n",
       "      <td>0.048692</td>\n",
       "      <td>0.0</td>\n",
       "      <td>0.0</td>\n",
       "      <td>0.0</td>\n",
       "    </tr>\n",
       "    <tr>\n",
       "      <th>1</th>\n",
       "      <td>000fe60</td>\n",
       "      <td>5</td>\n",
       "      <td>5</td>\n",
       "      <td>5</td>\n",
       "      <td>5</td>\n",
       "      <td>5</td>\n",
       "      <td>5</td>\n",
       "      <td>4</td>\n",
       "      <td>3</td>\n",
       "      <td>3</td>\n",
       "      <td>...</td>\n",
       "      <td>0.0</td>\n",
       "      <td>0.0</td>\n",
       "      <td>0.0</td>\n",
       "      <td>0.0</td>\n",
       "      <td>0.0</td>\n",
       "      <td>0.000000</td>\n",
       "      <td>0.000000</td>\n",
       "      <td>0.0</td>\n",
       "      <td>0.0</td>\n",
       "      <td>0.0</td>\n",
       "    </tr>\n",
       "    <tr>\n",
       "      <th>2</th>\n",
       "      <td>001ab80</td>\n",
       "      <td>4</td>\n",
       "      <td>4</td>\n",
       "      <td>4</td>\n",
       "      <td>4</td>\n",
       "      <td>4</td>\n",
       "      <td>4</td>\n",
       "      <td>4</td>\n",
       "      <td>4</td>\n",
       "      <td>4</td>\n",
       "      <td>...</td>\n",
       "      <td>0.0</td>\n",
       "      <td>0.0</td>\n",
       "      <td>0.0</td>\n",
       "      <td>0.0</td>\n",
       "      <td>0.0</td>\n",
       "      <td>0.000000</td>\n",
       "      <td>0.000000</td>\n",
       "      <td>0.0</td>\n",
       "      <td>0.0</td>\n",
       "      <td>0.0</td>\n",
       "    </tr>\n",
       "  </tbody>\n",
       "</table>\n",
       "<p>3 rows × 8743 columns</p>\n",
       "</div>"
      ],
      "text/plain": [
       "  essay_id  paragraph_50_cnt  paragraph_75_cnt  paragraph_100_cnt  \\\n",
       "0  000d118                 1                 1                  1   \n",
       "1  000fe60                 5                 5                  5   \n",
       "2  001ab80                 4                 4                  4   \n",
       "\n",
       "   paragraph_125_cnt  paragraph_150_cnt  paragraph_175_cnt  paragraph_200_cnt  \\\n",
       "0                  1                  1                  1                  1   \n",
       "1                  5                  5                  5                  4   \n",
       "2                  4                  4                  4                  4   \n",
       "\n",
       "   paragraph_250_cnt  paragraph_300_cnt  ...  tfid_8662  tfid_8663  tfid_8664  \\\n",
       "0                  1                  1  ...        0.0        0.0        0.0   \n",
       "1                  3                  3  ...        0.0        0.0        0.0   \n",
       "2                  4                  4  ...        0.0        0.0        0.0   \n",
       "\n",
       "   tfid_8665  tfid_8666  tfid_8667  tfid_8668  tfid_8669  tfid_8670  tfid_8671  \n",
       "0        0.0        0.0   0.023801   0.048692        0.0        0.0        0.0  \n",
       "1        0.0        0.0   0.000000   0.000000        0.0        0.0        0.0  \n",
       "2        0.0        0.0   0.000000   0.000000        0.0        0.0        0.0  \n",
       "\n",
       "[3 rows x 8743 columns]"
      ]
     },
     "execution_count": 9,
     "metadata": {},
     "output_type": "execute_result"
    }
   ],
   "source": [
    "# TfidfVectorizer parameter\n",
    "vectorizer = TfidfVectorizer(\n",
    "            tokenizer=lambda x: x,\n",
    "            preprocessor=lambda x: x,\n",
    "            token_pattern=None,\n",
    "            strip_accents='unicode',\n",
    "            analyzer = 'word',\n",
    "            ngram_range=(1,4),\n",
    "            min_df=0.05,\n",
    "            max_df=0.95,\n",
    "            sublinear_tf=True,\n",
    ")\n",
    "# 将全部数据集都填充进TfidfVectorizer里，这可能会造成泄露和过于乐观的CV分数\n",
    "# Fit all datasets into TfidfVector,this may cause leakage and overly optimistic CV scores\n",
    "train_tfid = vectorizer.fit_transform([i for i in train['full_text']])\n",
    "# 转换为数组\n",
    "# Convert to array\n",
    "dense_matrix = train_tfid.toarray()\n",
    "# 转换为dataframe\n",
    "# Convert to dataframe\n",
    "df = pd.DataFrame(dense_matrix)\n",
    "# 重命名特征\n",
    "# rename features\n",
    "tfid_columns = [ f'tfid_{i}' for i in range(len(df.columns))]\n",
    "df.columns = tfid_columns\n",
    "df['essay_id'] = train_feats['essay_id']\n",
    "# 将新生成的特征数据和之前生成的特征数据合并\n",
    "# Merge the newly generated feature data with the previously generated feature data\n",
    "train_feats = train_feats.merge(df, on='essay_id', how='left')\n",
    "\n",
    "feature_names = list(filter(lambda x: x not in ['essay_id','score'], train_feats.columns))\n",
    "print('Features Number: ',len(feature_names))\n",
    "train_feats.head(3)"
   ]
  },
  {
   "cell_type": "markdown",
   "id": "cb3fba20",
   "metadata": {
    "papermill": {
     "duration": 0.011026,
     "end_time": "2024-04-13T17:17:26.160518",
     "exception": false,
     "start_time": "2024-04-13T17:17:26.149492",
     "status": "completed"
    },
    "tags": []
   },
   "source": [
    "# **Model training**"
   ]
  },
  {
   "cell_type": "code",
   "execution_count": 10,
   "id": "fea5aef6",
   "metadata": {
    "execution": {
     "iopub.execute_input": "2024-04-13T17:17:26.185093Z",
     "iopub.status.busy": "2024-04-13T17:17:26.184192Z",
     "iopub.status.idle": "2024-04-13T17:17:26.192362Z",
     "shell.execute_reply": "2024-04-13T17:17:26.191408Z"
    },
    "papermill": {
     "duration": 0.022822,
     "end_time": "2024-04-13T17:17:26.194480",
     "exception": false,
     "start_time": "2024-04-13T17:17:26.171658",
     "status": "completed"
    },
    "tags": []
   },
   "outputs": [],
   "source": [
    "# idea from https://www.kaggle.com/code/rsakata/optimize-qwk-by-lgb/notebook#QWK-objective\n",
    "def quadratic_weighted_kappa(y_true, y_pred):\n",
    "    y_true = y_true + a\n",
    "    y_pred = (y_pred + a).clip(1, 6).round()\n",
    "    qwk = cohen_kappa_score(y_true, y_pred, weights=\"quadratic\")\n",
    "    return 'QWK', qwk, True\n",
    "def qwk_obj(y_true, y_pred):\n",
    "    labels = y_true + a\n",
    "    preds = y_pred + a\n",
    "    preds = preds.clip(1, 6)\n",
    "    f = 1/2*np.sum((preds-labels)**2)\n",
    "    g = 1/2*np.sum((preds-a)**2+b)\n",
    "    df = preds - labels\n",
    "    dg = preds - a\n",
    "    grad = (df/g - f*dg/g**2)*len(labels)\n",
    "    hess = np.ones(len(labels))\n",
    "    return grad, hess\n",
    "a = 2.948\n",
    "b = 1.092\n"
   ]
  },
  {
   "cell_type": "code",
   "execution_count": 11,
   "id": "be96b71a",
   "metadata": {
    "execution": {
     "iopub.execute_input": "2024-04-13T17:17:26.218913Z",
     "iopub.status.busy": "2024-04-13T17:17:26.218252Z",
     "iopub.status.idle": "2024-04-13T17:17:27.026262Z",
     "shell.execute_reply": "2024-04-13T17:17:27.025108Z"
    },
    "papermill": {
     "duration": 0.823415,
     "end_time": "2024-04-13T17:17:27.029215",
     "exception": false,
     "start_time": "2024-04-13T17:17:26.205800",
     "status": "completed"
    },
    "tags": []
   },
   "outputs": [],
   "source": [
    "# Converting the 'text' column to string type and assigning to X\n",
    "X = train_feats[feature_names].astype(np.float32).values\n",
    "\n",
    "# Converting the 'score' column to integer type and assigning to y\n",
    "y_split = train_feats['score'].astype(int).values\n",
    "y = train_feats['score'].astype(np.float32).values-a"
   ]
  },
  {
   "cell_type": "code",
   "execution_count": 12,
   "id": "90c42e76",
   "metadata": {
    "execution": {
     "iopub.execute_input": "2024-04-13T17:17:27.061667Z",
     "iopub.status.busy": "2024-04-13T17:17:27.061311Z",
     "iopub.status.idle": "2024-04-13T17:17:28.831084Z",
     "shell.execute_reply": "2024-04-13T17:17:28.830123Z"
    },
    "papermill": {
     "duration": 1.789211,
     "end_time": "2024-04-13T17:17:28.833466",
     "exception": false,
     "start_time": "2024-04-13T17:17:27.044255",
     "status": "completed"
    },
    "tags": []
   },
   "outputs": [],
   "source": [
    "X, Xtest, y, Ytest, y_split, y_split_test = train_test_split(X, y, y_split, test_size=0.2)"
   ]
  },
  {
   "cell_type": "markdown",
   "id": "514f7ea5",
   "metadata": {
    "papermill": {
     "duration": 0.011136,
     "end_time": "2024-04-13T17:17:28.856703",
     "exception": false,
     "start_time": "2024-04-13T17:17:28.845567",
     "status": "completed"
    },
    "tags": []
   },
   "source": [
    "# **Let's use cross-validation**"
   ]
  },
  {
   "cell_type": "code",
   "execution_count": 13,
   "id": "54e58e8f",
   "metadata": {
    "execution": {
     "iopub.execute_input": "2024-04-13T17:17:28.880665Z",
     "iopub.status.busy": "2024-04-13T17:17:28.880323Z",
     "iopub.status.idle": "2024-04-13T17:17:28.886740Z",
     "shell.execute_reply": "2024-04-13T17:17:28.885803Z"
    },
    "papermill": {
     "duration": 0.021027,
     "end_time": "2024-04-13T17:17:28.888691",
     "exception": false,
     "start_time": "2024-04-13T17:17:28.867664",
     "status": "completed"
    },
    "tags": []
   },
   "outputs": [
    {
     "data": {
      "text/plain": [
       "((13845, 8741), (13845,), (13845,))"
      ]
     },
     "execution_count": 13,
     "metadata": {},
     "output_type": "execute_result"
    }
   ],
   "source": [
    "X.shape, y.shape, y_split.shape"
   ]
  },
  {
   "cell_type": "code",
   "execution_count": 14,
   "id": "2422c31c",
   "metadata": {
    "execution": {
     "iopub.execute_input": "2024-04-13T17:17:28.912386Z",
     "iopub.status.busy": "2024-04-13T17:17:28.912099Z",
     "iopub.status.idle": "2024-04-13T17:26:11.255134Z",
     "shell.execute_reply": "2024-04-13T17:26:11.254137Z"
    },
    "papermill": {
     "duration": 522.358302,
     "end_time": "2024-04-13T17:26:11.258299",
     "exception": false,
     "start_time": "2024-04-13T17:17:28.899997",
     "status": "completed"
    },
    "tags": []
   },
   "outputs": [
    {
     "name": "stdout",
     "output_type": "stream",
     "text": [
      "fold 1\n",
      "[LightGBM] [Info] Using self-defined objective function\n",
      "Training until validation scores don't improve for 75 rounds\n",
      "[25]\ttrain's QWK: 0.746462\tvalid's QWK: 0.739934\n",
      "[50]\ttrain's QWK: 0.791024\tvalid's QWK: 0.77687\n",
      "[75]\ttrain's QWK: 0.810923\tvalid's QWK: 0.787989\n",
      "[100]\ttrain's QWK: 0.823766\tvalid's QWK: 0.794171\n",
      "[125]\ttrain's QWK: 0.833337\tvalid's QWK: 0.797643\n",
      "[150]\ttrain's QWK: 0.841119\tvalid's QWK: 0.799408\n",
      "[175]\ttrain's QWK: 0.849564\tvalid's QWK: 0.800047\n",
      "[200]\ttrain's QWK: 0.855578\tvalid's QWK: 0.799896\n",
      "[225]\ttrain's QWK: 0.862937\tvalid's QWK: 0.801278\n",
      "[250]\ttrain's QWK: 0.869625\tvalid's QWK: 0.802017\n",
      "[275]\ttrain's QWK: 0.874198\tvalid's QWK: 0.803333\n",
      "[300]\ttrain's QWK: 0.878799\tvalid's QWK: 0.805284\n",
      "[325]\ttrain's QWK: 0.885313\tvalid's QWK: 0.805674\n",
      "[LightGBM] [Warning] No further splits with positive gain, best gain: -inf\n",
      "[350]\ttrain's QWK: 0.889035\tvalid's QWK: 0.803885\n",
      "[375]\ttrain's QWK: 0.893074\tvalid's QWK: 0.806008\n",
      "[400]\ttrain's QWK: 0.898439\tvalid's QWK: 0.805787\n",
      "[LightGBM] [Warning] No further splits with positive gain, best gain: -inf\n",
      "[425]\ttrain's QWK: 0.902587\tvalid's QWK: 0.806448\n",
      "[450]\ttrain's QWK: 0.906864\tvalid's QWK: 0.804407\n",
      "[475]\ttrain's QWK: 0.910119\tvalid's QWK: 0.80391\n",
      "[500]\ttrain's QWK: 0.915066\tvalid's QWK: 0.803316\n",
      "Early stopping, best iteration is:\n",
      "[427]\ttrain's QWK: 0.902901\tvalid's QWK: 0.80734\n",
      "Evaluated only: QWK\n"
     ]
    },
    {
     "data": {
      "image/png": "[encoded data removed]",
      "text/plain": [
       "<Figure size 640x480 with 2 Axes>"
      ]
     },
     "metadata": {},
     "output_type": "display_data"
    },
    {
     "name": "stdout",
     "output_type": "stream",
     "text": [
      "F1 score across fold: 0.6361409481654028\n",
      "Cohen kappa score across fold: 0.8073396386750806\n",
      "fold 2\n",
      "[LightGBM] [Info] Using self-defined objective function\n",
      "Training until validation scores don't improve for 75 rounds\n",
      "[25]\ttrain's QWK: 0.751737\tvalid's QWK: 0.721518\n",
      "[50]\ttrain's QWK: 0.794752\tvalid's QWK: 0.757007\n",
      "[75]\ttrain's QWK: 0.814951\tvalid's QWK: 0.773426\n",
      "[100]\ttrain's QWK: 0.826921\tvalid's QWK: 0.780627\n",
      "[125]\ttrain's QWK: 0.834857\tvalid's QWK: 0.785855\n",
      "[150]\ttrain's QWK: 0.842243\tvalid's QWK: 0.790128\n",
      "[175]\ttrain's QWK: 0.849366\tvalid's QWK: 0.793399\n",
      "[200]\ttrain's QWK: 0.855946\tvalid's QWK: 0.792795\n",
      "[225]\ttrain's QWK: 0.861495\tvalid's QWK: 0.793518\n",
      "[250]\ttrain's QWK: 0.867864\tvalid's QWK: 0.796258\n",
      "[275]\ttrain's QWK: 0.873485\tvalid's QWK: 0.796731\n",
      "[300]\ttrain's QWK: 0.878601\tvalid's QWK: 0.798\n",
      "[325]\ttrain's QWK: 0.883298\tvalid's QWK: 0.798865\n",
      "[350]\ttrain's QWK: 0.887705\tvalid's QWK: 0.79879\n",
      "[375]\ttrain's QWK: 0.892682\tvalid's QWK: 0.797023\n",
      "[400]\ttrain's QWK: 0.896393\tvalid's QWK: 0.79659\n",
      "Early stopping, best iteration is:\n",
      "[340]\ttrain's QWK: 0.88571\tvalid's QWK: 0.800065\n",
      "Evaluated only: QWK\n"
     ]
    },
    {
     "data": {
      "image/png": "[encoded data removed]",
      "text/plain": [
       "<Figure size 640x480 with 2 Axes>"
      ]
     },
     "metadata": {},
     "output_type": "display_data"
    },
    {
     "name": "stdout",
     "output_type": "stream",
     "text": [
      "F1 score across fold: 0.6334965803082019\n",
      "Cohen kappa score across fold: 0.8000652179314625\n",
      "fold 3\n",
      "[LightGBM] [Info] Using self-defined objective function\n",
      "Training until validation scores don't improve for 75 rounds\n",
      "[25]\ttrain's QWK: 0.742778\tvalid's QWK: 0.741473\n",
      "[50]\ttrain's QWK: 0.790816\tvalid's QWK: 0.777876\n",
      "[75]\ttrain's QWK: 0.80951\tvalid's QWK: 0.792459\n",
      "[100]\ttrain's QWK: 0.821027\tvalid's QWK: 0.799857\n",
      "[125]\ttrain's QWK: 0.830691\tvalid's QWK: 0.802536\n",
      "[150]\ttrain's QWK: 0.841377\tvalid's QWK: 0.801763\n",
      "[175]\ttrain's QWK: 0.849441\tvalid's QWK: 0.804061\n",
      "[200]\ttrain's QWK: 0.856117\tvalid's QWK: 0.804284\n",
      "[225]\ttrain's QWK: 0.862695\tvalid's QWK: 0.806048\n",
      "[250]\ttrain's QWK: 0.868836\tvalid's QWK: 0.80627\n",
      "[275]\ttrain's QWK: 0.87503\tvalid's QWK: 0.807303\n",
      "[300]\ttrain's QWK: 0.879525\tvalid's QWK: 0.809719\n",
      "[325]\ttrain's QWK: 0.883751\tvalid's QWK: 0.809105\n",
      "[350]\ttrain's QWK: 0.888649\tvalid's QWK: 0.808453\n",
      "[375]\ttrain's QWK: 0.892726\tvalid's QWK: 0.809919\n",
      "Early stopping, best iteration is:\n",
      "[311]\ttrain's QWK: 0.880907\tvalid's QWK: 0.810361\n",
      "Evaluated only: QWK\n"
     ]
    },
    {
     "data": {
      "image/png": "[encoded data removed]",
      "text/plain": [
       "<Figure size 640x480 with 2 Axes>"
      ]
     },
     "metadata": {},
     "output_type": "display_data"
    },
    {
     "name": "stdout",
     "output_type": "stream",
     "text": [
      "F1 score across fold: 0.6360167670907078\n",
      "Cohen kappa score across fold: 0.8103611588623576\n",
      "fold 4\n",
      "[LightGBM] [Info] Using self-defined objective function\n",
      "Training until validation scores don't improve for 75 rounds\n",
      "[25]\ttrain's QWK: 0.746485\tvalid's QWK: 0.752979\n",
      "[50]\ttrain's QWK: 0.792431\tvalid's QWK: 0.784114\n",
      "[75]\ttrain's QWK: 0.809723\tvalid's QWK: 0.794763\n",
      "[100]\ttrain's QWK: 0.822024\tvalid's QWK: 0.802456\n",
      "[125]\ttrain's QWK: 0.832336\tvalid's QWK: 0.805886\n",
      "[150]\ttrain's QWK: 0.841377\tvalid's QWK: 0.806313\n",
      "[175]\ttrain's QWK: 0.848946\tvalid's QWK: 0.809452\n",
      "[200]\ttrain's QWK: 0.854828\tvalid's QWK: 0.809896\n",
      "[225]\ttrain's QWK: 0.861441\tvalid's QWK: 0.811587\n",
      "[250]\ttrain's QWK: 0.867646\tvalid's QWK: 0.811156\n",
      "[275]\ttrain's QWK: 0.873623\tvalid's QWK: 0.810893\n",
      "[300]\ttrain's QWK: 0.877585\tvalid's QWK: 0.808664\n",
      "Early stopping, best iteration is:\n",
      "[229]\ttrain's QWK: 0.862083\tvalid's QWK: 0.812857\n",
      "Evaluated only: QWK\n"
     ]
    },
    {
     "data": {
      "image/png": "[encoded data removed]",
      "text/plain": [
       "<Figure size 640x480 with 2 Axes>"
      ]
     },
     "metadata": {},
     "output_type": "display_data"
    },
    {
     "name": "stdout",
     "output_type": "stream",
     "text": [
      "F1 score across fold: 0.64374103348809\n",
      "Cohen kappa score across fold: 0.8128569089990296\n",
      "fold 5\n",
      "[LightGBM] [Info] Using self-defined objective function\n",
      "Training until validation scores don't improve for 75 rounds\n",
      "[25]\ttrain's QWK: 0.746444\tvalid's QWK: 0.719652\n",
      "[50]\ttrain's QWK: 0.7945\tvalid's QWK: 0.760987\n",
      "[75]\ttrain's QWK: 0.814537\tvalid's QWK: 0.771828\n",
      "[100]\ttrain's QWK: 0.826279\tvalid's QWK: 0.780848\n",
      "[125]\ttrain's QWK: 0.837065\tvalid's QWK: 0.786217\n",
      "[150]\ttrain's QWK: 0.844613\tvalid's QWK: 0.787541\n",
      "[175]\ttrain's QWK: 0.851554\tvalid's QWK: 0.787616\n",
      "[200]\ttrain's QWK: 0.858306\tvalid's QWK: 0.7895\n",
      "[225]\ttrain's QWK: 0.863395\tvalid's QWK: 0.789642\n",
      "[250]\ttrain's QWK: 0.868786\tvalid's QWK: 0.788668\n",
      "[275]\ttrain's QWK: 0.873963\tvalid's QWK: 0.788722\n",
      "[LightGBM] [Warning] No further splits with positive gain, best gain: -inf\n",
      "[300]\ttrain's QWK: 0.878541\tvalid's QWK: 0.789455\n",
      "Early stopping, best iteration is:\n",
      "[230]\ttrain's QWK: 0.86486\tvalid's QWK: 0.791093\n",
      "Evaluated only: QWK\n"
     ]
    },
    {
     "data": {
      "image/png": "[encoded data removed]",
      "text/plain": [
       "<Figure size 640x480 with 2 Axes>"
      ]
     },
     "metadata": {},
     "output_type": "display_data"
    },
    {
     "name": "stdout",
     "output_type": "stream",
     "text": [
      "F1 score across fold: 0.6150621322279418\n",
      "Cohen kappa score across fold: 0.7910934723954466\n",
      "Mean F1 score across 5 folds: 0.6328914922560689\n",
      "Mean Cohen kappa score across 5 folds: 0.8043432793726752\n"
     ]
    }
   ],
   "source": [
    "# Define the number of splits for cross-validation\n",
    "n_splits = 5\n",
    "\n",
    "# Initialize StratifiedKFold with the specified number of splits\n",
    "skf = StratifiedKFold(n_splits=n_splits, shuffle=True, random_state=0)\n",
    "\n",
    "# Lists to store scores\n",
    "f1_scores = []\n",
    "kappa_scores = []\n",
    "models = []\n",
    "predictions = []\n",
    "callbacks = [log_evaluation(period=25), early_stopping(stopping_rounds=75,first_metric_only=True)]\n",
    "# Loop through each fold of the cross-validation\n",
    "i=1\n",
    "for train_index, test_index in skf.split(X, y_split):\n",
    "    # Split the data into training and testing sets for this fold\n",
    "    print('fold',i)\n",
    "    X_train_fold, X_test_fold = X[train_index], X[test_index]\n",
    "    y_train_fold, y_test_fold, y_test_fold_int = y[train_index], y[test_index], y_split[test_index]\n",
    "    \n",
    "    model = lgb.LGBMRegressor(\n",
    "                objective = qwk_obj,\n",
    "                metrics = 'None',\n",
    "                learning_rate = 0.1,\n",
    "                max_depth = 5,\n",
    "                num_leaves = 10,\n",
    "                colsample_bytree=0.5,\n",
    "                reg_alpha = 0.1,\n",
    "                reg_lambda = 0.8,\n",
    "                n_estimators=1024,\n",
    "                random_state=42,\n",
    "                extra_trees=True,\n",
    "                class_weight='balanced',\n",
    "        \n",
    "                verbosity = - 1)\n",
    "\n",
    "    # Fit the model on the training data for this fold\n",
    "    \n",
    "    predictor = model.fit(X_train_fold,\n",
    "                                  y_train_fold,\n",
    "                                  eval_names=['train', 'valid'],\n",
    "                                  eval_set=[(X_train_fold, y_train_fold), (X_test_fold, y_test_fold)],\n",
    "                                  eval_metric=quadratic_weighted_kappa,\n",
    "                                  callbacks=callbacks,)\n",
    "    models.append(predictor)\n",
    "    # Make predictions on the test data for this fold\n",
    "    predictions_fold = predictor.predict(X_test_fold)\n",
    "    predictions_fold = predictions_fold + a\n",
    "    predictions_fold = predictions_fold.clip(1, 6).round()\n",
    "    predictions.append(predictions_fold)\n",
    "    # Calculate and store the F1 score for this fold\n",
    "    f1_fold = f1_score(y_test_fold_int, predictions_fold, average='weighted')\n",
    "    f1_scores.append(f1_fold)\n",
    "    \n",
    "    # Calculate and store the Cohen's kappa score for this fold\n",
    "    kappa_fold = cohen_kappa_score(y_test_fold_int, predictions_fold, weights='quadratic')\n",
    "    kappa_scores.append(kappa_fold)\n",
    "    \n",
    "    # Calculating the confusion matrix\n",
    "    cm = confusion_matrix(y_test_fold_int, predictions_fold, labels=[x for x in range(1,7)])\n",
    "\n",
    "    # Displaying the confusion matrix\n",
    "    disp = ConfusionMatrixDisplay(confusion_matrix=cm,\n",
    "                                  display_labels=[x for x in range(1,7)])\n",
    "    disp.plot()\n",
    "    plt.show()\n",
    "    print(f'F1 score across fold: {f1_fold}')\n",
    "    print(f'Cohen kappa score across fold: {kappa_fold}')\n",
    "    i+=1\n",
    "# Calculate the mean scores across all folds\n",
    "mean_f1_score = np.mean(f1_scores)\n",
    "mean_kappa_score = np.mean(kappa_scores)\n",
    "\n",
    "# Print the mean scores\n",
    "print(f'Mean F1 score across {n_splits} folds: {mean_f1_score}')\n",
    "print(f'Mean Cohen kappa score across {n_splits} folds: {mean_kappa_score}')"
   ]
  },
  {
   "cell_type": "code",
   "execution_count": 15,
   "id": "6119e50b",
   "metadata": {
    "execution": {
     "iopub.execute_input": "2024-04-13T17:26:11.302679Z",
     "iopub.status.busy": "2024-04-13T17:26:11.302118Z",
     "iopub.status.idle": "2024-04-13T17:56:45.507190Z",
     "shell.execute_reply": "2024-04-13T17:56:45.505775Z"
    },
    "papermill": {
     "duration": 1834.230049,
     "end_time": "2024-04-13T17:56:45.509542",
     "exception": false,
     "start_time": "2024-04-13T17:26:11.279493",
     "status": "completed"
    },
    "tags": []
   },
   "outputs": [
    {
     "name": "stdout",
     "output_type": "stream",
     "text": [
      "Running on GPU\n",
      "\n",
      "Fold_1 Training ================================\n",
      "\n",
      "Learning rate set to 0.08052\n",
      "0:\tlearn: 1.0059745\ttest: 1.0052547\tbest: 1.0052547 (0)\ttotal: 18.9s\tremaining: 5h 15m 17s\n",
      "100:\tlearn: 0.5688723\ttest: 0.5958526\tbest: 0.5958526 (100)\ttotal: 56.8s\tremaining: 8m 25s\n",
      "200:\tlearn: 0.5228004\ttest: 0.5774909\tbest: 0.5774909 (200)\ttotal: 1m 33s\tremaining: 6m 11s\n",
      "300:\tlearn: 0.4938577\ttest: 0.5708894\tbest: 0.5708894 (300)\ttotal: 2m 9s\tremaining: 5m 1s\n",
      "400:\tlearn: 0.4708734\ttest: 0.5684470\tbest: 0.5684470 (400)\ttotal: 2m 45s\tremaining: 4m 7s\n",
      "500:\tlearn: 0.4516864\ttest: 0.5664808\tbest: 0.5664282 (498)\ttotal: 3m 21s\tremaining: 3m 20s\n",
      "600:\tlearn: 0.4333453\ttest: 0.5649508\tbest: 0.5648917 (592)\ttotal: 3m 57s\tremaining: 2m 37s\n",
      "700:\tlearn: 0.4182868\ttest: 0.5645653\tbest: 0.5644360 (668)\ttotal: 4m 32s\tremaining: 1m 56s\n",
      "800:\tlearn: 0.4034526\ttest: 0.5629155\tbest: 0.5629155 (800)\ttotal: 5m 8s\tremaining: 1m 16s\n",
      "900:\tlearn: 0.3906139\ttest: 0.5625299\tbest: 0.5624622 (894)\ttotal: 5m 43s\tremaining: 37.8s\n",
      "999:\tlearn: 0.3797726\ttest: 0.5627493\tbest: 0.5624622 (894)\ttotal: 6m 18s\tremaining: 0us\n",
      "bestTest = 0.5624621643\n",
      "bestIteration = 894\n",
      "Shrink model to first 895 iterations.\n",
      "Kappa score : 0.7910231561306094\n",
      "Accuracy score : 0.6334488734835355\n",
      "\n",
      "Fold_2 Training ================================\n",
      "\n",
      "Learning rate set to 0.08052\n",
      "0:\tlearn: 1.0042351\ttest: 1.0048506\tbest: 1.0048506 (0)\ttotal: 397ms\tremaining: 6m 36s\n",
      "100:\tlearn: 0.5648554\ttest: 0.6140329\tbest: 0.6140329 (100)\ttotal: 38.1s\tremaining: 5m 38s\n",
      "200:\tlearn: 0.5188903\ttest: 0.5956984\tbest: 0.5956984 (200)\ttotal: 1m 14s\tremaining: 4m 58s\n",
      "300:\tlearn: 0.4904144\ttest: 0.5882016\tbest: 0.5881816 (298)\ttotal: 1m 51s\tremaining: 4m 17s\n",
      "400:\tlearn: 0.4674169\ttest: 0.5865076\tbest: 0.5864057 (350)\ttotal: 2m 26s\tremaining: 3m 39s\n",
      "500:\tlearn: 0.4469895\ttest: 0.5844299\tbest: 0.5844170 (499)\ttotal: 3m 2s\tremaining: 3m 2s\n",
      "600:\tlearn: 0.4302882\ttest: 0.5833913\tbest: 0.5833344 (597)\ttotal: 3m 38s\tremaining: 2m 24s\n",
      "700:\tlearn: 0.4149741\ttest: 0.5830919\tbest: 0.5830716 (691)\ttotal: 4m 14s\tremaining: 1m 48s\n",
      "800:\tlearn: 0.4009604\ttest: 0.5828196\tbest: 0.5826424 (729)\ttotal: 4m 49s\tremaining: 1m 11s\n",
      "900:\tlearn: 0.3881101\ttest: 0.5822298\tbest: 0.5822298 (900)\ttotal: 5m 25s\tremaining: 35.7s\n",
      "999:\tlearn: 0.3761060\ttest: 0.5814296\tbest: 0.5814119 (968)\ttotal: 6m\tremaining: 0us\n",
      "bestTest = 0.5814119464\n",
      "bestIteration = 968\n",
      "Shrink model to first 969 iterations.\n",
      "Kappa score : 0.7931472510742821\n",
      "Accuracy score : 0.6377816291161178\n",
      "\n",
      "Fold_3 Training ================================\n",
      "\n",
      "Learning rate set to 0.08052\n",
      "0:\tlearn: 1.0056317\ttest: 1.0059031\tbest: 1.0059031 (0)\ttotal: 387ms\tremaining: 6m 26s\n",
      "100:\tlearn: 0.5657601\ttest: 0.6001134\tbest: 0.6001134 (100)\ttotal: 38.1s\tremaining: 5m 39s\n",
      "200:\tlearn: 0.5211799\ttest: 0.5866240\tbest: 0.5866111 (199)\ttotal: 1m 14s\tremaining: 4m 56s\n",
      "300:\tlearn: 0.4928790\ttest: 0.5816480\tbest: 0.5816077 (299)\ttotal: 1m 50s\tremaining: 4m 17s\n",
      "400:\tlearn: 0.4719442\ttest: 0.5800022\tbest: 0.5799505 (394)\ttotal: 2m 26s\tremaining: 3m 38s\n",
      "500:\tlearn: 0.4528339\ttest: 0.5783817\tbest: 0.5781550 (489)\ttotal: 3m 2s\tremaining: 3m 1s\n",
      "600:\tlearn: 0.4363066\ttest: 0.5772621\tbest: 0.5772621 (600)\ttotal: 3m 37s\tremaining: 2m 24s\n",
      "700:\tlearn: 0.4218891\ttest: 0.5771355\tbest: 0.5768059 (687)\ttotal: 4m 13s\tremaining: 1m 48s\n",
      "800:\tlearn: 0.4074823\ttest: 0.5775862\tbest: 0.5768059 (687)\ttotal: 4m 48s\tremaining: 1m 11s\n",
      "900:\tlearn: 0.3945236\ttest: 0.5772365\tbest: 0.5768059 (687)\ttotal: 5m 24s\tremaining: 35.6s\n",
      "999:\tlearn: 0.3819779\ttest: 0.5770241\tbest: 0.5768059 (687)\ttotal: 5m 59s\tremaining: 0us\n",
      "bestTest = 0.5768058558\n",
      "bestIteration = 687\n",
      "Shrink model to first 688 iterations.\n",
      "Kappa score : 0.7866664072077683\n",
      "Accuracy score : 0.6276718659734257\n",
      "\n",
      "Fold_4 Training ================================\n",
      "\n",
      "Learning rate set to 0.08052\n",
      "0:\tlearn: 1.0056158\ttest: 1.0060848\tbest: 1.0060848 (0)\ttotal: 374ms\tremaining: 6m 13s\n",
      "100:\tlearn: 0.5679076\ttest: 0.5973006\tbest: 0.5973006 (100)\ttotal: 36.7s\tremaining: 5m 26s\n",
      "200:\tlearn: 0.5222624\ttest: 0.5815768\tbest: 0.5814960 (199)\ttotal: 1m 12s\tremaining: 4m 46s\n",
      "300:\tlearn: 0.4917530\ttest: 0.5750895\tbest: 0.5750895 (300)\ttotal: 1m 47s\tremaining: 4m 8s\n",
      "400:\tlearn: 0.4690582\ttest: 0.5719791\tbest: 0.5719791 (400)\ttotal: 2m 21s\tremaining: 3m 31s\n",
      "500:\tlearn: 0.4502736\ttest: 0.5705917\tbest: 0.5705749 (499)\ttotal: 2m 56s\tremaining: 2m 55s\n",
      "600:\tlearn: 0.4348716\ttest: 0.5698993\tbest: 0.5698993 (600)\ttotal: 3m 30s\tremaining: 2m 19s\n",
      "700:\tlearn: 0.4199871\ttest: 0.5691356\tbest: 0.5689135 (667)\ttotal: 4m 4s\tremaining: 1m 44s\n",
      "800:\tlearn: 0.4055534\ttest: 0.5684364\tbest: 0.5683061 (787)\ttotal: 4m 38s\tremaining: 1m 9s\n",
      "900:\tlearn: 0.3913387\ttest: 0.5685349\tbest: 0.5681445 (845)\ttotal: 5m 12s\tremaining: 34.3s\n",
      "999:\tlearn: 0.3789746\ttest: 0.5681389\tbest: 0.5680034 (991)\ttotal: 5m 46s\tremaining: 0us\n",
      "bestTest = 0.5680034246\n",
      "bestIteration = 991\n",
      "Shrink model to first 992 iterations.\n",
      "Kappa score : 0.7920773509030671\n",
      "Accuracy score : 0.6305603697284806\n",
      "\n",
      "Fold_5 Training ================================\n",
      "\n",
      "Learning rate set to 0.08052\n",
      "0:\tlearn: 1.0057084\ttest: 1.0071524\tbest: 1.0071524 (0)\ttotal: 382ms\tremaining: 6m 21s\n",
      "100:\tlearn: 0.5618999\ttest: 0.6198154\tbest: 0.6198154 (100)\ttotal: 38s\tremaining: 5m 38s\n",
      "200:\tlearn: 0.5175481\ttest: 0.6030739\tbest: 0.6029349 (198)\ttotal: 1m 14s\tremaining: 4m 56s\n",
      "300:\tlearn: 0.4883140\ttest: 0.5970243\tbest: 0.5969892 (296)\ttotal: 1m 50s\tremaining: 4m 17s\n",
      "400:\tlearn: 0.4673362\ttest: 0.5944679\tbest: 0.5944601 (399)\ttotal: 2m 26s\tremaining: 3m 38s\n",
      "500:\tlearn: 0.4495438\ttest: 0.5933082\tbest: 0.5933082 (500)\ttotal: 3m 1s\tremaining: 3m\n",
      "600:\tlearn: 0.4321920\ttest: 0.5930712\tbest: 0.5928833 (587)\ttotal: 3m 37s\tremaining: 2m 24s\n",
      "700:\tlearn: 0.4169247\ttest: 0.5923688\tbest: 0.5923558 (696)\ttotal: 4m 12s\tremaining: 1m 47s\n",
      "800:\tlearn: 0.4020281\ttest: 0.5921825\tbest: 0.5919494 (760)\ttotal: 4m 48s\tremaining: 1m 11s\n",
      "900:\tlearn: 0.3899399\ttest: 0.5920115\tbest: 0.5919494 (760)\ttotal: 5m 23s\tremaining: 35.6s\n",
      "999:\tlearn: 0.3770733\ttest: 0.5913234\tbest: 0.5911263 (981)\ttotal: 5m 58s\tremaining: 0us\n",
      "bestTest = 0.5911263006\n",
      "bestIteration = 981\n",
      "Shrink model to first 982 iterations.\n",
      "Kappa score : 0.7941145936818715\n",
      "Accuracy score : 0.6325823223570191\n"
     ]
    }
   ],
   "source": [
    "import torch\n",
    "from catboost import CatBoostClassifier, Pool, CatBoostRegressor\n",
    "from sklearn.metrics import accuracy_score\n",
    "device = 'GPU' if torch.cuda.is_available() else 'CPU'\n",
    "print(f\"Running on {device}\")\n",
    "oof=[]\n",
    "cat_models=[]\n",
    "val_errs = []\n",
    "accs=[]\n",
    "n_splits = 5\n",
    "i=1\n",
    "skf = StratifiedKFold(n_splits=n_splits, shuffle=True, random_state=0)\n",
    "for train_index, test_index in skf.split(X, y_split):\n",
    "    Xtrain, Xval = X[train_index], X[test_index]\n",
    "    Ytrain, Yval = y_split[train_index], y_split[test_index]\n",
    "    cat_model = CatBoostRegressor(task_type=device, loss_function=\"RMSE\")\n",
    "    train_pool = Pool(data=Xtrain, label = Ytrain)\n",
    "    valid_pool = Pool(data = Xval, label = Yval)\n",
    "    print('\\nFold_{} Training ================================\\n'.format(i))\n",
    "    cat_model.fit(train_pool,\n",
    "                 verbose=100,\n",
    "                 eval_set=valid_pool)\n",
    "    pred_val = cat_model.predict(Xtest)\n",
    "    oof.append(pred_val)\n",
    "    err = cohen_kappa_score(y_split_test, pred_val.clip(1, 6).round(), weights='quadratic')\n",
    "    acc = accuracy_score(y_split_test, pred_val.clip(1, 6).round())\n",
    "    print(f\"Kappa score : {err}\\nAccuracy score : {acc}\")\n",
    "    val_errs.append(err)\n",
    "    accs.append(acc)\n",
    "    cat_models.append(cat_model)\n",
    "    i+=1\n",
    "    del Xtrain, Ytrain, Xval, Yval, train_pool, valid_pool\n",
    "    gc.collect()"
   ]
  },
  {
   "cell_type": "markdown",
   "id": "2dabbb53",
   "metadata": {
    "papermill": {
     "duration": 0.02655,
     "end_time": "2024-04-13T17:56:45.574407",
     "exception": false,
     "start_time": "2024-04-13T17:56:45.547857",
     "status": "completed"
    },
    "tags": []
   },
   "source": [
    "# **Inference**"
   ]
  },
  {
   "cell_type": "code",
   "execution_count": 16,
   "id": "5bcaf7be",
   "metadata": {
    "execution": {
     "iopub.execute_input": "2024-04-13T17:56:45.634985Z",
     "iopub.status.busy": "2024-04-13T17:56:45.634629Z",
     "iopub.status.idle": "2024-04-13T17:56:45.997904Z",
     "shell.execute_reply": "2024-04-13T17:56:45.995803Z"
    },
    "papermill": {
     "duration": 0.393596,
     "end_time": "2024-04-13T17:56:46.000472",
     "exception": false,
     "start_time": "2024-04-13T17:56:45.606876",
     "status": "completed"
    },
    "tags": []
   },
   "outputs": [
    {
     "name": "stdout",
     "output_type": "stream",
     "text": [
      "Features number:  8741\n"
     ]
    },
    {
     "data": {
      "text/html": [
       "<div>\n",
       "<style scoped>\n",
       "    .dataframe tbody tr th:only-of-type {\n",
       "        vertical-align: middle;\n",
       "    }\n",
       "\n",
       "    .dataframe tbody tr th {\n",
       "        vertical-align: top;\n",
       "    }\n",
       "\n",
       "    .dataframe thead th {\n",
       "        text-align: right;\n",
       "    }\n",
       "</style>\n",
       "<table border=\"1\" class=\"dataframe\">\n",
       "  <thead>\n",
       "    <tr style=\"text-align: right;\">\n",
       "      <th></th>\n",
       "      <th>essay_id</th>\n",
       "      <th>paragraph_50_cnt</th>\n",
       "      <th>paragraph_75_cnt</th>\n",
       "      <th>paragraph_100_cnt</th>\n",
       "      <th>paragraph_125_cnt</th>\n",
       "      <th>paragraph_150_cnt</th>\n",
       "      <th>paragraph_175_cnt</th>\n",
       "      <th>paragraph_200_cnt</th>\n",
       "      <th>paragraph_250_cnt</th>\n",
       "      <th>paragraph_300_cnt</th>\n",
       "      <th>...</th>\n",
       "      <th>tfid_8662</th>\n",
       "      <th>tfid_8663</th>\n",
       "      <th>tfid_8664</th>\n",
       "      <th>tfid_8665</th>\n",
       "      <th>tfid_8666</th>\n",
       "      <th>tfid_8667</th>\n",
       "      <th>tfid_8668</th>\n",
       "      <th>tfid_8669</th>\n",
       "      <th>tfid_8670</th>\n",
       "      <th>tfid_8671</th>\n",
       "    </tr>\n",
       "  </thead>\n",
       "  <tbody>\n",
       "    <tr>\n",
       "      <th>0</th>\n",
       "      <td>000d118</td>\n",
       "      <td>1</td>\n",
       "      <td>1</td>\n",
       "      <td>1</td>\n",
       "      <td>1</td>\n",
       "      <td>1</td>\n",
       "      <td>1</td>\n",
       "      <td>1</td>\n",
       "      <td>1</td>\n",
       "      <td>1</td>\n",
       "      <td>...</td>\n",
       "      <td>0.0</td>\n",
       "      <td>0.0</td>\n",
       "      <td>0.0</td>\n",
       "      <td>0.0</td>\n",
       "      <td>0.0</td>\n",
       "      <td>0.023801</td>\n",
       "      <td>0.048692</td>\n",
       "      <td>0.0</td>\n",
       "      <td>0.0</td>\n",
       "      <td>0.0</td>\n",
       "    </tr>\n",
       "    <tr>\n",
       "      <th>1</th>\n",
       "      <td>000fe60</td>\n",
       "      <td>5</td>\n",
       "      <td>5</td>\n",
       "      <td>5</td>\n",
       "      <td>5</td>\n",
       "      <td>5</td>\n",
       "      <td>5</td>\n",
       "      <td>4</td>\n",
       "      <td>3</td>\n",
       "      <td>3</td>\n",
       "      <td>...</td>\n",
       "      <td>0.0</td>\n",
       "      <td>0.0</td>\n",
       "      <td>0.0</td>\n",
       "      <td>0.0</td>\n",
       "      <td>0.0</td>\n",
       "      <td>0.000000</td>\n",
       "      <td>0.000000</td>\n",
       "      <td>0.0</td>\n",
       "      <td>0.0</td>\n",
       "      <td>0.0</td>\n",
       "    </tr>\n",
       "    <tr>\n",
       "      <th>2</th>\n",
       "      <td>001ab80</td>\n",
       "      <td>4</td>\n",
       "      <td>4</td>\n",
       "      <td>4</td>\n",
       "      <td>4</td>\n",
       "      <td>4</td>\n",
       "      <td>4</td>\n",
       "      <td>4</td>\n",
       "      <td>4</td>\n",
       "      <td>4</td>\n",
       "      <td>...</td>\n",
       "      <td>0.0</td>\n",
       "      <td>0.0</td>\n",
       "      <td>0.0</td>\n",
       "      <td>0.0</td>\n",
       "      <td>0.0</td>\n",
       "      <td>0.000000</td>\n",
       "      <td>0.000000</td>\n",
       "      <td>0.0</td>\n",
       "      <td>0.0</td>\n",
       "      <td>0.0</td>\n",
       "    </tr>\n",
       "  </tbody>\n",
       "</table>\n",
       "<p>3 rows × 8742 columns</p>\n",
       "</div>"
      ],
      "text/plain": [
       "  essay_id  paragraph_50_cnt  paragraph_75_cnt  paragraph_100_cnt  \\\n",
       "0  000d118                 1                 1                  1   \n",
       "1  000fe60                 5                 5                  5   \n",
       "2  001ab80                 4                 4                  4   \n",
       "\n",
       "   paragraph_125_cnt  paragraph_150_cnt  paragraph_175_cnt  paragraph_200_cnt  \\\n",
       "0                  1                  1                  1                  1   \n",
       "1                  5                  5                  5                  4   \n",
       "2                  4                  4                  4                  4   \n",
       "\n",
       "   paragraph_250_cnt  paragraph_300_cnt  ...  tfid_8662  tfid_8663  tfid_8664  \\\n",
       "0                  1                  1  ...        0.0        0.0        0.0   \n",
       "1                  3                  3  ...        0.0        0.0        0.0   \n",
       "2                  4                  4  ...        0.0        0.0        0.0   \n",
       "\n",
       "   tfid_8665  tfid_8666  tfid_8667  tfid_8668  tfid_8669  tfid_8670  tfid_8671  \n",
       "0        0.0        0.0   0.023801   0.048692        0.0        0.0        0.0  \n",
       "1        0.0        0.0   0.000000   0.000000        0.0        0.0        0.0  \n",
       "2        0.0        0.0   0.000000   0.000000        0.0        0.0        0.0  \n",
       "\n",
       "[3 rows x 8742 columns]"
      ]
     },
     "execution_count": 16,
     "metadata": {},
     "output_type": "execute_result"
    }
   ],
   "source": [
    "# Paragraph\n",
    "tmp = Paragraph_Preprocess(test)\n",
    "test_feats = Paragraph_Eng(tmp)\n",
    "# Sentence\n",
    "tmp = Sentence_Preprocess(test)\n",
    "test_feats = test_feats.merge(Sentence_Eng(tmp), on='essay_id', how='left')\n",
    "# Word\n",
    "tmp = Word_Preprocess(test)\n",
    "test_feats = test_feats.merge(Word_Eng(tmp), on='essay_id', how='left')\n",
    "# Tfidf\n",
    "test_tfid = vectorizer.transform([i for i in test['full_text']])\n",
    "dense_matrix = test_tfid.toarray()\n",
    "df = pd.DataFrame(dense_matrix)\n",
    "tfid_columns = [ f'tfid_{i}' for i in range(len(df.columns))]\n",
    "df.columns = tfid_columns\n",
    "df['essay_id'] = test_feats['essay_id']\n",
    "test_feats = test_feats.merge(df, on='essay_id', how='left')\n",
    "# Features number\n",
    "feature_names = list(filter(lambda x: x not in ['essay_id','score'], test_feats.columns))\n",
    "print('Features number: ',len(feature_names))\n",
    "test_feats.head(3)"
   ]
  },
  {
   "cell_type": "code",
   "execution_count": 17,
   "id": "e5c460e6",
   "metadata": {
    "execution": {
     "iopub.execute_input": "2024-04-13T17:56:46.061139Z",
     "iopub.status.busy": "2024-04-13T17:56:46.060399Z",
     "iopub.status.idle": "2024-04-13T17:56:46.071961Z",
     "shell.execute_reply": "2024-04-13T17:56:46.071100Z"
    },
    "papermill": {
     "duration": 0.041655,
     "end_time": "2024-04-13T17:56:46.074248",
     "exception": false,
     "start_time": "2024-04-13T17:56:46.032593",
     "status": "completed"
    },
    "tags": []
   },
   "outputs": [],
   "source": [
    "Xsub = test_feats[feature_names].values"
   ]
  },
  {
   "cell_type": "code",
   "execution_count": 18,
   "id": "08a690b1",
   "metadata": {
    "execution": {
     "iopub.execute_input": "2024-04-13T17:56:46.132333Z",
     "iopub.status.busy": "2024-04-13T17:56:46.132016Z",
     "iopub.status.idle": "2024-04-13T17:56:46.296163Z",
     "shell.execute_reply": "2024-04-13T17:56:46.295219Z"
    },
    "papermill": {
     "duration": 0.193689,
     "end_time": "2024-04-13T17:56:46.298238",
     "exception": false,
     "start_time": "2024-04-13T17:56:46.104549",
     "status": "completed"
    },
    "tags": []
   },
   "outputs": [
    {
     "name": "stdout",
     "output_type": "stream",
     "text": [
      "[2.00335044 2.86441543 4.44708621]\n"
     ]
    }
   ],
   "source": [
    "probabilities = []\n",
    "for model in models:\n",
    "    proba= model.predict(test_feats[feature_names])+ a\n",
    "    probabilities.append(proba)\n",
    "# Compute the average probabilities across all models\n",
    "predictions = np.mean(probabilities, axis=0)\n",
    "\n",
    "\n",
    "\n",
    "# Print the predictions\n",
    "print(predictions)\n"
   ]
  },
  {
   "cell_type": "code",
   "execution_count": 19,
   "id": "a02e6d0b",
   "metadata": {
    "execution": {
     "iopub.execute_input": "2024-04-13T17:56:46.354359Z",
     "iopub.status.busy": "2024-04-13T17:56:46.354044Z",
     "iopub.status.idle": "2024-04-13T17:56:46.917663Z",
     "shell.execute_reply": "2024-04-13T17:56:46.916465Z"
    },
    "papermill": {
     "duration": 0.593942,
     "end_time": "2024-04-13T17:56:46.919840",
     "exception": false,
     "start_time": "2024-04-13T17:56:46.325898",
     "status": "completed"
    },
    "tags": []
   },
   "outputs": [
    {
     "name": "stdout",
     "output_type": "stream",
     "text": [
      "[2.08549759 2.96308009 4.37505551]\n"
     ]
    }
   ],
   "source": [
    "preds = []\n",
    "for model in cat_models:\n",
    "    pred = model.predict(Xsub)\n",
    "    preds.append(pred)\n",
    "    \n",
    "cat_pred = np.mean(preds, axis=0).reshape(len(Xsub))\n",
    "\n",
    "\n",
    "print(cat_pred)"
   ]
  },
  {
   "cell_type": "code",
   "execution_count": 20,
   "id": "8c827632",
   "metadata": {
    "execution": {
     "iopub.execute_input": "2024-04-13T17:56:46.975761Z",
     "iopub.status.busy": "2024-04-13T17:56:46.975486Z",
     "iopub.status.idle": "2024-04-13T17:56:46.980975Z",
     "shell.execute_reply": "2024-04-13T17:56:46.980095Z"
    },
    "papermill": {
     "duration": 0.035583,
     "end_time": "2024-04-13T17:56:46.983020",
     "exception": false,
     "start_time": "2024-04-13T17:56:46.947437",
     "status": "completed"
    },
    "tags": []
   },
   "outputs": [
    {
     "name": "stdout",
     "output_type": "stream",
     "text": [
      "[2.04442401 2.91374776 4.41107086]\n",
      "[2. 3. 4.]\n"
     ]
    }
   ],
   "source": [
    "final_pred = (cat_pred+predictions)/2\n",
    "print(final_pred)\n",
    "final_pred = np.round(final_pred.clip(1, 6))\n",
    "print(final_pred)"
   ]
  },
  {
   "cell_type": "code",
   "execution_count": 21,
   "id": "1de1faa4",
   "metadata": {
    "execution": {
     "iopub.execute_input": "2024-04-13T17:56:47.038362Z",
     "iopub.status.busy": "2024-04-13T17:56:47.038091Z",
     "iopub.status.idle": "2024-04-13T17:56:47.041639Z",
     "shell.execute_reply": "2024-04-13T17:56:47.040841Z"
    },
    "papermill": {
     "duration": 0.033192,
     "end_time": "2024-04-13T17:56:47.043483",
     "exception": false,
     "start_time": "2024-04-13T17:56:47.010291",
     "status": "completed"
    },
    "tags": []
   },
   "outputs": [],
   "source": [
    "#test_vector=new_pipeline.transform(test['text'])\n",
    "#predictions=lgb_model.predict(test_vector)\n",
    "#predictions"
   ]
  },
  {
   "cell_type": "code",
   "execution_count": 22,
   "id": "d7397d9b",
   "metadata": {
    "execution": {
     "iopub.execute_input": "2024-04-13T17:56:47.097903Z",
     "iopub.status.busy": "2024-04-13T17:56:47.097652Z",
     "iopub.status.idle": "2024-04-13T17:56:47.104489Z",
     "shell.execute_reply": "2024-04-13T17:56:47.103637Z"
    },
    "papermill": {
     "duration": 0.036205,
     "end_time": "2024-04-13T17:56:47.106375",
     "exception": false,
     "start_time": "2024-04-13T17:56:47.070170",
     "status": "completed"
    },
    "tags": []
   },
   "outputs": [
    {
     "data": {
      "text/plain": [
       "\"\\nprobabilities = []\\n\\n# Iterate over each model in the list of models\\nfor model in models:\\n    # Make predictions using the current model\\n    print(model.predict(test['text']))\\n    \\n    # Compute decision scores for the current model\\n    decision_scores = model.decision_function(test['text'])\\n    \\n    # Convert decision scores to probabilities using the sigmoid function\\n    proba = 1 / (1 + np.exp(-decision_scores))\\n    # Append the probabilities to the list\\n    probabilities.append(proba)\\n\\n# Compute the average probabilities across all models\\nprobabilities = np.mean(probabilities, axis=0)\\n\\n# Determine the predicted class by selecting the class with the highest probability\\n# Add 1 to the index to match the class labels (assuming classes start from 1)\\npredictions = np.argmax(probabilities, axis=1) + 1\\n\\n# Print the predictions\\nprint(predictions)\\n\""
      ]
     },
     "execution_count": 22,
     "metadata": {},
     "output_type": "execute_result"
    }
   ],
   "source": [
    "#predictions = model.predict(test['text'])\n",
    "#predictions\n",
    "# Initialize an empty list to store probabilities for each model\n",
    "\"\"\"\n",
    "probabilities = []\n",
    "\n",
    "# Iterate over each model in the list of models\n",
    "for model in models:\n",
    "    # Make predictions using the current model\n",
    "    print(model.predict(test['text']))\n",
    "    \n",
    "    # Compute decision scores for the current model\n",
    "    decision_scores = model.decision_function(test['text'])\n",
    "    \n",
    "    # Convert decision scores to probabilities using the sigmoid function\n",
    "    proba = 1 / (1 + np.exp(-decision_scores))\n",
    "    # Append the probabilities to the list\n",
    "    probabilities.append(proba)\n",
    "\n",
    "# Compute the average probabilities across all models\n",
    "probabilities = np.mean(probabilities, axis=0)\n",
    "\n",
    "# Determine the predicted class by selecting the class with the highest probability\n",
    "# Add 1 to the index to match the class labels (assuming classes start from 1)\n",
    "predictions = np.argmax(probabilities, axis=1) + 1\n",
    "\n",
    "# Print the predictions\n",
    "print(predictions)\n",
    "\"\"\""
   ]
  },
  {
   "cell_type": "code",
   "execution_count": 23,
   "id": "df1bf6e5",
   "metadata": {
    "execution": {
     "iopub.execute_input": "2024-04-13T17:56:47.161097Z",
     "iopub.status.busy": "2024-04-13T17:56:47.160798Z",
     "iopub.status.idle": "2024-04-13T17:56:47.187846Z",
     "shell.execute_reply": "2024-04-13T17:56:47.187042Z"
    },
    "papermill": {
     "duration": 0.056714,
     "end_time": "2024-04-13T17:56:47.189743",
     "exception": false,
     "start_time": "2024-04-13T17:56:47.133029",
     "status": "completed"
    },
    "tags": []
   },
   "outputs": [
    {
     "data": {
      "text/html": [
       "<div>\n",
       "<style scoped>\n",
       "    .dataframe tbody tr th:only-of-type {\n",
       "        vertical-align: middle;\n",
       "    }\n",
       "\n",
       "    .dataframe tbody tr th {\n",
       "        vertical-align: top;\n",
       "    }\n",
       "\n",
       "    .dataframe thead th {\n",
       "        text-align: right;\n",
       "    }\n",
       "</style>\n",
       "<table border=\"1\" class=\"dataframe\">\n",
       "  <thead>\n",
       "    <tr style=\"text-align: right;\">\n",
       "      <th></th>\n",
       "      <th>essay_id</th>\n",
       "      <th>score</th>\n",
       "    </tr>\n",
       "  </thead>\n",
       "  <tbody>\n",
       "    <tr>\n",
       "      <th>0</th>\n",
       "      <td>000d118</td>\n",
       "      <td>2</td>\n",
       "    </tr>\n",
       "    <tr>\n",
       "      <th>1</th>\n",
       "      <td>000fe60</td>\n",
       "      <td>3</td>\n",
       "    </tr>\n",
       "    <tr>\n",
       "      <th>2</th>\n",
       "      <td>001ab80</td>\n",
       "      <td>4</td>\n",
       "    </tr>\n",
       "  </tbody>\n",
       "</table>\n",
       "</div>"
      ],
      "text/plain": [
       "  essay_id  score\n",
       "0  000d118      2\n",
       "1  000fe60      3\n",
       "2  001ab80      4"
      ]
     },
     "metadata": {},
     "output_type": "display_data"
    }
   ],
   "source": [
    "submission=pd.read_csv(\"/kaggle/input/learning-agency-lab-automated-essay-scoring-2/sample_submission.csv\")\n",
    "submission['score']=final_pred\n",
    "submission['score']=submission['score'].astype(int)\n",
    "submission.to_csv(\"submission.csv\",index=None)\n",
    "display(submission.head())"
   ]
  }
 ],
 "metadata": {
  "kaggle": {
   "accelerator": "none",
   "dataSources": [
    {
     "databundleVersionId": 8059942,
     "sourceId": 71485,
     "sourceType": "competition"
    },
    {
     "sourceId": 170434135,
     "sourceType": "kernelVersion"
    },
    {
     "sourceId": 170531930,
     "sourceType": "kernelVersion"
    }
   ],
   "dockerImageVersionId": 30673,
   "isGpuEnabled": false,
   "isInternetEnabled": false,
   "language": "python",
   "sourceType": "notebook"
  },
  "kernelspec": {
   "display_name": "Python 3",
   "language": "python",
   "name": "python3"
  },
  "language_info": {
   "codemirror_mode": {
    "name": "ipython",
    "version": 3
   },
   "file_extension": ".py",
   "mimetype": "text/x-python",
   "name": "python",
   "nbconvert_exporter": "python",
   "pygments_lexer": "ipython3",
   "version": "3.10.13"
  },
  "papermill": {
   "default_parameters": {},
   "duration": 2552.413556,
   "end_time": "2024-04-13T17:56:49.975529",
   "environment_variables": {},
   "exception": null,
   "input_path": "__notebook__.ipynb",
   "output_path": "__notebook__.ipynb",
   "parameters": {},
   "start_time": "2024-04-13T17:14:17.561973",
   "version": "2.5.0"
  }
 },
 "nbformat": 4,
 "nbformat_minor": 5
}
