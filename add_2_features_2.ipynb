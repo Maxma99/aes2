{
 "cells": [
  {
   "cell_type": "code",
   "execution_count": 2,
   "metadata": {},
   "outputs": [
    {
     "name": "stderr",
     "output_type": "stream",
     "text": [
      "2024-06-20 11:15:39.559566: I tensorflow/core/util/port.cc:113] oneDNN custom operations are on. You may see slightly different numerical results due to floating-point round-off errors from different computation orders. To turn them off, set the environment variable `TF_ENABLE_ONEDNN_OPTS=0`.\n",
      "2024-06-20 11:15:39.598209: E external/local_xla/xla/stream_executor/cuda/cuda_dnn.cc:9261] Unable to register cuDNN factory: Attempting to register factory for plugin cuDNN when one has already been registered\n",
      "2024-06-20 11:15:39.598239: E external/local_xla/xla/stream_executor/cuda/cuda_fft.cc:607] Unable to register cuFFT factory: Attempting to register factory for plugin cuFFT when one has already been registered\n",
      "2024-06-20 11:15:39.599525: E external/local_xla/xla/stream_executor/cuda/cuda_blas.cc:1515] Unable to register cuBLAS factory: Attempting to register factory for plugin cuBLAS when one has already been registered\n",
      "2024-06-20 11:15:39.606250: I tensorflow/core/platform/cpu_feature_guard.cc:182] This TensorFlow binary is optimized to use available CPU instructions in performance-critical operations.\n",
      "To enable the following instructions: AVX2 AVX512F AVX512_VNNI FMA, in other operations, rebuild TensorFlow with the appropriate compiler flags.\n",
      "2024-06-20 11:15:40.344562: W tensorflow/compiler/tf2tensorrt/utils/py_utils.cc:38] TF-TRT Warning: Could not find TensorRT\n",
      "2024-06-20 11:15:43.474276: I tensorflow/core/common_runtime/gpu/gpu_device.cc:1929] Created device /job:localhost/replica:0/task:0/device:GPU:0 with 21720 MB memory:  -> device: 0, name: NVIDIA GeForce RTX 3090, pci bus id: 0000:57:00.0, compute capability: 8.6\n"
     ]
    }
   ],
   "source": [
    "import gc\n",
    "import lightgbm as lgb\n",
    "from sklearn.ensemble import VotingRegressor\n",
    "import numpy as np # linear algebra\n",
    "import pandas as pd # data processing, CSV file I/O (e.g. pd.read_csv)\n",
    "import re\n",
    "import spacy\n",
    "import string\n",
    "import random\n",
    "from sklearn.model_selection import train_test_split, GridSearchCV, RandomizedSearchCV\n",
    "from sklearn.ensemble import GradientBoostingClassifier,BaggingClassifier\n",
    "from sklearn.feature_extraction.text import CountVectorizer,TfidfVectorizer, HashingVectorizer\n",
    "from sklearn.pipeline import Pipeline\n",
    "from sklearn.feature_selection import SelectFromModel\n",
    "import matplotlib.pyplot as plt\n",
    "from sklearn.datasets import make_classification\n",
    "from sklearn.model_selection import train_test_split, StratifiedKFold\n",
    "from sklearn.metrics import confusion_matrix, ConfusionMatrixDisplay, f1_score\n",
    "from sklearn.metrics import cohen_kappa_score\n",
    "from lightgbm import log_evaluation, early_stopping\n",
    "from sklearn.linear_model import SGDClassifier\n",
    "import polars as pl\n",
    "import joblib\n",
    "\n",
    "import tensorflow_hub as hub\n",
    "import tensorflow as tf\n",
    "import statistics\n",
    "import math\n",
    "\n",
    "\n",
    "PATH = \"kaggle/input/learning-agency-lab-automated-essay-scoring-2/\"\n",
    "train = pd.read_csv(PATH + \"train.csv\")\n",
    "\n",
    "\n",
    "\n",
    "\n",
    "def predict_chunk(train: pd.DataFrame) -> pd.DataFrame:\n",
    "\n",
    "    embed = hub.load(\"https://www.kaggle.com/models/google/universal-sentence-encoder/TensorFlow2/universal-sentence-encoder/2\")\n",
    "\n",
    "\n",
    "    sentence_encoder = hub.KerasLayer(embed)\n",
    "\n",
    "\n",
    "    # train\n",
    "    sencode_corpus = []\n",
    "    def use_function(corpus, column_name):        \n",
    "        \n",
    "        for x in corpus[column_name]:\n",
    "      \n",
    "            if len(x.split('.'))<2:\n",
    "                sencode_essay = [0.]*512\n",
    "\n",
    "            else:\n",
    "                enc_raw = sentence_encoder(x.split('.'))[:-1]\n",
    "                sencode_essay = tf.math.reduce_sum(enc_raw, 0).numpy()/math.sqrt(len(x.split('.')))\n",
    "\n",
    "            sencode_corpus.append(sencode_essay)\n",
    "        return sencode_corpus\n",
    "\n",
    "\n",
    "\n",
    "    corpus = train\n",
    "    column_name = 'full_text'\n",
    "    sencode_corpus = use_function(corpus, column_name)\n",
    "    sencode = pd.DataFrame(sencode_corpus)\n",
    "    # rename features\n",
    "    sencode_columns = [ f'sencode_{i}' for i in range(len(sencode.columns))]\n",
    "    sencode.columns = sencode_columns\n",
    "    # Merge the newly generated feature data with the previously generated feature data\n",
    "    sencode['essay_id'] = train['essay_id']\n",
    "    train = train.merge(sencode, on='essay_id', how='left')\n",
    "    train = train.drop(columns = ['essay_id', 'full_text','score'])\n",
    "\n",
    "    return train\n",
    "\n",
    "\n"
   ]
  },
  {
   "cell_type": "code",
   "execution_count": 3,
   "metadata": {},
   "outputs": [],
   "source": [
    "if __name__ == \"__main__\":\n",
    "    submission_1 = predict_chunk(train)\n",
    "    #submission.to_pickle('/home/mcq/GitHub/aes2/train_data/argument-feat.pkl')\n",
    "    #submission.head(3)\n"
   ]
  }
 ],
 "metadata": {
  "kernelspec": {
   "display_name": "aes",
   "language": "python",
   "name": "python3"
  },
  "language_info": {
   "codemirror_mode": {
    "name": "ipython",
    "version": 3
   },
   "file_extension": ".py",
   "mimetype": "text/x-python",
   "name": "python",
   "nbconvert_exporter": "python",
   "pygments_lexer": "ipython3",
   "version": "3.10.14"
  }
 },
 "nbformat": 4,
 "nbformat_minor": 2
}
